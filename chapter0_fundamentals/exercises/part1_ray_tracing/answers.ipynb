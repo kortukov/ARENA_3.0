{
 "cells": [
  {
   "cell_type": "code",
   "execution_count": 56,
   "metadata": {},
   "outputs": [
    {
     "ename": "ImportError",
     "evalue": "cannot import name 'jaxtype' from 'jaxtyping' (/Users/kortukov/miniconda3/envs/arena-env/lib/python3.11/site-packages/jaxtyping/__init__.py)",
     "output_type": "error",
     "traceback": [
      "\u001b[0;31m---------------------------------------------------------------------------\u001b[0m",
      "\u001b[0;31mImportError\u001b[0m                               Traceback (most recent call last)",
      "Cell \u001b[0;32mIn[56], line 12\u001b[0m\n\u001b[1;32m     10\u001b[0m \u001b[38;5;28;01mfrom\u001b[39;00m \u001b[38;5;21;01mpathlib\u001b[39;00m \u001b[38;5;28;01mimport\u001b[39;00m Path\n\u001b[1;32m     11\u001b[0m \u001b[38;5;28;01mfrom\u001b[39;00m \u001b[38;5;21;01mIPython\u001b[39;00m\u001b[38;5;21;01m.\u001b[39;00m\u001b[38;5;21;01mdisplay\u001b[39;00m \u001b[38;5;28;01mimport\u001b[39;00m display\n\u001b[0;32m---> 12\u001b[0m \u001b[38;5;28;01mfrom\u001b[39;00m \u001b[38;5;21;01mjaxtyping\u001b[39;00m \u001b[38;5;28;01mimport\u001b[39;00m Float, Int, Bool, Shaped, jaxtype\n\u001b[1;32m     13\u001b[0m \u001b[38;5;28;01mimport\u001b[39;00m \u001b[38;5;21;01mtypeguard\u001b[39;00m\n\u001b[1;32m     15\u001b[0m \u001b[38;5;66;03m# Make sure exercises are in the path\u001b[39;00m\n",
      "\u001b[0;31mImportError\u001b[0m: cannot import name 'jaxtype' from 'jaxtyping' (/Users/kortukov/miniconda3/envs/arena-env/lib/python3.11/site-packages/jaxtyping/__init__.py)"
     ]
    }
   ],
   "source": [
    "import os\n",
    "import sys\n",
    "import torch as t\n",
    "from torch import Tensor\n",
    "import einops\n",
    "from ipywidgets import interact\n",
    "import plotly.express as px\n",
    "\n",
    "from ipywidgets import interact\n",
    "from pathlib import Path\n",
    "from IPython.display import display\n",
    "from jaxtyping import Float, Int, Bool, Shaped, jaxtype\n",
    "import typeguard\n",
    "\n",
    "# Make sure exercises are in the path\n",
    "chapter = r\"chapter0_fundamentals\"\n",
    "exercises_dir = Path(f\"{os.getcwd().split(chapter)[0]}/{chapter}/exercises\").resolve()\n",
    "section_dir = exercises_dir / \"part1_ray_tracing\"\n",
    "if str(exercises_dir) not in sys.path: sys.path.append(str(exercises_dir))\n",
    "\n",
    "from plotly_utils import imshow\n",
    "from part1_ray_tracing.utils import render_lines_with_plotly, setup_widget_fig_ray, setup_widget_fig_triangle\n",
    "import part1_ray_tracing.tests as tests\n",
    "\n",
    "MAIN = __name__ == \"__main__\""
   ]
  },
  {
   "cell_type": "code",
   "execution_count": 4,
   "metadata": {},
   "outputs": [
    {
     "data": {
      "application/vnd.plotly.v1+json": {
       "config": {
        "plotlyServerURL": "https://plot.ly"
       },
       "data": [
        {
         "mode": "lines",
         "type": "scatter3d",
         "x": [
          0,
          1
         ],
         "y": [
          0,
          -10
         ],
         "z": [
          0,
          0
         ]
        },
        {
         "mode": "lines",
         "type": "scatter3d",
         "x": [
          0,
          1
         ],
         "y": [
          0,
          -7.5
         ],
         "z": [
          0,
          0
         ]
        },
        {
         "mode": "lines",
         "type": "scatter3d",
         "x": [
          0,
          1
         ],
         "y": [
          0,
          -5
         ],
         "z": [
          0,
          0
         ]
        },
        {
         "mode": "lines",
         "type": "scatter3d",
         "x": [
          0,
          1
         ],
         "y": [
          0,
          -2.5
         ],
         "z": [
          0,
          0
         ]
        },
        {
         "mode": "lines",
         "type": "scatter3d",
         "x": [
          0,
          1
         ],
         "y": [
          0,
          0
         ],
         "z": [
          0,
          0
         ]
        },
        {
         "mode": "lines",
         "type": "scatter3d",
         "x": [
          0,
          1
         ],
         "y": [
          0,
          2.5
         ],
         "z": [
          0,
          0
         ]
        },
        {
         "mode": "lines",
         "type": "scatter3d",
         "x": [
          0,
          1
         ],
         "y": [
          0,
          5
         ],
         "z": [
          0,
          0
         ]
        },
        {
         "mode": "lines",
         "type": "scatter3d",
         "x": [
          0,
          1
         ],
         "y": [
          0,
          7.5
         ],
         "z": [
          0,
          0
         ]
        },
        {
         "mode": "lines",
         "type": "scatter3d",
         "x": [
          0,
          1
         ],
         "y": [
          0,
          10
         ],
         "z": [
          0,
          0
         ]
        }
       ],
       "layout": {
        "height": 600,
        "showlegend": false,
        "template": {
         "data": {
          "bar": [
           {
            "error_x": {
             "color": "#2a3f5f"
            },
            "error_y": {
             "color": "#2a3f5f"
            },
            "marker": {
             "line": {
              "color": "#E5ECF6",
              "width": 0.5
             },
             "pattern": {
              "fillmode": "overlay",
              "size": 10,
              "solidity": 0.2
             }
            },
            "type": "bar"
           }
          ],
          "barpolar": [
           {
            "marker": {
             "line": {
              "color": "#E5ECF6",
              "width": 0.5
             },
             "pattern": {
              "fillmode": "overlay",
              "size": 10,
              "solidity": 0.2
             }
            },
            "type": "barpolar"
           }
          ],
          "carpet": [
           {
            "aaxis": {
             "endlinecolor": "#2a3f5f",
             "gridcolor": "white",
             "linecolor": "white",
             "minorgridcolor": "white",
             "startlinecolor": "#2a3f5f"
            },
            "baxis": {
             "endlinecolor": "#2a3f5f",
             "gridcolor": "white",
             "linecolor": "white",
             "minorgridcolor": "white",
             "startlinecolor": "#2a3f5f"
            },
            "type": "carpet"
           }
          ],
          "choropleth": [
           {
            "colorbar": {
             "outlinewidth": 0,
             "ticks": ""
            },
            "type": "choropleth"
           }
          ],
          "contour": [
           {
            "colorbar": {
             "outlinewidth": 0,
             "ticks": ""
            },
            "colorscale": [
             [
              0,
              "#0d0887"
             ],
             [
              0.1111111111111111,
              "#46039f"
             ],
             [
              0.2222222222222222,
              "#7201a8"
             ],
             [
              0.3333333333333333,
              "#9c179e"
             ],
             [
              0.4444444444444444,
              "#bd3786"
             ],
             [
              0.5555555555555556,
              "#d8576b"
             ],
             [
              0.6666666666666666,
              "#ed7953"
             ],
             [
              0.7777777777777778,
              "#fb9f3a"
             ],
             [
              0.8888888888888888,
              "#fdca26"
             ],
             [
              1,
              "#f0f921"
             ]
            ],
            "type": "contour"
           }
          ],
          "contourcarpet": [
           {
            "colorbar": {
             "outlinewidth": 0,
             "ticks": ""
            },
            "type": "contourcarpet"
           }
          ],
          "heatmap": [
           {
            "colorbar": {
             "outlinewidth": 0,
             "ticks": ""
            },
            "colorscale": [
             [
              0,
              "#0d0887"
             ],
             [
              0.1111111111111111,
              "#46039f"
             ],
             [
              0.2222222222222222,
              "#7201a8"
             ],
             [
              0.3333333333333333,
              "#9c179e"
             ],
             [
              0.4444444444444444,
              "#bd3786"
             ],
             [
              0.5555555555555556,
              "#d8576b"
             ],
             [
              0.6666666666666666,
              "#ed7953"
             ],
             [
              0.7777777777777778,
              "#fb9f3a"
             ],
             [
              0.8888888888888888,
              "#fdca26"
             ],
             [
              1,
              "#f0f921"
             ]
            ],
            "type": "heatmap"
           }
          ],
          "heatmapgl": [
           {
            "colorbar": {
             "outlinewidth": 0,
             "ticks": ""
            },
            "colorscale": [
             [
              0,
              "#0d0887"
             ],
             [
              0.1111111111111111,
              "#46039f"
             ],
             [
              0.2222222222222222,
              "#7201a8"
             ],
             [
              0.3333333333333333,
              "#9c179e"
             ],
             [
              0.4444444444444444,
              "#bd3786"
             ],
             [
              0.5555555555555556,
              "#d8576b"
             ],
             [
              0.6666666666666666,
              "#ed7953"
             ],
             [
              0.7777777777777778,
              "#fb9f3a"
             ],
             [
              0.8888888888888888,
              "#fdca26"
             ],
             [
              1,
              "#f0f921"
             ]
            ],
            "type": "heatmapgl"
           }
          ],
          "histogram": [
           {
            "marker": {
             "pattern": {
              "fillmode": "overlay",
              "size": 10,
              "solidity": 0.2
             }
            },
            "type": "histogram"
           }
          ],
          "histogram2d": [
           {
            "colorbar": {
             "outlinewidth": 0,
             "ticks": ""
            },
            "colorscale": [
             [
              0,
              "#0d0887"
             ],
             [
              0.1111111111111111,
              "#46039f"
             ],
             [
              0.2222222222222222,
              "#7201a8"
             ],
             [
              0.3333333333333333,
              "#9c179e"
             ],
             [
              0.4444444444444444,
              "#bd3786"
             ],
             [
              0.5555555555555556,
              "#d8576b"
             ],
             [
              0.6666666666666666,
              "#ed7953"
             ],
             [
              0.7777777777777778,
              "#fb9f3a"
             ],
             [
              0.8888888888888888,
              "#fdca26"
             ],
             [
              1,
              "#f0f921"
             ]
            ],
            "type": "histogram2d"
           }
          ],
          "histogram2dcontour": [
           {
            "colorbar": {
             "outlinewidth": 0,
             "ticks": ""
            },
            "colorscale": [
             [
              0,
              "#0d0887"
             ],
             [
              0.1111111111111111,
              "#46039f"
             ],
             [
              0.2222222222222222,
              "#7201a8"
             ],
             [
              0.3333333333333333,
              "#9c179e"
             ],
             [
              0.4444444444444444,
              "#bd3786"
             ],
             [
              0.5555555555555556,
              "#d8576b"
             ],
             [
              0.6666666666666666,
              "#ed7953"
             ],
             [
              0.7777777777777778,
              "#fb9f3a"
             ],
             [
              0.8888888888888888,
              "#fdca26"
             ],
             [
              1,
              "#f0f921"
             ]
            ],
            "type": "histogram2dcontour"
           }
          ],
          "mesh3d": [
           {
            "colorbar": {
             "outlinewidth": 0,
             "ticks": ""
            },
            "type": "mesh3d"
           }
          ],
          "parcoords": [
           {
            "line": {
             "colorbar": {
              "outlinewidth": 0,
              "ticks": ""
             }
            },
            "type": "parcoords"
           }
          ],
          "pie": [
           {
            "automargin": true,
            "type": "pie"
           }
          ],
          "scatter": [
           {
            "fillpattern": {
             "fillmode": "overlay",
             "size": 10,
             "solidity": 0.2
            },
            "type": "scatter"
           }
          ],
          "scatter3d": [
           {
            "line": {
             "colorbar": {
              "outlinewidth": 0,
              "ticks": ""
             }
            },
            "marker": {
             "colorbar": {
              "outlinewidth": 0,
              "ticks": ""
             }
            },
            "type": "scatter3d"
           }
          ],
          "scattercarpet": [
           {
            "marker": {
             "colorbar": {
              "outlinewidth": 0,
              "ticks": ""
             }
            },
            "type": "scattercarpet"
           }
          ],
          "scattergeo": [
           {
            "marker": {
             "colorbar": {
              "outlinewidth": 0,
              "ticks": ""
             }
            },
            "type": "scattergeo"
           }
          ],
          "scattergl": [
           {
            "marker": {
             "colorbar": {
              "outlinewidth": 0,
              "ticks": ""
             }
            },
            "type": "scattergl"
           }
          ],
          "scattermapbox": [
           {
            "marker": {
             "colorbar": {
              "outlinewidth": 0,
              "ticks": ""
             }
            },
            "type": "scattermapbox"
           }
          ],
          "scatterpolar": [
           {
            "marker": {
             "colorbar": {
              "outlinewidth": 0,
              "ticks": ""
             }
            },
            "type": "scatterpolar"
           }
          ],
          "scatterpolargl": [
           {
            "marker": {
             "colorbar": {
              "outlinewidth": 0,
              "ticks": ""
             }
            },
            "type": "scatterpolargl"
           }
          ],
          "scatterternary": [
           {
            "marker": {
             "colorbar": {
              "outlinewidth": 0,
              "ticks": ""
             }
            },
            "type": "scatterternary"
           }
          ],
          "surface": [
           {
            "colorbar": {
             "outlinewidth": 0,
             "ticks": ""
            },
            "colorscale": [
             [
              0,
              "#0d0887"
             ],
             [
              0.1111111111111111,
              "#46039f"
             ],
             [
              0.2222222222222222,
              "#7201a8"
             ],
             [
              0.3333333333333333,
              "#9c179e"
             ],
             [
              0.4444444444444444,
              "#bd3786"
             ],
             [
              0.5555555555555556,
              "#d8576b"
             ],
             [
              0.6666666666666666,
              "#ed7953"
             ],
             [
              0.7777777777777778,
              "#fb9f3a"
             ],
             [
              0.8888888888888888,
              "#fdca26"
             ],
             [
              1,
              "#f0f921"
             ]
            ],
            "type": "surface"
           }
          ],
          "table": [
           {
            "cells": {
             "fill": {
              "color": "#EBF0F8"
             },
             "line": {
              "color": "white"
             }
            },
            "header": {
             "fill": {
              "color": "#C8D4E3"
             },
             "line": {
              "color": "white"
             }
            },
            "type": "table"
           }
          ]
         },
         "layout": {
          "annotationdefaults": {
           "arrowcolor": "#2a3f5f",
           "arrowhead": 0,
           "arrowwidth": 1
          },
          "autotypenumbers": "strict",
          "coloraxis": {
           "colorbar": {
            "outlinewidth": 0,
            "ticks": ""
           }
          },
          "colorscale": {
           "diverging": [
            [
             0,
             "#8e0152"
            ],
            [
             0.1,
             "#c51b7d"
            ],
            [
             0.2,
             "#de77ae"
            ],
            [
             0.3,
             "#f1b6da"
            ],
            [
             0.4,
             "#fde0ef"
            ],
            [
             0.5,
             "#f7f7f7"
            ],
            [
             0.6,
             "#e6f5d0"
            ],
            [
             0.7,
             "#b8e186"
            ],
            [
             0.8,
             "#7fbc41"
            ],
            [
             0.9,
             "#4d9221"
            ],
            [
             1,
             "#276419"
            ]
           ],
           "sequential": [
            [
             0,
             "#0d0887"
            ],
            [
             0.1111111111111111,
             "#46039f"
            ],
            [
             0.2222222222222222,
             "#7201a8"
            ],
            [
             0.3333333333333333,
             "#9c179e"
            ],
            [
             0.4444444444444444,
             "#bd3786"
            ],
            [
             0.5555555555555556,
             "#d8576b"
            ],
            [
             0.6666666666666666,
             "#ed7953"
            ],
            [
             0.7777777777777778,
             "#fb9f3a"
            ],
            [
             0.8888888888888888,
             "#fdca26"
            ],
            [
             1,
             "#f0f921"
            ]
           ],
           "sequentialminus": [
            [
             0,
             "#0d0887"
            ],
            [
             0.1111111111111111,
             "#46039f"
            ],
            [
             0.2222222222222222,
             "#7201a8"
            ],
            [
             0.3333333333333333,
             "#9c179e"
            ],
            [
             0.4444444444444444,
             "#bd3786"
            ],
            [
             0.5555555555555556,
             "#d8576b"
            ],
            [
             0.6666666666666666,
             "#ed7953"
            ],
            [
             0.7777777777777778,
             "#fb9f3a"
            ],
            [
             0.8888888888888888,
             "#fdca26"
            ],
            [
             1,
             "#f0f921"
            ]
           ]
          },
          "colorway": [
           "#636efa",
           "#EF553B",
           "#00cc96",
           "#ab63fa",
           "#FFA15A",
           "#19d3f3",
           "#FF6692",
           "#B6E880",
           "#FF97FF",
           "#FECB52"
          ],
          "font": {
           "color": "#2a3f5f"
          },
          "geo": {
           "bgcolor": "white",
           "lakecolor": "white",
           "landcolor": "#E5ECF6",
           "showlakes": true,
           "showland": true,
           "subunitcolor": "white"
          },
          "hoverlabel": {
           "align": "left"
          },
          "hovermode": "closest",
          "mapbox": {
           "style": "light"
          },
          "paper_bgcolor": "white",
          "plot_bgcolor": "#E5ECF6",
          "polar": {
           "angularaxis": {
            "gridcolor": "white",
            "linecolor": "white",
            "ticks": ""
           },
           "bgcolor": "#E5ECF6",
           "radialaxis": {
            "gridcolor": "white",
            "linecolor": "white",
            "ticks": ""
           }
          },
          "scene": {
           "xaxis": {
            "backgroundcolor": "#E5ECF6",
            "gridcolor": "white",
            "gridwidth": 2,
            "linecolor": "white",
            "showbackground": true,
            "ticks": "",
            "zerolinecolor": "white"
           },
           "yaxis": {
            "backgroundcolor": "#E5ECF6",
            "gridcolor": "white",
            "gridwidth": 2,
            "linecolor": "white",
            "showbackground": true,
            "ticks": "",
            "zerolinecolor": "white"
           },
           "zaxis": {
            "backgroundcolor": "#E5ECF6",
            "gridcolor": "white",
            "gridwidth": 2,
            "linecolor": "white",
            "showbackground": true,
            "ticks": "",
            "zerolinecolor": "white"
           }
          },
          "shapedefaults": {
           "line": {
            "color": "#2a3f5f"
           }
          },
          "ternary": {
           "aaxis": {
            "gridcolor": "white",
            "linecolor": "white",
            "ticks": ""
           },
           "baxis": {
            "gridcolor": "white",
            "linecolor": "white",
            "ticks": ""
           },
           "bgcolor": "#E5ECF6",
           "caxis": {
            "gridcolor": "white",
            "linecolor": "white",
            "ticks": ""
           }
          },
          "title": {
           "x": 0.05
          },
          "xaxis": {
           "automargin": true,
           "gridcolor": "white",
           "linecolor": "white",
           "ticks": "",
           "title": {
            "standoff": 15
           },
           "zerolinecolor": "white",
           "zerolinewidth": 2
          },
          "yaxis": {
           "automargin": true,
           "gridcolor": "white",
           "linecolor": "white",
           "ticks": "",
           "title": {
            "standoff": 15
           },
           "zerolinecolor": "white",
           "zerolinewidth": 2
          }
         }
        },
        "title": {
         "text": "3D rays"
        },
        "width": 600
       }
      }
     },
     "metadata": {},
     "output_type": "display_data"
    }
   ],
   "source": [
    "def make_rays_1d(num_pixels: int, y_limit: float) -> t.Tensor:\n",
    "    '''\n",
    "    num_pixels: The number of pixels in the y dimension. Since there is one ray per pixel, this is also the number of rays.\n",
    "    y_limit: At x=1, the rays should extend from -y_limit to +y_limit, inclusive of both endpoints.\n",
    "\n",
    "    Returns: shape (num_pixels, num_points=2, num_dim=3) where the num_points dimension contains (origin, direction) and the num_dim dimension contains xyz.\n",
    "\n",
    "    Example of make_rays_1d(9, 1.0): [\n",
    "        [[0, 0, 0], [1, -1.0, 0]],\n",
    "        [[0, 0, 0], [1, -0.75, 0]],\n",
    "        [[0, 0, 0], [1, -0.5, 0]],\n",
    "        ...\n",
    "        [[0, 0, 0], [1, 0.75, 0]],\n",
    "        [[0, 0, 0], [1, 1, 0]],\n",
    "    ]\n",
    "    '''\n",
    "    origin = t.Tensor([0, 0, 0])\n",
    "    middle = t.tensor([1, 1, 0])\n",
    "    pair = t.stack([origin, middle])\n",
    "\n",
    "    rays = einops.repeat(pair, 'p c -> num_rays p c', num_rays=num_pixels).clone()\n",
    "\n",
    "    t.linspace(-y_limit, y_limit, num_pixels, out=rays[:, 1, 1])\n",
    "\n",
    "    return rays\n",
    "\n",
    "    \n",
    "\n",
    "rays1d = make_rays_1d(9, 10.0)\n",
    "\n",
    "fig = render_lines_with_plotly(rays1d)"
   ]
  },
  {
   "cell_type": "code",
   "execution_count": null,
   "metadata": {},
   "outputs": [],
   "source": []
  },
  {
   "cell_type": "code",
   "execution_count": 5,
   "metadata": {},
   "outputs": [
    {
     "data": {
      "application/vnd.jupyter.widget-view+json": {
       "model_id": "3d4c6dc04ef146ceac547f9287544d40",
       "version_major": 2,
       "version_minor": 0
      },
      "text/plain": [
       "FigureWidget({\n",
       "    'data': [{'type': 'scatter', 'uid': 'a444a574-b8c3-4a5e-a9b4-ee933ba474ad', 'x': [], 'y': []},\n",
       "             {'marker': {'size': 12},\n",
       "              'mode': 'markers',\n",
       "              'type': 'scatter',\n",
       "              'uid': 'd1182889-e2ce-4d3e-9c49-5f7a483eadad',\n",
       "              'x': [],\n",
       "              'y': []},\n",
       "             {'marker': {'size': 12, 'symbol': 'x'},\n",
       "              'mode': 'markers',\n",
       "              'type': 'scatter',\n",
       "              'uid': 'ae9ed712-4fe0-40fa-bc8d-4fe0236fd058',\n",
       "              'x': [],\n",
       "              'y': []}],\n",
       "    'layout': {'height': 500,\n",
       "               'showlegend': False,\n",
       "               'template': '...',\n",
       "               'width': 600,\n",
       "               'xaxis': {'range': [-1.5, 2.5]},\n",
       "               'yaxis': {'range': [-1.5, 2.5]}}\n",
       "})"
      ]
     },
     "metadata": {},
     "output_type": "display_data"
    },
    {
     "data": {
      "application/vnd.jupyter.widget-view+json": {
       "model_id": "3d3043de06df4d5cba4af25958728e19",
       "version_major": 2,
       "version_minor": 0
      },
      "text/plain": [
       "interactive(children=(IntSlider(value=5, description='seed', max=10), FloatSlider(value=0.0, description='v', …"
      ]
     },
     "metadata": {},
     "output_type": "display_data"
    }
   ],
   "source": [
    "fig = setup_widget_fig_ray()\n",
    "display(fig)\n",
    "\n",
    "@interact\n",
    "def response(seed=(0, 10, 1), v=(-2.0, 2.0, 0.01)):\n",
    "    t.manual_seed(seed)\n",
    "    L_1, L_2 = t.rand(2, 2)\n",
    "    P = lambda v: L_1 + v * (L_2 - L_1)\n",
    "    x, y = zip(P(-2), P(2))\n",
    "    with fig.batch_update(): \n",
    "        fig.data[0].update({\"x\": x, \"y\": y}) \n",
    "        fig.data[1].update({\"x\": [L_1[0], L_2[0]], \"y\": [L_1[1], L_2[1]]}) \n",
    "        fig.data[2].update({\"x\": [P(v)[0]], \"y\": [P(v)[1]]})"
   ]
  },
  {
   "cell_type": "code",
   "execution_count": 6,
   "metadata": {},
   "outputs": [],
   "source": [
    "segments = t.tensor([\n",
    "    [[1.0, -12.0, 0.0], [1, -6.0, 0.0]], \n",
    "    [[0.5, 0.1, 0.0], [0.5, 1.15, 0.0]], \n",
    "    [[2, 12.0, 0.0], [2, 21.0, 0.0]]\n",
    "])"
   ]
  },
  {
   "cell_type": "code",
   "execution_count": 7,
   "metadata": {},
   "outputs": [
    {
     "data": {
      "text/plain": [
       "tensor([[  1., -12.,   0.],\n",
       "        [  1.,  -6.,   0.]])"
      ]
     },
     "execution_count": 7,
     "metadata": {},
     "output_type": "execute_result"
    }
   ],
   "source": [
    "segments[0] # intersects with ray to -10 and to -7.5"
   ]
  },
  {
   "cell_type": "code",
   "execution_count": 8,
   "metadata": {},
   "outputs": [
    {
     "data": {
      "text/plain": [
       "tensor([[0.5000, 0.1000, 0.0000],\n",
       "        [0.5000, 1.1500, 0.0000]])"
      ]
     },
     "execution_count": 8,
     "metadata": {},
     "output_type": "execute_result"
    }
   ],
   "source": [
    "segments[1] # intersects with nothing"
   ]
  },
  {
   "cell_type": "code",
   "execution_count": 9,
   "metadata": {},
   "outputs": [
    {
     "data": {
      "text/plain": [
       "tensor([[ 2., 12.,  0.],\n",
       "        [ 2., 21.,  0.]])"
      ]
     },
     "execution_count": 9,
     "metadata": {},
     "output_type": "execute_result"
    }
   ],
   "source": [
    "segments[2] # intersects with y = 10 and y=7.5 "
   ]
  },
  {
   "cell_type": "code",
   "execution_count": 10,
   "metadata": {},
   "outputs": [
    {
     "data": {
      "text/plain": [
       "tensor([[[  0.,   0.,   0.],\n",
       "         [  2., -20.,   0.]],\n",
       "\n",
       "        [[  0.,   0.,   0.],\n",
       "         [  2., -15.,   0.]],\n",
       "\n",
       "        [[  0.,   0.,   0.],\n",
       "         [  2., -10.,   0.]],\n",
       "\n",
       "        [[  0.,   0.,   0.],\n",
       "         [  2.,  -5.,   0.]],\n",
       "\n",
       "        [[  0.,   0.,   0.],\n",
       "         [  2.,   0.,   0.]],\n",
       "\n",
       "        [[  0.,   0.,   0.],\n",
       "         [  2.,   5.,   0.]],\n",
       "\n",
       "        [[  0.,   0.,   0.],\n",
       "         [  2.,  10.,   0.]],\n",
       "\n",
       "        [[  0.,   0.,   0.],\n",
       "         [  2.,  15.,   0.]],\n",
       "\n",
       "        [[  0.,   0.,   0.],\n",
       "         [  2.,  20.,   0.]]])"
      ]
     },
     "execution_count": 10,
     "metadata": {},
     "output_type": "execute_result"
    }
   ],
   "source": [
    "rays1d * 2"
   ]
  },
  {
   "cell_type": "code",
   "execution_count": 11,
   "metadata": {},
   "outputs": [
    {
     "data": {
      "application/vnd.plotly.v1+json": {
       "config": {
        "plotlyServerURL": "https://plot.ly"
       },
       "data": [
        {
         "mode": "lines",
         "type": "scatter3d",
         "x": [
          0,
          2
         ],
         "y": [
          0,
          -20
         ],
         "z": [
          0,
          0
         ]
        },
        {
         "mode": "lines",
         "type": "scatter3d",
         "x": [
          0,
          2
         ],
         "y": [
          0,
          -15
         ],
         "z": [
          0,
          0
         ]
        },
        {
         "mode": "lines",
         "type": "scatter3d",
         "x": [
          0,
          2
         ],
         "y": [
          0,
          -10
         ],
         "z": [
          0,
          0
         ]
        },
        {
         "mode": "lines",
         "type": "scatter3d",
         "x": [
          0,
          2
         ],
         "y": [
          0,
          -5
         ],
         "z": [
          0,
          0
         ]
        },
        {
         "mode": "lines",
         "type": "scatter3d",
         "x": [
          0,
          2
         ],
         "y": [
          0,
          0
         ],
         "z": [
          0,
          0
         ]
        },
        {
         "mode": "lines",
         "type": "scatter3d",
         "x": [
          0,
          2
         ],
         "y": [
          0,
          5
         ],
         "z": [
          0,
          0
         ]
        },
        {
         "mode": "lines",
         "type": "scatter3d",
         "x": [
          0,
          2
         ],
         "y": [
          0,
          10
         ],
         "z": [
          0,
          0
         ]
        },
        {
         "mode": "lines",
         "type": "scatter3d",
         "x": [
          0,
          2
         ],
         "y": [
          0,
          15
         ],
         "z": [
          0,
          0
         ]
        },
        {
         "mode": "lines",
         "type": "scatter3d",
         "x": [
          0,
          2
         ],
         "y": [
          0,
          20
         ],
         "z": [
          0,
          0
         ]
        },
        {
         "mode": "lines",
         "type": "scatter3d",
         "x": [
          1,
          1
         ],
         "y": [
          -12,
          -6
         ],
         "z": [
          0,
          0
         ]
        },
        {
         "mode": "lines",
         "type": "scatter3d",
         "x": [
          0.5,
          0.5
         ],
         "y": [
          0.10000000149011612,
          1.149999976158142
         ],
         "z": [
          0,
          0
         ]
        },
        {
         "mode": "lines",
         "type": "scatter3d",
         "x": [
          2,
          2
         ],
         "y": [
          12,
          21
         ],
         "z": [
          0,
          0
         ]
        }
       ],
       "layout": {
        "height": 600,
        "showlegend": false,
        "template": {
         "data": {
          "bar": [
           {
            "error_x": {
             "color": "#2a3f5f"
            },
            "error_y": {
             "color": "#2a3f5f"
            },
            "marker": {
             "line": {
              "color": "#E5ECF6",
              "width": 0.5
             },
             "pattern": {
              "fillmode": "overlay",
              "size": 10,
              "solidity": 0.2
             }
            },
            "type": "bar"
           }
          ],
          "barpolar": [
           {
            "marker": {
             "line": {
              "color": "#E5ECF6",
              "width": 0.5
             },
             "pattern": {
              "fillmode": "overlay",
              "size": 10,
              "solidity": 0.2
             }
            },
            "type": "barpolar"
           }
          ],
          "carpet": [
           {
            "aaxis": {
             "endlinecolor": "#2a3f5f",
             "gridcolor": "white",
             "linecolor": "white",
             "minorgridcolor": "white",
             "startlinecolor": "#2a3f5f"
            },
            "baxis": {
             "endlinecolor": "#2a3f5f",
             "gridcolor": "white",
             "linecolor": "white",
             "minorgridcolor": "white",
             "startlinecolor": "#2a3f5f"
            },
            "type": "carpet"
           }
          ],
          "choropleth": [
           {
            "colorbar": {
             "outlinewidth": 0,
             "ticks": ""
            },
            "type": "choropleth"
           }
          ],
          "contour": [
           {
            "colorbar": {
             "outlinewidth": 0,
             "ticks": ""
            },
            "colorscale": [
             [
              0,
              "#0d0887"
             ],
             [
              0.1111111111111111,
              "#46039f"
             ],
             [
              0.2222222222222222,
              "#7201a8"
             ],
             [
              0.3333333333333333,
              "#9c179e"
             ],
             [
              0.4444444444444444,
              "#bd3786"
             ],
             [
              0.5555555555555556,
              "#d8576b"
             ],
             [
              0.6666666666666666,
              "#ed7953"
             ],
             [
              0.7777777777777778,
              "#fb9f3a"
             ],
             [
              0.8888888888888888,
              "#fdca26"
             ],
             [
              1,
              "#f0f921"
             ]
            ],
            "type": "contour"
           }
          ],
          "contourcarpet": [
           {
            "colorbar": {
             "outlinewidth": 0,
             "ticks": ""
            },
            "type": "contourcarpet"
           }
          ],
          "heatmap": [
           {
            "colorbar": {
             "outlinewidth": 0,
             "ticks": ""
            },
            "colorscale": [
             [
              0,
              "#0d0887"
             ],
             [
              0.1111111111111111,
              "#46039f"
             ],
             [
              0.2222222222222222,
              "#7201a8"
             ],
             [
              0.3333333333333333,
              "#9c179e"
             ],
             [
              0.4444444444444444,
              "#bd3786"
             ],
             [
              0.5555555555555556,
              "#d8576b"
             ],
             [
              0.6666666666666666,
              "#ed7953"
             ],
             [
              0.7777777777777778,
              "#fb9f3a"
             ],
             [
              0.8888888888888888,
              "#fdca26"
             ],
             [
              1,
              "#f0f921"
             ]
            ],
            "type": "heatmap"
           }
          ],
          "heatmapgl": [
           {
            "colorbar": {
             "outlinewidth": 0,
             "ticks": ""
            },
            "colorscale": [
             [
              0,
              "#0d0887"
             ],
             [
              0.1111111111111111,
              "#46039f"
             ],
             [
              0.2222222222222222,
              "#7201a8"
             ],
             [
              0.3333333333333333,
              "#9c179e"
             ],
             [
              0.4444444444444444,
              "#bd3786"
             ],
             [
              0.5555555555555556,
              "#d8576b"
             ],
             [
              0.6666666666666666,
              "#ed7953"
             ],
             [
              0.7777777777777778,
              "#fb9f3a"
             ],
             [
              0.8888888888888888,
              "#fdca26"
             ],
             [
              1,
              "#f0f921"
             ]
            ],
            "type": "heatmapgl"
           }
          ],
          "histogram": [
           {
            "marker": {
             "pattern": {
              "fillmode": "overlay",
              "size": 10,
              "solidity": 0.2
             }
            },
            "type": "histogram"
           }
          ],
          "histogram2d": [
           {
            "colorbar": {
             "outlinewidth": 0,
             "ticks": ""
            },
            "colorscale": [
             [
              0,
              "#0d0887"
             ],
             [
              0.1111111111111111,
              "#46039f"
             ],
             [
              0.2222222222222222,
              "#7201a8"
             ],
             [
              0.3333333333333333,
              "#9c179e"
             ],
             [
              0.4444444444444444,
              "#bd3786"
             ],
             [
              0.5555555555555556,
              "#d8576b"
             ],
             [
              0.6666666666666666,
              "#ed7953"
             ],
             [
              0.7777777777777778,
              "#fb9f3a"
             ],
             [
              0.8888888888888888,
              "#fdca26"
             ],
             [
              1,
              "#f0f921"
             ]
            ],
            "type": "histogram2d"
           }
          ],
          "histogram2dcontour": [
           {
            "colorbar": {
             "outlinewidth": 0,
             "ticks": ""
            },
            "colorscale": [
             [
              0,
              "#0d0887"
             ],
             [
              0.1111111111111111,
              "#46039f"
             ],
             [
              0.2222222222222222,
              "#7201a8"
             ],
             [
              0.3333333333333333,
              "#9c179e"
             ],
             [
              0.4444444444444444,
              "#bd3786"
             ],
             [
              0.5555555555555556,
              "#d8576b"
             ],
             [
              0.6666666666666666,
              "#ed7953"
             ],
             [
              0.7777777777777778,
              "#fb9f3a"
             ],
             [
              0.8888888888888888,
              "#fdca26"
             ],
             [
              1,
              "#f0f921"
             ]
            ],
            "type": "histogram2dcontour"
           }
          ],
          "mesh3d": [
           {
            "colorbar": {
             "outlinewidth": 0,
             "ticks": ""
            },
            "type": "mesh3d"
           }
          ],
          "parcoords": [
           {
            "line": {
             "colorbar": {
              "outlinewidth": 0,
              "ticks": ""
             }
            },
            "type": "parcoords"
           }
          ],
          "pie": [
           {
            "automargin": true,
            "type": "pie"
           }
          ],
          "scatter": [
           {
            "fillpattern": {
             "fillmode": "overlay",
             "size": 10,
             "solidity": 0.2
            },
            "type": "scatter"
           }
          ],
          "scatter3d": [
           {
            "line": {
             "colorbar": {
              "outlinewidth": 0,
              "ticks": ""
             }
            },
            "marker": {
             "colorbar": {
              "outlinewidth": 0,
              "ticks": ""
             }
            },
            "type": "scatter3d"
           }
          ],
          "scattercarpet": [
           {
            "marker": {
             "colorbar": {
              "outlinewidth": 0,
              "ticks": ""
             }
            },
            "type": "scattercarpet"
           }
          ],
          "scattergeo": [
           {
            "marker": {
             "colorbar": {
              "outlinewidth": 0,
              "ticks": ""
             }
            },
            "type": "scattergeo"
           }
          ],
          "scattergl": [
           {
            "marker": {
             "colorbar": {
              "outlinewidth": 0,
              "ticks": ""
             }
            },
            "type": "scattergl"
           }
          ],
          "scattermapbox": [
           {
            "marker": {
             "colorbar": {
              "outlinewidth": 0,
              "ticks": ""
             }
            },
            "type": "scattermapbox"
           }
          ],
          "scatterpolar": [
           {
            "marker": {
             "colorbar": {
              "outlinewidth": 0,
              "ticks": ""
             }
            },
            "type": "scatterpolar"
           }
          ],
          "scatterpolargl": [
           {
            "marker": {
             "colorbar": {
              "outlinewidth": 0,
              "ticks": ""
             }
            },
            "type": "scatterpolargl"
           }
          ],
          "scatterternary": [
           {
            "marker": {
             "colorbar": {
              "outlinewidth": 0,
              "ticks": ""
             }
            },
            "type": "scatterternary"
           }
          ],
          "surface": [
           {
            "colorbar": {
             "outlinewidth": 0,
             "ticks": ""
            },
            "colorscale": [
             [
              0,
              "#0d0887"
             ],
             [
              0.1111111111111111,
              "#46039f"
             ],
             [
              0.2222222222222222,
              "#7201a8"
             ],
             [
              0.3333333333333333,
              "#9c179e"
             ],
             [
              0.4444444444444444,
              "#bd3786"
             ],
             [
              0.5555555555555556,
              "#d8576b"
             ],
             [
              0.6666666666666666,
              "#ed7953"
             ],
             [
              0.7777777777777778,
              "#fb9f3a"
             ],
             [
              0.8888888888888888,
              "#fdca26"
             ],
             [
              1,
              "#f0f921"
             ]
            ],
            "type": "surface"
           }
          ],
          "table": [
           {
            "cells": {
             "fill": {
              "color": "#EBF0F8"
             },
             "line": {
              "color": "white"
             }
            },
            "header": {
             "fill": {
              "color": "#C8D4E3"
             },
             "line": {
              "color": "white"
             }
            },
            "type": "table"
           }
          ]
         },
         "layout": {
          "annotationdefaults": {
           "arrowcolor": "#2a3f5f",
           "arrowhead": 0,
           "arrowwidth": 1
          },
          "autotypenumbers": "strict",
          "coloraxis": {
           "colorbar": {
            "outlinewidth": 0,
            "ticks": ""
           }
          },
          "colorscale": {
           "diverging": [
            [
             0,
             "#8e0152"
            ],
            [
             0.1,
             "#c51b7d"
            ],
            [
             0.2,
             "#de77ae"
            ],
            [
             0.3,
             "#f1b6da"
            ],
            [
             0.4,
             "#fde0ef"
            ],
            [
             0.5,
             "#f7f7f7"
            ],
            [
             0.6,
             "#e6f5d0"
            ],
            [
             0.7,
             "#b8e186"
            ],
            [
             0.8,
             "#7fbc41"
            ],
            [
             0.9,
             "#4d9221"
            ],
            [
             1,
             "#276419"
            ]
           ],
           "sequential": [
            [
             0,
             "#0d0887"
            ],
            [
             0.1111111111111111,
             "#46039f"
            ],
            [
             0.2222222222222222,
             "#7201a8"
            ],
            [
             0.3333333333333333,
             "#9c179e"
            ],
            [
             0.4444444444444444,
             "#bd3786"
            ],
            [
             0.5555555555555556,
             "#d8576b"
            ],
            [
             0.6666666666666666,
             "#ed7953"
            ],
            [
             0.7777777777777778,
             "#fb9f3a"
            ],
            [
             0.8888888888888888,
             "#fdca26"
            ],
            [
             1,
             "#f0f921"
            ]
           ],
           "sequentialminus": [
            [
             0,
             "#0d0887"
            ],
            [
             0.1111111111111111,
             "#46039f"
            ],
            [
             0.2222222222222222,
             "#7201a8"
            ],
            [
             0.3333333333333333,
             "#9c179e"
            ],
            [
             0.4444444444444444,
             "#bd3786"
            ],
            [
             0.5555555555555556,
             "#d8576b"
            ],
            [
             0.6666666666666666,
             "#ed7953"
            ],
            [
             0.7777777777777778,
             "#fb9f3a"
            ],
            [
             0.8888888888888888,
             "#fdca26"
            ],
            [
             1,
             "#f0f921"
            ]
           ]
          },
          "colorway": [
           "#636efa",
           "#EF553B",
           "#00cc96",
           "#ab63fa",
           "#FFA15A",
           "#19d3f3",
           "#FF6692",
           "#B6E880",
           "#FF97FF",
           "#FECB52"
          ],
          "font": {
           "color": "#2a3f5f"
          },
          "geo": {
           "bgcolor": "white",
           "lakecolor": "white",
           "landcolor": "#E5ECF6",
           "showlakes": true,
           "showland": true,
           "subunitcolor": "white"
          },
          "hoverlabel": {
           "align": "left"
          },
          "hovermode": "closest",
          "mapbox": {
           "style": "light"
          },
          "paper_bgcolor": "white",
          "plot_bgcolor": "#E5ECF6",
          "polar": {
           "angularaxis": {
            "gridcolor": "white",
            "linecolor": "white",
            "ticks": ""
           },
           "bgcolor": "#E5ECF6",
           "radialaxis": {
            "gridcolor": "white",
            "linecolor": "white",
            "ticks": ""
           }
          },
          "scene": {
           "xaxis": {
            "backgroundcolor": "#E5ECF6",
            "gridcolor": "white",
            "gridwidth": 2,
            "linecolor": "white",
            "showbackground": true,
            "ticks": "",
            "zerolinecolor": "white"
           },
           "yaxis": {
            "backgroundcolor": "#E5ECF6",
            "gridcolor": "white",
            "gridwidth": 2,
            "linecolor": "white",
            "showbackground": true,
            "ticks": "",
            "zerolinecolor": "white"
           },
           "zaxis": {
            "backgroundcolor": "#E5ECF6",
            "gridcolor": "white",
            "gridwidth": 2,
            "linecolor": "white",
            "showbackground": true,
            "ticks": "",
            "zerolinecolor": "white"
           }
          },
          "shapedefaults": {
           "line": {
            "color": "#2a3f5f"
           }
          },
          "ternary": {
           "aaxis": {
            "gridcolor": "white",
            "linecolor": "white",
            "ticks": ""
           },
           "baxis": {
            "gridcolor": "white",
            "linecolor": "white",
            "ticks": ""
           },
           "bgcolor": "#E5ECF6",
           "caxis": {
            "gridcolor": "white",
            "linecolor": "white",
            "ticks": ""
           }
          },
          "title": {
           "x": 0.05
          },
          "xaxis": {
           "automargin": true,
           "gridcolor": "white",
           "linecolor": "white",
           "ticks": "",
           "title": {
            "standoff": 15
           },
           "zerolinecolor": "white",
           "zerolinewidth": 2
          },
          "yaxis": {
           "automargin": true,
           "gridcolor": "white",
           "linecolor": "white",
           "ticks": "",
           "title": {
            "standoff": 15
           },
           "zerolinecolor": "white",
           "zerolinewidth": 2
          }
         }
        },
        "title": {
         "text": "3D rays"
        },
        "width": 600
       }
      }
     },
     "metadata": {},
     "output_type": "display_data"
    }
   ],
   "source": [
    "render_lines_with_plotly(t.concatenate([rays1d * 2, segments], dim=0))"
   ]
  },
  {
   "cell_type": "code",
   "execution_count": 12,
   "metadata": {},
   "outputs": [
    {
     "name": "stdout",
     "output_type": "stream",
     "text": [
      "All tests in `test_intersect_ray_1d` passed!\n",
      "All tests in `test_intersect_ray_1d_special_case` passed!\n"
     ]
    },
    {
     "name": "stderr",
     "output_type": "stream",
     "text": [
      "/Users/kortukov/git/ARENA_3.0/chapter0_fundamentals/exercises/part1_ray_tracing/solutions.py:225: UserWarning:\n",
      "\n",
      "As of jaxtyping version 0.2.24, jaxtyping now prefers the syntax\n",
      "```\n",
      "from jaxtyping import jaxtyped\n",
      "# Use your favourite typechecker: usually one of the two lines below.\n",
      "from typeguard import typechecked as typechecker\n",
      "from beartype import beartype as typechecker\n",
      "\n",
      "@jaxtyped(typechecker=typechecker)\n",
      "def foo(...):\n",
      "```\n",
      "and the old double-decorator syntax\n",
      "```\n",
      "@jaxtyped\n",
      "@typechecker\n",
      "def foo(...):\n",
      "```\n",
      "should no longer be used. (It will continue to work as it did before, but the new approach will produce more readable error messages.)\n",
      "In particular note that `typechecker` must be passed via keyword argument; the following is not valid:\n",
      "```\n",
      "@jaxtyped(typechecker)\n",
      "def foo(...):\n",
      "```\n",
      "\n",
      "\n"
     ]
    }
   ],
   "source": [
    "@jaxtyped(typechecker=typeguard.typechecked)\n",
    "def intersect_ray_1d(ray: Float[t.Tensor, \"n=2 d=3\"], segment: Float[t.Tensor, \"n d\"]) -> bool:\n",
    "    '''\n",
    "    ray: shape (n_points=2, n_dim=3)  # O, D points\n",
    "    segment: shape (n_points=2, n_dim=3)  # L_1, L_2 points\n",
    "\n",
    "    Return True if the ray intersects the segment.\n",
    "    '''\n",
    "    O = ray[0, 0:2]\n",
    "    D = ray[1, 0:2] # shape (2,)\n",
    "    L1 = segment[0, 0:2]\n",
    "    L2 = segment[1, 0:2]\n",
    "\n",
    "    mat = t.stack([D, L1 - L2], dim=1)\n",
    "\n",
    "    rhs = L1 - O\n",
    "    try:\n",
    "        uv = t.linalg.solve(mat, rhs)\n",
    "    except Exception as e:\n",
    "        return False\n",
    "    u, v = uv[0].item(), uv[1].item()\n",
    "    return (u >= 0) and (0 <= v <= 1)\n",
    "\n",
    "\n",
    "\n",
    "\n",
    "tests.test_intersect_ray_1d(intersect_ray_1d)\n",
    "tests.test_intersect_ray_1d_special_case(intersect_ray_1d)"
   ]
  },
  {
   "cell_type": "code",
   "execution_count": 13,
   "metadata": {},
   "outputs": [
    {
     "data": {
      "text/plain": [
       "tensor([1.0000, 1.5000, 2.0000])"
      ]
     },
     "execution_count": 13,
     "metadata": {},
     "output_type": "execute_result"
    }
   ],
   "source": [
    "t.linalg.solve(2*t.eye(3), t.Tensor([2,3,4]))"
   ]
  },
  {
   "cell_type": "code",
   "execution_count": 14,
   "metadata": {},
   "outputs": [
    {
     "name": "stdout",
     "output_type": "stream",
     "text": [
      "All tests in `test_intersect_rays_1d` passed!\n",
      "All tests in `test_intersect_rays_1d_special_case` passed!\n"
     ]
    }
   ],
   "source": [
    "def intersect_rays_1d(rays: Float[Tensor, \"nrays 2 3\"], segments: Float[Tensor, \"nsegments 2 3\"]) -> Bool[Tensor, \"nrays\"]:\n",
    "    '''\n",
    "    For each ray, return True if it intersects any segment.\n",
    "    '''\n",
    "    nrays = rays.shape[0]\n",
    "    nsegments = segments.shape[0]\n",
    "\n",
    "    Os = rays[:, 0, :2] # (nrays, dim)\n",
    "    Ds = rays[:, 1, :2]\n",
    "    L1s = segments[:, 0, :2] # (nsegments, dim)\n",
    "    L2s = segments[:, 1, :2]\n",
    "\n",
    "    # Repeat each ray for all segments - one batch row for one ray\n",
    "    batch_Ds = einops.repeat(Ds, 'nrays dim -> nrays nsegments dim', nsegments=nsegments)\n",
    "    batch_Os = einops.repeat(Os, 'nrays dim -> nrays nsegments dim', nsegments=nsegments)\n",
    "\n",
    "    # Repeat each segment for all rays one batch column for one ray\n",
    "    batch_L1s = einops.repeat(L1s, 'nsegments dim -> nrays nsegments dim', nrays=nrays)\n",
    "    batch_L2s = einops.repeat(L2s, 'nsegments dim -> nrays nsegments dim', nrays=nrays)\n",
    "\n",
    "    mat_columns = [batch_Ds, batch_L1s - batch_L2s]\n",
    "    mats = einops.rearrange(mat_columns, 'cols nrays nsegments dim -> nrays nsegments dim cols')\n",
    "\n",
    "    rhss = batch_L1s - batch_Os # shape (nrays, nsegments, 2dim)\n",
    "\n",
    "    # solutions = t.linalg.solve(mats, rhss) # shape(nrays, 2dim)\n",
    "\n",
    "    # To handle non-invertible matrices\n",
    "    solutions, residuals, rank, sing_vals = t.linalg.lstsq(mats, rhss)\n",
    "    # Solution of linear system possible only if full rank.\n",
    "    # Otherwise no solution - means ray and segment parallel.\n",
    "    full_rank_indices = rank == 2\n",
    "    assert full_rank_indices.shape == (nrays, nsegments)\n",
    "\n",
    "\n",
    "    us = solutions[..., 0]\n",
    "    vs = solutions[..., 1]\n",
    "\n",
    "    intersect_on_ray = us >= 0\n",
    "    intersect_on_segment = (0 <= vs) & (vs <= 1)\n",
    "    # shape (nrays, nsegments)\n",
    "    intersection = intersect_on_ray & intersect_on_segment & full_rank_indices \n",
    "\n",
    "    ray_intersects_with_any = intersection.any(dim=1)\n",
    "    return ray_intersects_with_any\n",
    "\n",
    "\n",
    "\n",
    "\n",
    "tests.test_intersect_rays_1d(intersect_rays_1d)\n",
    "tests.test_intersect_rays_1d_special_case(intersect_rays_1d)"
   ]
  },
  {
   "cell_type": "code",
   "execution_count": null,
   "metadata": {},
   "outputs": [],
   "source": []
  },
  {
   "cell_type": "code",
   "execution_count": null,
   "metadata": {},
   "outputs": [],
   "source": []
  },
  {
   "cell_type": "code",
   "execution_count": 15,
   "metadata": {},
   "outputs": [
    {
     "data": {
      "application/vnd.plotly.v1+json": {
       "config": {
        "plotlyServerURL": "https://plot.ly"
       },
       "data": [
        {
         "mode": "lines",
         "type": "scatter3d",
         "x": [
          0,
          1
         ],
         "y": [
          0,
          -0.30000001192092896
         ],
         "z": [
          0,
          -0.30000001192092896
         ]
        },
        {
         "mode": "lines",
         "type": "scatter3d",
         "x": [
          0,
          1
         ],
         "y": [
          0,
          -0.30000001192092896
         ],
         "z": [
          0,
          -0.23333334922790527
         ]
        },
        {
         "mode": "lines",
         "type": "scatter3d",
         "x": [
          0,
          1
         ],
         "y": [
          0,
          -0.30000001192092896
         ],
         "z": [
          0,
          -0.1666666716337204
         ]
        },
        {
         "mode": "lines",
         "type": "scatter3d",
         "x": [
          0,
          1
         ],
         "y": [
          0,
          -0.30000001192092896
         ],
         "z": [
          0,
          -0.10000000149011612
         ]
        },
        {
         "mode": "lines",
         "type": "scatter3d",
         "x": [
          0,
          1
         ],
         "y": [
          0,
          -0.30000001192092896
         ],
         "z": [
          0,
          -0.03333333134651184
         ]
        },
        {
         "mode": "lines",
         "type": "scatter3d",
         "x": [
          0,
          1
         ],
         "y": [
          0,
          -0.30000001192092896
         ],
         "z": [
          0,
          0.03333333134651184
         ]
        },
        {
         "mode": "lines",
         "type": "scatter3d",
         "x": [
          0,
          1
         ],
         "y": [
          0,
          -0.30000001192092896
         ],
         "z": [
          0,
          0.10000000149011612
         ]
        },
        {
         "mode": "lines",
         "type": "scatter3d",
         "x": [
          0,
          1
         ],
         "y": [
          0,
          -0.30000001192092896
         ],
         "z": [
          0,
          0.1666666716337204
         ]
        },
        {
         "mode": "lines",
         "type": "scatter3d",
         "x": [
          0,
          1
         ],
         "y": [
          0,
          -0.30000001192092896
         ],
         "z": [
          0,
          0.23333334922790527
         ]
        },
        {
         "mode": "lines",
         "type": "scatter3d",
         "x": [
          0,
          1
         ],
         "y": [
          0,
          -0.30000001192092896
         ],
         "z": [
          0,
          0.30000001192092896
         ]
        },
        {
         "mode": "lines",
         "type": "scatter3d",
         "x": [
          0,
          1
         ],
         "y": [
          0,
          -0.23333334922790527
         ],
         "z": [
          0,
          -0.30000001192092896
         ]
        },
        {
         "mode": "lines",
         "type": "scatter3d",
         "x": [
          0,
          1
         ],
         "y": [
          0,
          -0.23333334922790527
         ],
         "z": [
          0,
          -0.23333334922790527
         ]
        },
        {
         "mode": "lines",
         "type": "scatter3d",
         "x": [
          0,
          1
         ],
         "y": [
          0,
          -0.23333334922790527
         ],
         "z": [
          0,
          -0.1666666716337204
         ]
        },
        {
         "mode": "lines",
         "type": "scatter3d",
         "x": [
          0,
          1
         ],
         "y": [
          0,
          -0.23333334922790527
         ],
         "z": [
          0,
          -0.10000000149011612
         ]
        },
        {
         "mode": "lines",
         "type": "scatter3d",
         "x": [
          0,
          1
         ],
         "y": [
          0,
          -0.23333334922790527
         ],
         "z": [
          0,
          -0.03333333134651184
         ]
        },
        {
         "mode": "lines",
         "type": "scatter3d",
         "x": [
          0,
          1
         ],
         "y": [
          0,
          -0.23333334922790527
         ],
         "z": [
          0,
          0.03333333134651184
         ]
        },
        {
         "mode": "lines",
         "type": "scatter3d",
         "x": [
          0,
          1
         ],
         "y": [
          0,
          -0.23333334922790527
         ],
         "z": [
          0,
          0.10000000149011612
         ]
        },
        {
         "mode": "lines",
         "type": "scatter3d",
         "x": [
          0,
          1
         ],
         "y": [
          0,
          -0.23333334922790527
         ],
         "z": [
          0,
          0.1666666716337204
         ]
        },
        {
         "mode": "lines",
         "type": "scatter3d",
         "x": [
          0,
          1
         ],
         "y": [
          0,
          -0.23333334922790527
         ],
         "z": [
          0,
          0.23333334922790527
         ]
        },
        {
         "mode": "lines",
         "type": "scatter3d",
         "x": [
          0,
          1
         ],
         "y": [
          0,
          -0.23333334922790527
         ],
         "z": [
          0,
          0.30000001192092896
         ]
        },
        {
         "mode": "lines",
         "type": "scatter3d",
         "x": [
          0,
          1
         ],
         "y": [
          0,
          -0.1666666716337204
         ],
         "z": [
          0,
          -0.30000001192092896
         ]
        },
        {
         "mode": "lines",
         "type": "scatter3d",
         "x": [
          0,
          1
         ],
         "y": [
          0,
          -0.1666666716337204
         ],
         "z": [
          0,
          -0.23333334922790527
         ]
        },
        {
         "mode": "lines",
         "type": "scatter3d",
         "x": [
          0,
          1
         ],
         "y": [
          0,
          -0.1666666716337204
         ],
         "z": [
          0,
          -0.1666666716337204
         ]
        },
        {
         "mode": "lines",
         "type": "scatter3d",
         "x": [
          0,
          1
         ],
         "y": [
          0,
          -0.1666666716337204
         ],
         "z": [
          0,
          -0.10000000149011612
         ]
        },
        {
         "mode": "lines",
         "type": "scatter3d",
         "x": [
          0,
          1
         ],
         "y": [
          0,
          -0.1666666716337204
         ],
         "z": [
          0,
          -0.03333333134651184
         ]
        },
        {
         "mode": "lines",
         "type": "scatter3d",
         "x": [
          0,
          1
         ],
         "y": [
          0,
          -0.1666666716337204
         ],
         "z": [
          0,
          0.03333333134651184
         ]
        },
        {
         "mode": "lines",
         "type": "scatter3d",
         "x": [
          0,
          1
         ],
         "y": [
          0,
          -0.1666666716337204
         ],
         "z": [
          0,
          0.10000000149011612
         ]
        },
        {
         "mode": "lines",
         "type": "scatter3d",
         "x": [
          0,
          1
         ],
         "y": [
          0,
          -0.1666666716337204
         ],
         "z": [
          0,
          0.1666666716337204
         ]
        },
        {
         "mode": "lines",
         "type": "scatter3d",
         "x": [
          0,
          1
         ],
         "y": [
          0,
          -0.1666666716337204
         ],
         "z": [
          0,
          0.23333334922790527
         ]
        },
        {
         "mode": "lines",
         "type": "scatter3d",
         "x": [
          0,
          1
         ],
         "y": [
          0,
          -0.1666666716337204
         ],
         "z": [
          0,
          0.30000001192092896
         ]
        },
        {
         "mode": "lines",
         "type": "scatter3d",
         "x": [
          0,
          1
         ],
         "y": [
          0,
          -0.10000000149011612
         ],
         "z": [
          0,
          -0.30000001192092896
         ]
        },
        {
         "mode": "lines",
         "type": "scatter3d",
         "x": [
          0,
          1
         ],
         "y": [
          0,
          -0.10000000149011612
         ],
         "z": [
          0,
          -0.23333334922790527
         ]
        },
        {
         "mode": "lines",
         "type": "scatter3d",
         "x": [
          0,
          1
         ],
         "y": [
          0,
          -0.10000000149011612
         ],
         "z": [
          0,
          -0.1666666716337204
         ]
        },
        {
         "mode": "lines",
         "type": "scatter3d",
         "x": [
          0,
          1
         ],
         "y": [
          0,
          -0.10000000149011612
         ],
         "z": [
          0,
          -0.10000000149011612
         ]
        },
        {
         "mode": "lines",
         "type": "scatter3d",
         "x": [
          0,
          1
         ],
         "y": [
          0,
          -0.10000000149011612
         ],
         "z": [
          0,
          -0.03333333134651184
         ]
        },
        {
         "mode": "lines",
         "type": "scatter3d",
         "x": [
          0,
          1
         ],
         "y": [
          0,
          -0.10000000149011612
         ],
         "z": [
          0,
          0.03333333134651184
         ]
        },
        {
         "mode": "lines",
         "type": "scatter3d",
         "x": [
          0,
          1
         ],
         "y": [
          0,
          -0.10000000149011612
         ],
         "z": [
          0,
          0.10000000149011612
         ]
        },
        {
         "mode": "lines",
         "type": "scatter3d",
         "x": [
          0,
          1
         ],
         "y": [
          0,
          -0.10000000149011612
         ],
         "z": [
          0,
          0.1666666716337204
         ]
        },
        {
         "mode": "lines",
         "type": "scatter3d",
         "x": [
          0,
          1
         ],
         "y": [
          0,
          -0.10000000149011612
         ],
         "z": [
          0,
          0.23333334922790527
         ]
        },
        {
         "mode": "lines",
         "type": "scatter3d",
         "x": [
          0,
          1
         ],
         "y": [
          0,
          -0.10000000149011612
         ],
         "z": [
          0,
          0.30000001192092896
         ]
        },
        {
         "mode": "lines",
         "type": "scatter3d",
         "x": [
          0,
          1
         ],
         "y": [
          0,
          -0.03333333134651184
         ],
         "z": [
          0,
          -0.30000001192092896
         ]
        },
        {
         "mode": "lines",
         "type": "scatter3d",
         "x": [
          0,
          1
         ],
         "y": [
          0,
          -0.03333333134651184
         ],
         "z": [
          0,
          -0.23333334922790527
         ]
        },
        {
         "mode": "lines",
         "type": "scatter3d",
         "x": [
          0,
          1
         ],
         "y": [
          0,
          -0.03333333134651184
         ],
         "z": [
          0,
          -0.1666666716337204
         ]
        },
        {
         "mode": "lines",
         "type": "scatter3d",
         "x": [
          0,
          1
         ],
         "y": [
          0,
          -0.03333333134651184
         ],
         "z": [
          0,
          -0.10000000149011612
         ]
        },
        {
         "mode": "lines",
         "type": "scatter3d",
         "x": [
          0,
          1
         ],
         "y": [
          0,
          -0.03333333134651184
         ],
         "z": [
          0,
          -0.03333333134651184
         ]
        },
        {
         "mode": "lines",
         "type": "scatter3d",
         "x": [
          0,
          1
         ],
         "y": [
          0,
          -0.03333333134651184
         ],
         "z": [
          0,
          0.03333333134651184
         ]
        },
        {
         "mode": "lines",
         "type": "scatter3d",
         "x": [
          0,
          1
         ],
         "y": [
          0,
          -0.03333333134651184
         ],
         "z": [
          0,
          0.10000000149011612
         ]
        },
        {
         "mode": "lines",
         "type": "scatter3d",
         "x": [
          0,
          1
         ],
         "y": [
          0,
          -0.03333333134651184
         ],
         "z": [
          0,
          0.1666666716337204
         ]
        },
        {
         "mode": "lines",
         "type": "scatter3d",
         "x": [
          0,
          1
         ],
         "y": [
          0,
          -0.03333333134651184
         ],
         "z": [
          0,
          0.23333334922790527
         ]
        },
        {
         "mode": "lines",
         "type": "scatter3d",
         "x": [
          0,
          1
         ],
         "y": [
          0,
          -0.03333333134651184
         ],
         "z": [
          0,
          0.30000001192092896
         ]
        },
        {
         "mode": "lines",
         "type": "scatter3d",
         "x": [
          0,
          1
         ],
         "y": [
          0,
          0.03333333134651184
         ],
         "z": [
          0,
          -0.30000001192092896
         ]
        },
        {
         "mode": "lines",
         "type": "scatter3d",
         "x": [
          0,
          1
         ],
         "y": [
          0,
          0.03333333134651184
         ],
         "z": [
          0,
          -0.23333334922790527
         ]
        },
        {
         "mode": "lines",
         "type": "scatter3d",
         "x": [
          0,
          1
         ],
         "y": [
          0,
          0.03333333134651184
         ],
         "z": [
          0,
          -0.1666666716337204
         ]
        },
        {
         "mode": "lines",
         "type": "scatter3d",
         "x": [
          0,
          1
         ],
         "y": [
          0,
          0.03333333134651184
         ],
         "z": [
          0,
          -0.10000000149011612
         ]
        },
        {
         "mode": "lines",
         "type": "scatter3d",
         "x": [
          0,
          1
         ],
         "y": [
          0,
          0.03333333134651184
         ],
         "z": [
          0,
          -0.03333333134651184
         ]
        },
        {
         "mode": "lines",
         "type": "scatter3d",
         "x": [
          0,
          1
         ],
         "y": [
          0,
          0.03333333134651184
         ],
         "z": [
          0,
          0.03333333134651184
         ]
        },
        {
         "mode": "lines",
         "type": "scatter3d",
         "x": [
          0,
          1
         ],
         "y": [
          0,
          0.03333333134651184
         ],
         "z": [
          0,
          0.10000000149011612
         ]
        },
        {
         "mode": "lines",
         "type": "scatter3d",
         "x": [
          0,
          1
         ],
         "y": [
          0,
          0.03333333134651184
         ],
         "z": [
          0,
          0.1666666716337204
         ]
        },
        {
         "mode": "lines",
         "type": "scatter3d",
         "x": [
          0,
          1
         ],
         "y": [
          0,
          0.03333333134651184
         ],
         "z": [
          0,
          0.23333334922790527
         ]
        },
        {
         "mode": "lines",
         "type": "scatter3d",
         "x": [
          0,
          1
         ],
         "y": [
          0,
          0.03333333134651184
         ],
         "z": [
          0,
          0.30000001192092896
         ]
        },
        {
         "mode": "lines",
         "type": "scatter3d",
         "x": [
          0,
          1
         ],
         "y": [
          0,
          0.10000000149011612
         ],
         "z": [
          0,
          -0.30000001192092896
         ]
        },
        {
         "mode": "lines",
         "type": "scatter3d",
         "x": [
          0,
          1
         ],
         "y": [
          0,
          0.10000000149011612
         ],
         "z": [
          0,
          -0.23333334922790527
         ]
        },
        {
         "mode": "lines",
         "type": "scatter3d",
         "x": [
          0,
          1
         ],
         "y": [
          0,
          0.10000000149011612
         ],
         "z": [
          0,
          -0.1666666716337204
         ]
        },
        {
         "mode": "lines",
         "type": "scatter3d",
         "x": [
          0,
          1
         ],
         "y": [
          0,
          0.10000000149011612
         ],
         "z": [
          0,
          -0.10000000149011612
         ]
        },
        {
         "mode": "lines",
         "type": "scatter3d",
         "x": [
          0,
          1
         ],
         "y": [
          0,
          0.10000000149011612
         ],
         "z": [
          0,
          -0.03333333134651184
         ]
        },
        {
         "mode": "lines",
         "type": "scatter3d",
         "x": [
          0,
          1
         ],
         "y": [
          0,
          0.10000000149011612
         ],
         "z": [
          0,
          0.03333333134651184
         ]
        },
        {
         "mode": "lines",
         "type": "scatter3d",
         "x": [
          0,
          1
         ],
         "y": [
          0,
          0.10000000149011612
         ],
         "z": [
          0,
          0.10000000149011612
         ]
        },
        {
         "mode": "lines",
         "type": "scatter3d",
         "x": [
          0,
          1
         ],
         "y": [
          0,
          0.10000000149011612
         ],
         "z": [
          0,
          0.1666666716337204
         ]
        },
        {
         "mode": "lines",
         "type": "scatter3d",
         "x": [
          0,
          1
         ],
         "y": [
          0,
          0.10000000149011612
         ],
         "z": [
          0,
          0.23333334922790527
         ]
        },
        {
         "mode": "lines",
         "type": "scatter3d",
         "x": [
          0,
          1
         ],
         "y": [
          0,
          0.10000000149011612
         ],
         "z": [
          0,
          0.30000001192092896
         ]
        },
        {
         "mode": "lines",
         "type": "scatter3d",
         "x": [
          0,
          1
         ],
         "y": [
          0,
          0.1666666716337204
         ],
         "z": [
          0,
          -0.30000001192092896
         ]
        },
        {
         "mode": "lines",
         "type": "scatter3d",
         "x": [
          0,
          1
         ],
         "y": [
          0,
          0.1666666716337204
         ],
         "z": [
          0,
          -0.23333334922790527
         ]
        },
        {
         "mode": "lines",
         "type": "scatter3d",
         "x": [
          0,
          1
         ],
         "y": [
          0,
          0.1666666716337204
         ],
         "z": [
          0,
          -0.1666666716337204
         ]
        },
        {
         "mode": "lines",
         "type": "scatter3d",
         "x": [
          0,
          1
         ],
         "y": [
          0,
          0.1666666716337204
         ],
         "z": [
          0,
          -0.10000000149011612
         ]
        },
        {
         "mode": "lines",
         "type": "scatter3d",
         "x": [
          0,
          1
         ],
         "y": [
          0,
          0.1666666716337204
         ],
         "z": [
          0,
          -0.03333333134651184
         ]
        },
        {
         "mode": "lines",
         "type": "scatter3d",
         "x": [
          0,
          1
         ],
         "y": [
          0,
          0.1666666716337204
         ],
         "z": [
          0,
          0.03333333134651184
         ]
        },
        {
         "mode": "lines",
         "type": "scatter3d",
         "x": [
          0,
          1
         ],
         "y": [
          0,
          0.1666666716337204
         ],
         "z": [
          0,
          0.10000000149011612
         ]
        },
        {
         "mode": "lines",
         "type": "scatter3d",
         "x": [
          0,
          1
         ],
         "y": [
          0,
          0.1666666716337204
         ],
         "z": [
          0,
          0.1666666716337204
         ]
        },
        {
         "mode": "lines",
         "type": "scatter3d",
         "x": [
          0,
          1
         ],
         "y": [
          0,
          0.1666666716337204
         ],
         "z": [
          0,
          0.23333334922790527
         ]
        },
        {
         "mode": "lines",
         "type": "scatter3d",
         "x": [
          0,
          1
         ],
         "y": [
          0,
          0.1666666716337204
         ],
         "z": [
          0,
          0.30000001192092896
         ]
        },
        {
         "mode": "lines",
         "type": "scatter3d",
         "x": [
          0,
          1
         ],
         "y": [
          0,
          0.23333334922790527
         ],
         "z": [
          0,
          -0.30000001192092896
         ]
        },
        {
         "mode": "lines",
         "type": "scatter3d",
         "x": [
          0,
          1
         ],
         "y": [
          0,
          0.23333334922790527
         ],
         "z": [
          0,
          -0.23333334922790527
         ]
        },
        {
         "mode": "lines",
         "type": "scatter3d",
         "x": [
          0,
          1
         ],
         "y": [
          0,
          0.23333334922790527
         ],
         "z": [
          0,
          -0.1666666716337204
         ]
        },
        {
         "mode": "lines",
         "type": "scatter3d",
         "x": [
          0,
          1
         ],
         "y": [
          0,
          0.23333334922790527
         ],
         "z": [
          0,
          -0.10000000149011612
         ]
        },
        {
         "mode": "lines",
         "type": "scatter3d",
         "x": [
          0,
          1
         ],
         "y": [
          0,
          0.23333334922790527
         ],
         "z": [
          0,
          -0.03333333134651184
         ]
        },
        {
         "mode": "lines",
         "type": "scatter3d",
         "x": [
          0,
          1
         ],
         "y": [
          0,
          0.23333334922790527
         ],
         "z": [
          0,
          0.03333333134651184
         ]
        },
        {
         "mode": "lines",
         "type": "scatter3d",
         "x": [
          0,
          1
         ],
         "y": [
          0,
          0.23333334922790527
         ],
         "z": [
          0,
          0.10000000149011612
         ]
        },
        {
         "mode": "lines",
         "type": "scatter3d",
         "x": [
          0,
          1
         ],
         "y": [
          0,
          0.23333334922790527
         ],
         "z": [
          0,
          0.1666666716337204
         ]
        },
        {
         "mode": "lines",
         "type": "scatter3d",
         "x": [
          0,
          1
         ],
         "y": [
          0,
          0.23333334922790527
         ],
         "z": [
          0,
          0.23333334922790527
         ]
        },
        {
         "mode": "lines",
         "type": "scatter3d",
         "x": [
          0,
          1
         ],
         "y": [
          0,
          0.23333334922790527
         ],
         "z": [
          0,
          0.30000001192092896
         ]
        },
        {
         "mode": "lines",
         "type": "scatter3d",
         "x": [
          0,
          1
         ],
         "y": [
          0,
          0.30000001192092896
         ],
         "z": [
          0,
          -0.30000001192092896
         ]
        },
        {
         "mode": "lines",
         "type": "scatter3d",
         "x": [
          0,
          1
         ],
         "y": [
          0,
          0.30000001192092896
         ],
         "z": [
          0,
          -0.23333334922790527
         ]
        },
        {
         "mode": "lines",
         "type": "scatter3d",
         "x": [
          0,
          1
         ],
         "y": [
          0,
          0.30000001192092896
         ],
         "z": [
          0,
          -0.1666666716337204
         ]
        },
        {
         "mode": "lines",
         "type": "scatter3d",
         "x": [
          0,
          1
         ],
         "y": [
          0,
          0.30000001192092896
         ],
         "z": [
          0,
          -0.10000000149011612
         ]
        },
        {
         "mode": "lines",
         "type": "scatter3d",
         "x": [
          0,
          1
         ],
         "y": [
          0,
          0.30000001192092896
         ],
         "z": [
          0,
          -0.03333333134651184
         ]
        },
        {
         "mode": "lines",
         "type": "scatter3d",
         "x": [
          0,
          1
         ],
         "y": [
          0,
          0.30000001192092896
         ],
         "z": [
          0,
          0.03333333134651184
         ]
        },
        {
         "mode": "lines",
         "type": "scatter3d",
         "x": [
          0,
          1
         ],
         "y": [
          0,
          0.30000001192092896
         ],
         "z": [
          0,
          0.10000000149011612
         ]
        },
        {
         "mode": "lines",
         "type": "scatter3d",
         "x": [
          0,
          1
         ],
         "y": [
          0,
          0.30000001192092896
         ],
         "z": [
          0,
          0.1666666716337204
         ]
        },
        {
         "mode": "lines",
         "type": "scatter3d",
         "x": [
          0,
          1
         ],
         "y": [
          0,
          0.30000001192092896
         ],
         "z": [
          0,
          0.23333334922790527
         ]
        },
        {
         "mode": "lines",
         "type": "scatter3d",
         "x": [
          0,
          1
         ],
         "y": [
          0,
          0.30000001192092896
         ],
         "z": [
          0,
          0.30000001192092896
         ]
        }
       ],
       "layout": {
        "height": 600,
        "showlegend": false,
        "template": {
         "data": {
          "bar": [
           {
            "error_x": {
             "color": "#2a3f5f"
            },
            "error_y": {
             "color": "#2a3f5f"
            },
            "marker": {
             "line": {
              "color": "#E5ECF6",
              "width": 0.5
             },
             "pattern": {
              "fillmode": "overlay",
              "size": 10,
              "solidity": 0.2
             }
            },
            "type": "bar"
           }
          ],
          "barpolar": [
           {
            "marker": {
             "line": {
              "color": "#E5ECF6",
              "width": 0.5
             },
             "pattern": {
              "fillmode": "overlay",
              "size": 10,
              "solidity": 0.2
             }
            },
            "type": "barpolar"
           }
          ],
          "carpet": [
           {
            "aaxis": {
             "endlinecolor": "#2a3f5f",
             "gridcolor": "white",
             "linecolor": "white",
             "minorgridcolor": "white",
             "startlinecolor": "#2a3f5f"
            },
            "baxis": {
             "endlinecolor": "#2a3f5f",
             "gridcolor": "white",
             "linecolor": "white",
             "minorgridcolor": "white",
             "startlinecolor": "#2a3f5f"
            },
            "type": "carpet"
           }
          ],
          "choropleth": [
           {
            "colorbar": {
             "outlinewidth": 0,
             "ticks": ""
            },
            "type": "choropleth"
           }
          ],
          "contour": [
           {
            "colorbar": {
             "outlinewidth": 0,
             "ticks": ""
            },
            "colorscale": [
             [
              0,
              "#0d0887"
             ],
             [
              0.1111111111111111,
              "#46039f"
             ],
             [
              0.2222222222222222,
              "#7201a8"
             ],
             [
              0.3333333333333333,
              "#9c179e"
             ],
             [
              0.4444444444444444,
              "#bd3786"
             ],
             [
              0.5555555555555556,
              "#d8576b"
             ],
             [
              0.6666666666666666,
              "#ed7953"
             ],
             [
              0.7777777777777778,
              "#fb9f3a"
             ],
             [
              0.8888888888888888,
              "#fdca26"
             ],
             [
              1,
              "#f0f921"
             ]
            ],
            "type": "contour"
           }
          ],
          "contourcarpet": [
           {
            "colorbar": {
             "outlinewidth": 0,
             "ticks": ""
            },
            "type": "contourcarpet"
           }
          ],
          "heatmap": [
           {
            "colorbar": {
             "outlinewidth": 0,
             "ticks": ""
            },
            "colorscale": [
             [
              0,
              "#0d0887"
             ],
             [
              0.1111111111111111,
              "#46039f"
             ],
             [
              0.2222222222222222,
              "#7201a8"
             ],
             [
              0.3333333333333333,
              "#9c179e"
             ],
             [
              0.4444444444444444,
              "#bd3786"
             ],
             [
              0.5555555555555556,
              "#d8576b"
             ],
             [
              0.6666666666666666,
              "#ed7953"
             ],
             [
              0.7777777777777778,
              "#fb9f3a"
             ],
             [
              0.8888888888888888,
              "#fdca26"
             ],
             [
              1,
              "#f0f921"
             ]
            ],
            "type": "heatmap"
           }
          ],
          "heatmapgl": [
           {
            "colorbar": {
             "outlinewidth": 0,
             "ticks": ""
            },
            "colorscale": [
             [
              0,
              "#0d0887"
             ],
             [
              0.1111111111111111,
              "#46039f"
             ],
             [
              0.2222222222222222,
              "#7201a8"
             ],
             [
              0.3333333333333333,
              "#9c179e"
             ],
             [
              0.4444444444444444,
              "#bd3786"
             ],
             [
              0.5555555555555556,
              "#d8576b"
             ],
             [
              0.6666666666666666,
              "#ed7953"
             ],
             [
              0.7777777777777778,
              "#fb9f3a"
             ],
             [
              0.8888888888888888,
              "#fdca26"
             ],
             [
              1,
              "#f0f921"
             ]
            ],
            "type": "heatmapgl"
           }
          ],
          "histogram": [
           {
            "marker": {
             "pattern": {
              "fillmode": "overlay",
              "size": 10,
              "solidity": 0.2
             }
            },
            "type": "histogram"
           }
          ],
          "histogram2d": [
           {
            "colorbar": {
             "outlinewidth": 0,
             "ticks": ""
            },
            "colorscale": [
             [
              0,
              "#0d0887"
             ],
             [
              0.1111111111111111,
              "#46039f"
             ],
             [
              0.2222222222222222,
              "#7201a8"
             ],
             [
              0.3333333333333333,
              "#9c179e"
             ],
             [
              0.4444444444444444,
              "#bd3786"
             ],
             [
              0.5555555555555556,
              "#d8576b"
             ],
             [
              0.6666666666666666,
              "#ed7953"
             ],
             [
              0.7777777777777778,
              "#fb9f3a"
             ],
             [
              0.8888888888888888,
              "#fdca26"
             ],
             [
              1,
              "#f0f921"
             ]
            ],
            "type": "histogram2d"
           }
          ],
          "histogram2dcontour": [
           {
            "colorbar": {
             "outlinewidth": 0,
             "ticks": ""
            },
            "colorscale": [
             [
              0,
              "#0d0887"
             ],
             [
              0.1111111111111111,
              "#46039f"
             ],
             [
              0.2222222222222222,
              "#7201a8"
             ],
             [
              0.3333333333333333,
              "#9c179e"
             ],
             [
              0.4444444444444444,
              "#bd3786"
             ],
             [
              0.5555555555555556,
              "#d8576b"
             ],
             [
              0.6666666666666666,
              "#ed7953"
             ],
             [
              0.7777777777777778,
              "#fb9f3a"
             ],
             [
              0.8888888888888888,
              "#fdca26"
             ],
             [
              1,
              "#f0f921"
             ]
            ],
            "type": "histogram2dcontour"
           }
          ],
          "mesh3d": [
           {
            "colorbar": {
             "outlinewidth": 0,
             "ticks": ""
            },
            "type": "mesh3d"
           }
          ],
          "parcoords": [
           {
            "line": {
             "colorbar": {
              "outlinewidth": 0,
              "ticks": ""
             }
            },
            "type": "parcoords"
           }
          ],
          "pie": [
           {
            "automargin": true,
            "type": "pie"
           }
          ],
          "scatter": [
           {
            "fillpattern": {
             "fillmode": "overlay",
             "size": 10,
             "solidity": 0.2
            },
            "type": "scatter"
           }
          ],
          "scatter3d": [
           {
            "line": {
             "colorbar": {
              "outlinewidth": 0,
              "ticks": ""
             }
            },
            "marker": {
             "colorbar": {
              "outlinewidth": 0,
              "ticks": ""
             }
            },
            "type": "scatter3d"
           }
          ],
          "scattercarpet": [
           {
            "marker": {
             "colorbar": {
              "outlinewidth": 0,
              "ticks": ""
             }
            },
            "type": "scattercarpet"
           }
          ],
          "scattergeo": [
           {
            "marker": {
             "colorbar": {
              "outlinewidth": 0,
              "ticks": ""
             }
            },
            "type": "scattergeo"
           }
          ],
          "scattergl": [
           {
            "marker": {
             "colorbar": {
              "outlinewidth": 0,
              "ticks": ""
             }
            },
            "type": "scattergl"
           }
          ],
          "scattermapbox": [
           {
            "marker": {
             "colorbar": {
              "outlinewidth": 0,
              "ticks": ""
             }
            },
            "type": "scattermapbox"
           }
          ],
          "scatterpolar": [
           {
            "marker": {
             "colorbar": {
              "outlinewidth": 0,
              "ticks": ""
             }
            },
            "type": "scatterpolar"
           }
          ],
          "scatterpolargl": [
           {
            "marker": {
             "colorbar": {
              "outlinewidth": 0,
              "ticks": ""
             }
            },
            "type": "scatterpolargl"
           }
          ],
          "scatterternary": [
           {
            "marker": {
             "colorbar": {
              "outlinewidth": 0,
              "ticks": ""
             }
            },
            "type": "scatterternary"
           }
          ],
          "surface": [
           {
            "colorbar": {
             "outlinewidth": 0,
             "ticks": ""
            },
            "colorscale": [
             [
              0,
              "#0d0887"
             ],
             [
              0.1111111111111111,
              "#46039f"
             ],
             [
              0.2222222222222222,
              "#7201a8"
             ],
             [
              0.3333333333333333,
              "#9c179e"
             ],
             [
              0.4444444444444444,
              "#bd3786"
             ],
             [
              0.5555555555555556,
              "#d8576b"
             ],
             [
              0.6666666666666666,
              "#ed7953"
             ],
             [
              0.7777777777777778,
              "#fb9f3a"
             ],
             [
              0.8888888888888888,
              "#fdca26"
             ],
             [
              1,
              "#f0f921"
             ]
            ],
            "type": "surface"
           }
          ],
          "table": [
           {
            "cells": {
             "fill": {
              "color": "#EBF0F8"
             },
             "line": {
              "color": "white"
             }
            },
            "header": {
             "fill": {
              "color": "#C8D4E3"
             },
             "line": {
              "color": "white"
             }
            },
            "type": "table"
           }
          ]
         },
         "layout": {
          "annotationdefaults": {
           "arrowcolor": "#2a3f5f",
           "arrowhead": 0,
           "arrowwidth": 1
          },
          "autotypenumbers": "strict",
          "coloraxis": {
           "colorbar": {
            "outlinewidth": 0,
            "ticks": ""
           }
          },
          "colorscale": {
           "diverging": [
            [
             0,
             "#8e0152"
            ],
            [
             0.1,
             "#c51b7d"
            ],
            [
             0.2,
             "#de77ae"
            ],
            [
             0.3,
             "#f1b6da"
            ],
            [
             0.4,
             "#fde0ef"
            ],
            [
             0.5,
             "#f7f7f7"
            ],
            [
             0.6,
             "#e6f5d0"
            ],
            [
             0.7,
             "#b8e186"
            ],
            [
             0.8,
             "#7fbc41"
            ],
            [
             0.9,
             "#4d9221"
            ],
            [
             1,
             "#276419"
            ]
           ],
           "sequential": [
            [
             0,
             "#0d0887"
            ],
            [
             0.1111111111111111,
             "#46039f"
            ],
            [
             0.2222222222222222,
             "#7201a8"
            ],
            [
             0.3333333333333333,
             "#9c179e"
            ],
            [
             0.4444444444444444,
             "#bd3786"
            ],
            [
             0.5555555555555556,
             "#d8576b"
            ],
            [
             0.6666666666666666,
             "#ed7953"
            ],
            [
             0.7777777777777778,
             "#fb9f3a"
            ],
            [
             0.8888888888888888,
             "#fdca26"
            ],
            [
             1,
             "#f0f921"
            ]
           ],
           "sequentialminus": [
            [
             0,
             "#0d0887"
            ],
            [
             0.1111111111111111,
             "#46039f"
            ],
            [
             0.2222222222222222,
             "#7201a8"
            ],
            [
             0.3333333333333333,
             "#9c179e"
            ],
            [
             0.4444444444444444,
             "#bd3786"
            ],
            [
             0.5555555555555556,
             "#d8576b"
            ],
            [
             0.6666666666666666,
             "#ed7953"
            ],
            [
             0.7777777777777778,
             "#fb9f3a"
            ],
            [
             0.8888888888888888,
             "#fdca26"
            ],
            [
             1,
             "#f0f921"
            ]
           ]
          },
          "colorway": [
           "#636efa",
           "#EF553B",
           "#00cc96",
           "#ab63fa",
           "#FFA15A",
           "#19d3f3",
           "#FF6692",
           "#B6E880",
           "#FF97FF",
           "#FECB52"
          ],
          "font": {
           "color": "#2a3f5f"
          },
          "geo": {
           "bgcolor": "white",
           "lakecolor": "white",
           "landcolor": "#E5ECF6",
           "showlakes": true,
           "showland": true,
           "subunitcolor": "white"
          },
          "hoverlabel": {
           "align": "left"
          },
          "hovermode": "closest",
          "mapbox": {
           "style": "light"
          },
          "paper_bgcolor": "white",
          "plot_bgcolor": "#E5ECF6",
          "polar": {
           "angularaxis": {
            "gridcolor": "white",
            "linecolor": "white",
            "ticks": ""
           },
           "bgcolor": "#E5ECF6",
           "radialaxis": {
            "gridcolor": "white",
            "linecolor": "white",
            "ticks": ""
           }
          },
          "scene": {
           "xaxis": {
            "backgroundcolor": "#E5ECF6",
            "gridcolor": "white",
            "gridwidth": 2,
            "linecolor": "white",
            "showbackground": true,
            "ticks": "",
            "zerolinecolor": "white"
           },
           "yaxis": {
            "backgroundcolor": "#E5ECF6",
            "gridcolor": "white",
            "gridwidth": 2,
            "linecolor": "white",
            "showbackground": true,
            "ticks": "",
            "zerolinecolor": "white"
           },
           "zaxis": {
            "backgroundcolor": "#E5ECF6",
            "gridcolor": "white",
            "gridwidth": 2,
            "linecolor": "white",
            "showbackground": true,
            "ticks": "",
            "zerolinecolor": "white"
           }
          },
          "shapedefaults": {
           "line": {
            "color": "#2a3f5f"
           }
          },
          "ternary": {
           "aaxis": {
            "gridcolor": "white",
            "linecolor": "white",
            "ticks": ""
           },
           "baxis": {
            "gridcolor": "white",
            "linecolor": "white",
            "ticks": ""
           },
           "bgcolor": "#E5ECF6",
           "caxis": {
            "gridcolor": "white",
            "linecolor": "white",
            "ticks": ""
           }
          },
          "title": {
           "x": 0.05
          },
          "xaxis": {
           "automargin": true,
           "gridcolor": "white",
           "linecolor": "white",
           "ticks": "",
           "title": {
            "standoff": 15
           },
           "zerolinecolor": "white",
           "zerolinewidth": 2
          },
          "yaxis": {
           "automargin": true,
           "gridcolor": "white",
           "linecolor": "white",
           "ticks": "",
           "title": {
            "standoff": 15
           },
           "zerolinecolor": "white",
           "zerolinewidth": 2
          }
         }
        },
        "title": {
         "text": "3D rays"
        },
        "width": 600
       }
      }
     },
     "metadata": {},
     "output_type": "display_data"
    }
   ],
   "source": [
    "@jaxtyped(typechecker=typeguard.typechecked)\n",
    "def make_rays_2d(num_pixels_y: int, num_pixels_z: int, y_limit: float, z_limit: float) -> Float[t.Tensor, \"nrays 2 3\"]:\n",
    "    '''\n",
    "    num_pixels_y: The number of pixels in the y dimension\n",
    "    num_pixels_z: The number of pixels in the z dimension\n",
    "\n",
    "    y_limit: At x=1, the rays should extend from -y_limit to +y_limit, inclusive of both.\n",
    "    z_limit: At x=1, the rays should extend from -z_limit to +z_limit, inclusive of both.\n",
    "\n",
    "    Returns: shape (num_rays=num_pixels_y * num_pixels_z, num_points=2, num_dims=3).\n",
    "    '''\n",
    "    nrays = num_pixels_y * num_pixels_z\n",
    "    y_space = t.linspace(-y_limit, y_limit, num_pixels_y)\n",
    "    z_space = t.linspace(-z_limit, z_limit, num_pixels_z)\n",
    "    rays = t.zeros(nrays, 2, 3)\n",
    "    rays[:, 1, 0] = 1\n",
    "    rays[:, 1, 1] = einops.repeat(y_space, 'y -> (y z)', z=num_pixels_z)\n",
    "    rays[:, 1, 2] = einops.repeat(z_space, 'z -> (y z)', y=num_pixels_y)\n",
    "    return rays \n",
    "\n",
    "\n",
    "rays_2d = make_rays_2d(10, 10, 0.3, 0.3)\n",
    "render_lines_with_plotly(rays_2d)"
   ]
  },
  {
   "cell_type": "code",
   "execution_count": null,
   "metadata": {},
   "outputs": [],
   "source": []
  },
  {
   "cell_type": "code",
   "execution_count": 16,
   "metadata": {},
   "outputs": [
    {
     "data": {
      "application/vnd.jupyter.widget-view+json": {
       "model_id": "8dcf0a3053414cd9a6d7716989a307f4",
       "version_major": 2,
       "version_minor": 0
      },
      "text/plain": [
       "interactive(children=(FloatSlider(value=0.0, description='u', max=1.5, min=-0.5, step=0.01), FloatSlider(value…"
      ]
     },
     "metadata": {},
     "output_type": "display_data"
    },
    {
     "data": {
      "application/vnd.jupyter.widget-view+json": {
       "model_id": "f9fbbcb4a05b4121973d8bb04a0ec53f",
       "version_major": 2,
       "version_minor": 0
      },
      "text/plain": [
       "FigureWidget({\n",
       "    'data': [{'marker': {'size': 12},\n",
       "              'mode': 'markers+text',\n",
       "              'text': [A, B, C],\n",
       "              'textfont': {'size': 18},\n",
       "              'textposition': 'middle left',\n",
       "              'type': 'scatter',\n",
       "              'uid': '2e1c4ed7-f3ac-45d9-94c7-d7c9dd26e8ef',\n",
       "              'x': array([0., 3., 2.], dtype=float32),\n",
       "              'y': array([0. , 0.5, 3. ], dtype=float32)},\n",
       "             {'mode': 'lines',\n",
       "              'type': 'scatter',\n",
       "              'uid': '1cf504c0-3fb5-4315-a5a3-7b898a5bf27e',\n",
       "              'x': [0.0, 3.0, 2.0, 0.0],\n",
       "              'y': [0.0, 0.5, 3.0, 0.0]},\n",
       "             {'marker': {'size': 12, 'symbol': 'x'},\n",
       "              'mode': 'markers',\n",
       "              'type': 'scatter',\n",
       "              'uid': 'a5220c38-629c-433b-a3f2-dc6e57e6ccb1',\n",
       "              'x': [0.0],\n",
       "              'y': [0.0]}],\n",
       "    'layout': {'height': 600,\n",
       "               'showlegend': False,\n",
       "               'template': '...',\n",
       "               'title': {'text': 'Barycentric coordinates illustration'},\n",
       "               'width': 800,\n",
       "               'xaxis': {'range': [-3, 8]},\n",
       "               'yaxis': {'range': [-2, 5.5]}}\n",
       "})"
      ]
     },
     "metadata": {},
     "output_type": "display_data"
    }
   ],
   "source": [
    "one_triangle = t.tensor([[0, 0, 0], [3, 0.5, 0], [2, 3, 0]])\n",
    "A, B, C = one_triangle\n",
    "x, y, z = one_triangle.T\n",
    "\n",
    "fig = setup_widget_fig_triangle(x, y, z)\n",
    "\n",
    "@interact(u=(-0.5, 1.5, 0.01), v=(-0.5, 1.5, 0.01))\n",
    "def response(u=0.0, v=0.0):\n",
    "    P = A + u * (B - A) + v * (C - A)\n",
    "    fig.data[2].update({\"x\": [P[0]], \"y\": [P[1]]})\n",
    "\n",
    "display(fig)"
   ]
  },
  {
   "cell_type": "code",
   "execution_count": null,
   "metadata": {},
   "outputs": [],
   "source": []
  },
  {
   "cell_type": "code",
   "execution_count": 17,
   "metadata": {},
   "outputs": [
    {
     "name": "stdout",
     "output_type": "stream",
     "text": [
      "All tests in `test_triangle_ray_intersects` passed!\n"
     ]
    },
    {
     "name": "stderr",
     "output_type": "stream",
     "text": [
      "/var/folders/68/wlqmcq9n10s_53tg797666mws3kfyj/T/ipykernel_3476/4009174895.py:3: UserWarning:\n",
      "\n",
      "As of jaxtyping version 0.2.24, jaxtyping now prefers the syntax\n",
      "```\n",
      "from jaxtyping import jaxtyped\n",
      "# Use your favourite typechecker: usually one of the two lines below.\n",
      "from typeguard import typechecked as typechecker\n",
      "from beartype import beartype as typechecker\n",
      "\n",
      "@jaxtyped(typechecker=typechecker)\n",
      "def foo(...):\n",
      "```\n",
      "and the old double-decorator syntax\n",
      "```\n",
      "@jaxtyped\n",
      "@typechecker\n",
      "def foo(...):\n",
      "```\n",
      "should no longer be used. (It will continue to work as it did before, but the new approach will produce more readable error messages.)\n",
      "In particular note that `typechecker` must be passed via keyword argument; the following is not valid:\n",
      "```\n",
      "@jaxtyped(typechecker)\n",
      "def foo(...):\n",
      "```\n",
      "\n",
      "\n"
     ]
    }
   ],
   "source": [
    "Point = Float[Tensor, \"points=3\"]\n",
    "\n",
    "@jaxtyped\n",
    "@typeguard.typechecked\n",
    "def triangle_ray_intersects(A: Point, B: Point, C: Point, O: Point, D: Point) -> bool:\n",
    "    '''\n",
    "    A: shape (3,), one vertex of the triangle\n",
    "    B: shape (3,), second vertex of the triangle\n",
    "    C: shape (3,), third vertex of the triangle\n",
    "    O: shape (3,), origin point\n",
    "    D: shape (3,), direction point\n",
    "\n",
    "    Return True if the ray and the triangle intersect.\n",
    "    '''\n",
    "    lhs = t.stack([-D, (B-A), (C-A)], dim=1)\n",
    "    rhs = O - A\n",
    "    try:\n",
    "        suv = t.linalg.solve(lhs, rhs)\n",
    "    except Exception as e:\n",
    "        return False\n",
    "    s, u, v = suv\n",
    "\n",
    "    return ((u >= 0) & (v >= 0) & (u + v <= 1)).item()\n",
    "\n",
    "\n",
    "tests.test_triangle_ray_intersects(triangle_ray_intersects)"
   ]
  },
  {
   "cell_type": "code",
   "execution_count": 18,
   "metadata": {},
   "outputs": [],
   "source": [
    "a = t.Tensor([[1,2,3],[3,4,5]])\n",
    "b = a.view((3,2))"
   ]
  },
  {
   "cell_type": "code",
   "execution_count": 19,
   "metadata": {},
   "outputs": [
    {
     "name": "stderr",
     "output_type": "stream",
     "text": [
      "/var/folders/68/wlqmcq9n10s_53tg797666mws3kfyj/T/ipykernel_3476/2537080166.py:1: UserWarning:\n",
      "\n",
      "TypedStorage is deprecated. It will be removed in the future and UntypedStorage will be the only storage class. This should only matter to you if you are using storages directly.  To access UntypedStorage directly, use tensor.untyped_storage() instead of tensor.storage()\n",
      "\n"
     ]
    },
    {
     "data": {
      "text/plain": [
       "(13717803776, 13717803776)"
      ]
     },
     "execution_count": 19,
     "metadata": {},
     "output_type": "execute_result"
    }
   ],
   "source": [
    "a.storage().data_ptr(), b.storage().data_ptr()"
   ]
  },
  {
   "cell_type": "code",
   "execution_count": 20,
   "metadata": {},
   "outputs": [],
   "source": [
    "x = t.zeros(1024*1024*1024)\n",
    "y = x[0].detach()"
   ]
  },
  {
   "cell_type": "code",
   "execution_count": 21,
   "metadata": {},
   "outputs": [],
   "source": [
    "del x"
   ]
  },
  {
   "cell_type": "code",
   "execution_count": 22,
   "metadata": {},
   "outputs": [
    {
     "data": {
      "text/plain": [
       "True"
      ]
     },
     "execution_count": 22,
     "metadata": {},
     "output_type": "execute_result"
    }
   ],
   "source": [
    "y._base is None"
   ]
  },
  {
   "cell_type": "code",
   "execution_count": 23,
   "metadata": {},
   "outputs": [
    {
     "data": {
      "application/vnd.plotly.v1+json": {
       "config": {
        "plotlyServerURL": "https://plot.ly"
       },
       "data": [
        {
         "mode": "lines",
         "type": "scatter3d",
         "x": [
          0,
          1
         ],
         "y": [
          0,
          -0.5
         ],
         "z": [
          0,
          -0.5
         ]
        },
        {
         "mode": "lines",
         "type": "scatter3d",
         "x": [
          0,
          1
         ],
         "y": [
          0,
          -0.5
         ],
         "z": [
          0,
          -0.4655172526836395
         ]
        },
        {
         "mode": "lines",
         "type": "scatter3d",
         "x": [
          0,
          1
         ],
         "y": [
          0,
          -0.5
         ],
         "z": [
          0,
          -0.43103447556495667
         ]
        },
        {
         "mode": "lines",
         "type": "scatter3d",
         "x": [
          0,
          1
         ],
         "y": [
          0,
          -0.5
         ],
         "z": [
          0,
          -0.3965517282485962
         ]
        },
        {
         "mode": "lines",
         "type": "scatter3d",
         "x": [
          0,
          1
         ],
         "y": [
          0,
          -0.5
         ],
         "z": [
          0,
          -0.36206895112991333
         ]
        },
        {
         "mode": "lines",
         "type": "scatter3d",
         "x": [
          0,
          1
         ],
         "y": [
          0,
          -0.5
         ],
         "z": [
          0,
          -0.32758620381355286
         ]
        },
        {
         "mode": "lines",
         "type": "scatter3d",
         "x": [
          0,
          1
         ],
         "y": [
          0,
          -0.5
         ],
         "z": [
          0,
          -0.2931034564971924
         ]
        },
        {
         "mode": "lines",
         "type": "scatter3d",
         "x": [
          0,
          1
         ],
         "y": [
          0,
          -0.5
         ],
         "z": [
          0,
          -0.2586206793785095
         ]
        },
        {
         "mode": "lines",
         "type": "scatter3d",
         "x": [
          0,
          1
         ],
         "y": [
          0,
          -0.5
         ],
         "z": [
          0,
          -0.22413793206214905
         ]
        },
        {
         "mode": "lines",
         "type": "scatter3d",
         "x": [
          0,
          1
         ],
         "y": [
          0,
          -0.5
         ],
         "z": [
          0,
          -0.18965516984462738
         ]
        },
        {
         "mode": "lines",
         "type": "scatter3d",
         "x": [
          0,
          1
         ],
         "y": [
          0,
          -0.5
         ],
         "z": [
          0,
          -0.1551724076271057
         ]
        },
        {
         "mode": "lines",
         "type": "scatter3d",
         "x": [
          0,
          1
         ],
         "y": [
          0,
          -0.5
         ],
         "z": [
          0,
          -0.12068966031074524
         ]
        },
        {
         "mode": "lines",
         "type": "scatter3d",
         "x": [
          0,
          1
         ],
         "y": [
          0,
          -0.5
         ],
         "z": [
          0,
          -0.08620689809322357
         ]
        },
        {
         "mode": "lines",
         "type": "scatter3d",
         "x": [
          0,
          1
         ],
         "y": [
          0,
          -0.5
         ],
         "z": [
          0,
          -0.0517241396009922
         ]
        },
        {
         "mode": "lines",
         "type": "scatter3d",
         "x": [
          0,
          1
         ],
         "y": [
          0,
          -0.5
         ],
         "z": [
          0,
          -0.017241381108760834
         ]
        },
        {
         "mode": "lines",
         "type": "scatter3d",
         "x": [
          0,
          1
         ],
         "y": [
          0,
          -0.5
         ],
         "z": [
          0,
          0.017241381108760834
         ]
        },
        {
         "mode": "lines",
         "type": "scatter3d",
         "x": [
          0,
          1
         ],
         "y": [
          0,
          -0.5
         ],
         "z": [
          0,
          0.0517241396009922
         ]
        },
        {
         "mode": "lines",
         "type": "scatter3d",
         "x": [
          0,
          1
         ],
         "y": [
          0,
          -0.5
         ],
         "z": [
          0,
          0.08620689809322357
         ]
        },
        {
         "mode": "lines",
         "type": "scatter3d",
         "x": [
          0,
          1
         ],
         "y": [
          0,
          -0.5
         ],
         "z": [
          0,
          0.12068966031074524
         ]
        },
        {
         "mode": "lines",
         "type": "scatter3d",
         "x": [
          0,
          1
         ],
         "y": [
          0,
          -0.5
         ],
         "z": [
          0,
          0.1551724076271057
         ]
        },
        {
         "mode": "lines",
         "type": "scatter3d",
         "x": [
          0,
          1
         ],
         "y": [
          0,
          -0.5
         ],
         "z": [
          0,
          0.18965516984462738
         ]
        },
        {
         "mode": "lines",
         "type": "scatter3d",
         "x": [
          0,
          1
         ],
         "y": [
          0,
          -0.5
         ],
         "z": [
          0,
          0.22413793206214905
         ]
        },
        {
         "mode": "lines",
         "type": "scatter3d",
         "x": [
          0,
          1
         ],
         "y": [
          0,
          -0.5
         ],
         "z": [
          0,
          0.2586206793785095
         ]
        },
        {
         "mode": "lines",
         "type": "scatter3d",
         "x": [
          0,
          1
         ],
         "y": [
          0,
          -0.5
         ],
         "z": [
          0,
          0.2931034564971924
         ]
        },
        {
         "mode": "lines",
         "type": "scatter3d",
         "x": [
          0,
          1
         ],
         "y": [
          0,
          -0.5
         ],
         "z": [
          0,
          0.32758620381355286
         ]
        },
        {
         "mode": "lines",
         "type": "scatter3d",
         "x": [
          0,
          1
         ],
         "y": [
          0,
          -0.5
         ],
         "z": [
          0,
          0.36206895112991333
         ]
        },
        {
         "mode": "lines",
         "type": "scatter3d",
         "x": [
          0,
          1
         ],
         "y": [
          0,
          -0.5
         ],
         "z": [
          0,
          0.3965517282485962
         ]
        },
        {
         "mode": "lines",
         "type": "scatter3d",
         "x": [
          0,
          1
         ],
         "y": [
          0,
          -0.5
         ],
         "z": [
          0,
          0.43103447556495667
         ]
        },
        {
         "mode": "lines",
         "type": "scatter3d",
         "x": [
          0,
          1
         ],
         "y": [
          0,
          -0.5
         ],
         "z": [
          0,
          0.4655172526836395
         ]
        },
        {
         "mode": "lines",
         "type": "scatter3d",
         "x": [
          0,
          1
         ],
         "y": [
          0,
          -0.5
         ],
         "z": [
          0,
          0.5
         ]
        },
        {
         "mode": "lines",
         "type": "scatter3d",
         "x": [
          0,
          1
         ],
         "y": [
          0,
          -0.4655172526836395
         ],
         "z": [
          0,
          -0.5
         ]
        },
        {
         "mode": "lines",
         "type": "scatter3d",
         "x": [
          0,
          1
         ],
         "y": [
          0,
          -0.4655172526836395
         ],
         "z": [
          0,
          -0.4655172526836395
         ]
        },
        {
         "mode": "lines",
         "type": "scatter3d",
         "x": [
          0,
          1
         ],
         "y": [
          0,
          -0.4655172526836395
         ],
         "z": [
          0,
          -0.43103447556495667
         ]
        },
        {
         "mode": "lines",
         "type": "scatter3d",
         "x": [
          0,
          1
         ],
         "y": [
          0,
          -0.4655172526836395
         ],
         "z": [
          0,
          -0.3965517282485962
         ]
        },
        {
         "mode": "lines",
         "type": "scatter3d",
         "x": [
          0,
          1
         ],
         "y": [
          0,
          -0.4655172526836395
         ],
         "z": [
          0,
          -0.36206895112991333
         ]
        },
        {
         "mode": "lines",
         "type": "scatter3d",
         "x": [
          0,
          1
         ],
         "y": [
          0,
          -0.4655172526836395
         ],
         "z": [
          0,
          -0.32758620381355286
         ]
        },
        {
         "mode": "lines",
         "type": "scatter3d",
         "x": [
          0,
          1
         ],
         "y": [
          0,
          -0.4655172526836395
         ],
         "z": [
          0,
          -0.2931034564971924
         ]
        },
        {
         "mode": "lines",
         "type": "scatter3d",
         "x": [
          0,
          1
         ],
         "y": [
          0,
          -0.4655172526836395
         ],
         "z": [
          0,
          -0.2586206793785095
         ]
        },
        {
         "mode": "lines",
         "type": "scatter3d",
         "x": [
          0,
          1
         ],
         "y": [
          0,
          -0.4655172526836395
         ],
         "z": [
          0,
          -0.22413793206214905
         ]
        },
        {
         "mode": "lines",
         "type": "scatter3d",
         "x": [
          0,
          1
         ],
         "y": [
          0,
          -0.4655172526836395
         ],
         "z": [
          0,
          -0.18965516984462738
         ]
        },
        {
         "mode": "lines",
         "type": "scatter3d",
         "x": [
          0,
          1
         ],
         "y": [
          0,
          -0.4655172526836395
         ],
         "z": [
          0,
          -0.1551724076271057
         ]
        },
        {
         "mode": "lines",
         "type": "scatter3d",
         "x": [
          0,
          1
         ],
         "y": [
          0,
          -0.4655172526836395
         ],
         "z": [
          0,
          -0.12068966031074524
         ]
        },
        {
         "mode": "lines",
         "type": "scatter3d",
         "x": [
          0,
          1
         ],
         "y": [
          0,
          -0.4655172526836395
         ],
         "z": [
          0,
          -0.08620689809322357
         ]
        },
        {
         "mode": "lines",
         "type": "scatter3d",
         "x": [
          0,
          1
         ],
         "y": [
          0,
          -0.4655172526836395
         ],
         "z": [
          0,
          -0.0517241396009922
         ]
        },
        {
         "mode": "lines",
         "type": "scatter3d",
         "x": [
          0,
          1
         ],
         "y": [
          0,
          -0.4655172526836395
         ],
         "z": [
          0,
          -0.017241381108760834
         ]
        },
        {
         "mode": "lines",
         "type": "scatter3d",
         "x": [
          0,
          1
         ],
         "y": [
          0,
          -0.4655172526836395
         ],
         "z": [
          0,
          0.017241381108760834
         ]
        },
        {
         "mode": "lines",
         "type": "scatter3d",
         "x": [
          0,
          1
         ],
         "y": [
          0,
          -0.4655172526836395
         ],
         "z": [
          0,
          0.0517241396009922
         ]
        },
        {
         "mode": "lines",
         "type": "scatter3d",
         "x": [
          0,
          1
         ],
         "y": [
          0,
          -0.4655172526836395
         ],
         "z": [
          0,
          0.08620689809322357
         ]
        },
        {
         "mode": "lines",
         "type": "scatter3d",
         "x": [
          0,
          1
         ],
         "y": [
          0,
          -0.4655172526836395
         ],
         "z": [
          0,
          0.12068966031074524
         ]
        },
        {
         "mode": "lines",
         "type": "scatter3d",
         "x": [
          0,
          1
         ],
         "y": [
          0,
          -0.4655172526836395
         ],
         "z": [
          0,
          0.1551724076271057
         ]
        },
        {
         "mode": "lines",
         "type": "scatter3d",
         "x": [
          0,
          1
         ],
         "y": [
          0,
          -0.4655172526836395
         ],
         "z": [
          0,
          0.18965516984462738
         ]
        },
        {
         "mode": "lines",
         "type": "scatter3d",
         "x": [
          0,
          1
         ],
         "y": [
          0,
          -0.4655172526836395
         ],
         "z": [
          0,
          0.22413793206214905
         ]
        },
        {
         "mode": "lines",
         "type": "scatter3d",
         "x": [
          0,
          1
         ],
         "y": [
          0,
          -0.4655172526836395
         ],
         "z": [
          0,
          0.2586206793785095
         ]
        },
        {
         "mode": "lines",
         "type": "scatter3d",
         "x": [
          0,
          1
         ],
         "y": [
          0,
          -0.4655172526836395
         ],
         "z": [
          0,
          0.2931034564971924
         ]
        },
        {
         "mode": "lines",
         "type": "scatter3d",
         "x": [
          0,
          1
         ],
         "y": [
          0,
          -0.4655172526836395
         ],
         "z": [
          0,
          0.32758620381355286
         ]
        },
        {
         "mode": "lines",
         "type": "scatter3d",
         "x": [
          0,
          1
         ],
         "y": [
          0,
          -0.4655172526836395
         ],
         "z": [
          0,
          0.36206895112991333
         ]
        },
        {
         "mode": "lines",
         "type": "scatter3d",
         "x": [
          0,
          1
         ],
         "y": [
          0,
          -0.4655172526836395
         ],
         "z": [
          0,
          0.3965517282485962
         ]
        },
        {
         "mode": "lines",
         "type": "scatter3d",
         "x": [
          0,
          1
         ],
         "y": [
          0,
          -0.4655172526836395
         ],
         "z": [
          0,
          0.43103447556495667
         ]
        },
        {
         "mode": "lines",
         "type": "scatter3d",
         "x": [
          0,
          1
         ],
         "y": [
          0,
          -0.4655172526836395
         ],
         "z": [
          0,
          0.4655172526836395
         ]
        },
        {
         "mode": "lines",
         "type": "scatter3d",
         "x": [
          0,
          1
         ],
         "y": [
          0,
          -0.4655172526836395
         ],
         "z": [
          0,
          0.5
         ]
        },
        {
         "mode": "lines",
         "type": "scatter3d",
         "x": [
          0,
          1
         ],
         "y": [
          0,
          -0.43103447556495667
         ],
         "z": [
          0,
          -0.5
         ]
        },
        {
         "mode": "lines",
         "type": "scatter3d",
         "x": [
          0,
          1
         ],
         "y": [
          0,
          -0.43103447556495667
         ],
         "z": [
          0,
          -0.4655172526836395
         ]
        },
        {
         "mode": "lines",
         "type": "scatter3d",
         "x": [
          0,
          1
         ],
         "y": [
          0,
          -0.43103447556495667
         ],
         "z": [
          0,
          -0.43103447556495667
         ]
        },
        {
         "mode": "lines",
         "type": "scatter3d",
         "x": [
          0,
          1
         ],
         "y": [
          0,
          -0.43103447556495667
         ],
         "z": [
          0,
          -0.3965517282485962
         ]
        },
        {
         "mode": "lines",
         "type": "scatter3d",
         "x": [
          0,
          1
         ],
         "y": [
          0,
          -0.43103447556495667
         ],
         "z": [
          0,
          -0.36206895112991333
         ]
        },
        {
         "mode": "lines",
         "type": "scatter3d",
         "x": [
          0,
          1
         ],
         "y": [
          0,
          -0.43103447556495667
         ],
         "z": [
          0,
          -0.32758620381355286
         ]
        },
        {
         "mode": "lines",
         "type": "scatter3d",
         "x": [
          0,
          1
         ],
         "y": [
          0,
          -0.43103447556495667
         ],
         "z": [
          0,
          -0.2931034564971924
         ]
        },
        {
         "mode": "lines",
         "type": "scatter3d",
         "x": [
          0,
          1
         ],
         "y": [
          0,
          -0.43103447556495667
         ],
         "z": [
          0,
          -0.2586206793785095
         ]
        },
        {
         "mode": "lines",
         "type": "scatter3d",
         "x": [
          0,
          1
         ],
         "y": [
          0,
          -0.43103447556495667
         ],
         "z": [
          0,
          -0.22413793206214905
         ]
        },
        {
         "mode": "lines",
         "type": "scatter3d",
         "x": [
          0,
          1
         ],
         "y": [
          0,
          -0.43103447556495667
         ],
         "z": [
          0,
          -0.18965516984462738
         ]
        },
        {
         "mode": "lines",
         "type": "scatter3d",
         "x": [
          0,
          1
         ],
         "y": [
          0,
          -0.43103447556495667
         ],
         "z": [
          0,
          -0.1551724076271057
         ]
        },
        {
         "mode": "lines",
         "type": "scatter3d",
         "x": [
          0,
          1
         ],
         "y": [
          0,
          -0.43103447556495667
         ],
         "z": [
          0,
          -0.12068966031074524
         ]
        },
        {
         "mode": "lines",
         "type": "scatter3d",
         "x": [
          0,
          1
         ],
         "y": [
          0,
          -0.43103447556495667
         ],
         "z": [
          0,
          -0.08620689809322357
         ]
        },
        {
         "mode": "lines",
         "type": "scatter3d",
         "x": [
          0,
          1
         ],
         "y": [
          0,
          -0.43103447556495667
         ],
         "z": [
          0,
          -0.0517241396009922
         ]
        },
        {
         "mode": "lines",
         "type": "scatter3d",
         "x": [
          0,
          1
         ],
         "y": [
          0,
          -0.43103447556495667
         ],
         "z": [
          0,
          -0.017241381108760834
         ]
        },
        {
         "mode": "lines",
         "type": "scatter3d",
         "x": [
          0,
          1
         ],
         "y": [
          0,
          -0.43103447556495667
         ],
         "z": [
          0,
          0.017241381108760834
         ]
        },
        {
         "mode": "lines",
         "type": "scatter3d",
         "x": [
          0,
          1
         ],
         "y": [
          0,
          -0.43103447556495667
         ],
         "z": [
          0,
          0.0517241396009922
         ]
        },
        {
         "mode": "lines",
         "type": "scatter3d",
         "x": [
          0,
          1
         ],
         "y": [
          0,
          -0.43103447556495667
         ],
         "z": [
          0,
          0.08620689809322357
         ]
        },
        {
         "mode": "lines",
         "type": "scatter3d",
         "x": [
          0,
          1
         ],
         "y": [
          0,
          -0.43103447556495667
         ],
         "z": [
          0,
          0.12068966031074524
         ]
        },
        {
         "mode": "lines",
         "type": "scatter3d",
         "x": [
          0,
          1
         ],
         "y": [
          0,
          -0.43103447556495667
         ],
         "z": [
          0,
          0.1551724076271057
         ]
        },
        {
         "mode": "lines",
         "type": "scatter3d",
         "x": [
          0,
          1
         ],
         "y": [
          0,
          -0.43103447556495667
         ],
         "z": [
          0,
          0.18965516984462738
         ]
        },
        {
         "mode": "lines",
         "type": "scatter3d",
         "x": [
          0,
          1
         ],
         "y": [
          0,
          -0.43103447556495667
         ],
         "z": [
          0,
          0.22413793206214905
         ]
        },
        {
         "mode": "lines",
         "type": "scatter3d",
         "x": [
          0,
          1
         ],
         "y": [
          0,
          -0.43103447556495667
         ],
         "z": [
          0,
          0.2586206793785095
         ]
        },
        {
         "mode": "lines",
         "type": "scatter3d",
         "x": [
          0,
          1
         ],
         "y": [
          0,
          -0.43103447556495667
         ],
         "z": [
          0,
          0.2931034564971924
         ]
        },
        {
         "mode": "lines",
         "type": "scatter3d",
         "x": [
          0,
          1
         ],
         "y": [
          0,
          -0.43103447556495667
         ],
         "z": [
          0,
          0.32758620381355286
         ]
        },
        {
         "mode": "lines",
         "type": "scatter3d",
         "x": [
          0,
          1
         ],
         "y": [
          0,
          -0.43103447556495667
         ],
         "z": [
          0,
          0.36206895112991333
         ]
        },
        {
         "mode": "lines",
         "type": "scatter3d",
         "x": [
          0,
          1
         ],
         "y": [
          0,
          -0.43103447556495667
         ],
         "z": [
          0,
          0.3965517282485962
         ]
        },
        {
         "mode": "lines",
         "type": "scatter3d",
         "x": [
          0,
          1
         ],
         "y": [
          0,
          -0.43103447556495667
         ],
         "z": [
          0,
          0.43103447556495667
         ]
        },
        {
         "mode": "lines",
         "type": "scatter3d",
         "x": [
          0,
          1
         ],
         "y": [
          0,
          -0.43103447556495667
         ],
         "z": [
          0,
          0.4655172526836395
         ]
        },
        {
         "mode": "lines",
         "type": "scatter3d",
         "x": [
          0,
          1
         ],
         "y": [
          0,
          -0.43103447556495667
         ],
         "z": [
          0,
          0.5
         ]
        },
        {
         "mode": "lines",
         "type": "scatter3d",
         "x": [
          0,
          1
         ],
         "y": [
          0,
          -0.3965517282485962
         ],
         "z": [
          0,
          -0.5
         ]
        },
        {
         "mode": "lines",
         "type": "scatter3d",
         "x": [
          0,
          1
         ],
         "y": [
          0,
          -0.3965517282485962
         ],
         "z": [
          0,
          -0.4655172526836395
         ]
        },
        {
         "mode": "lines",
         "type": "scatter3d",
         "x": [
          0,
          1
         ],
         "y": [
          0,
          -0.3965517282485962
         ],
         "z": [
          0,
          -0.43103447556495667
         ]
        },
        {
         "mode": "lines",
         "type": "scatter3d",
         "x": [
          0,
          1
         ],
         "y": [
          0,
          -0.3965517282485962
         ],
         "z": [
          0,
          -0.3965517282485962
         ]
        },
        {
         "mode": "lines",
         "type": "scatter3d",
         "x": [
          0,
          1
         ],
         "y": [
          0,
          -0.3965517282485962
         ],
         "z": [
          0,
          -0.36206895112991333
         ]
        },
        {
         "mode": "lines",
         "type": "scatter3d",
         "x": [
          0,
          1
         ],
         "y": [
          0,
          -0.3965517282485962
         ],
         "z": [
          0,
          -0.32758620381355286
         ]
        },
        {
         "mode": "lines",
         "type": "scatter3d",
         "x": [
          0,
          1
         ],
         "y": [
          0,
          -0.3965517282485962
         ],
         "z": [
          0,
          -0.2931034564971924
         ]
        },
        {
         "mode": "lines",
         "type": "scatter3d",
         "x": [
          0,
          1
         ],
         "y": [
          0,
          -0.3965517282485962
         ],
         "z": [
          0,
          -0.2586206793785095
         ]
        },
        {
         "mode": "lines",
         "type": "scatter3d",
         "x": [
          0,
          1
         ],
         "y": [
          0,
          -0.3965517282485962
         ],
         "z": [
          0,
          -0.22413793206214905
         ]
        },
        {
         "mode": "lines",
         "type": "scatter3d",
         "x": [
          0,
          1
         ],
         "y": [
          0,
          -0.3965517282485962
         ],
         "z": [
          0,
          -0.18965516984462738
         ]
        },
        {
         "mode": "lines",
         "type": "scatter3d",
         "x": [
          0,
          1
         ],
         "y": [
          0,
          -0.3965517282485962
         ],
         "z": [
          0,
          -0.1551724076271057
         ]
        },
        {
         "mode": "lines",
         "type": "scatter3d",
         "x": [
          0,
          1
         ],
         "y": [
          0,
          -0.3965517282485962
         ],
         "z": [
          0,
          -0.12068966031074524
         ]
        },
        {
         "mode": "lines",
         "type": "scatter3d",
         "x": [
          0,
          1
         ],
         "y": [
          0,
          -0.3965517282485962
         ],
         "z": [
          0,
          -0.08620689809322357
         ]
        },
        {
         "mode": "lines",
         "type": "scatter3d",
         "x": [
          0,
          1
         ],
         "y": [
          0,
          -0.3965517282485962
         ],
         "z": [
          0,
          -0.0517241396009922
         ]
        },
        {
         "mode": "lines",
         "type": "scatter3d",
         "x": [
          0,
          1
         ],
         "y": [
          0,
          -0.3965517282485962
         ],
         "z": [
          0,
          -0.017241381108760834
         ]
        },
        {
         "mode": "lines",
         "type": "scatter3d",
         "x": [
          0,
          1
         ],
         "y": [
          0,
          -0.3965517282485962
         ],
         "z": [
          0,
          0.017241381108760834
         ]
        },
        {
         "mode": "lines",
         "type": "scatter3d",
         "x": [
          0,
          1
         ],
         "y": [
          0,
          -0.3965517282485962
         ],
         "z": [
          0,
          0.0517241396009922
         ]
        },
        {
         "mode": "lines",
         "type": "scatter3d",
         "x": [
          0,
          1
         ],
         "y": [
          0,
          -0.3965517282485962
         ],
         "z": [
          0,
          0.08620689809322357
         ]
        },
        {
         "mode": "lines",
         "type": "scatter3d",
         "x": [
          0,
          1
         ],
         "y": [
          0,
          -0.3965517282485962
         ],
         "z": [
          0,
          0.12068966031074524
         ]
        },
        {
         "mode": "lines",
         "type": "scatter3d",
         "x": [
          0,
          1
         ],
         "y": [
          0,
          -0.3965517282485962
         ],
         "z": [
          0,
          0.1551724076271057
         ]
        },
        {
         "mode": "lines",
         "type": "scatter3d",
         "x": [
          0,
          1
         ],
         "y": [
          0,
          -0.3965517282485962
         ],
         "z": [
          0,
          0.18965516984462738
         ]
        },
        {
         "mode": "lines",
         "type": "scatter3d",
         "x": [
          0,
          1
         ],
         "y": [
          0,
          -0.3965517282485962
         ],
         "z": [
          0,
          0.22413793206214905
         ]
        },
        {
         "mode": "lines",
         "type": "scatter3d",
         "x": [
          0,
          1
         ],
         "y": [
          0,
          -0.3965517282485962
         ],
         "z": [
          0,
          0.2586206793785095
         ]
        },
        {
         "mode": "lines",
         "type": "scatter3d",
         "x": [
          0,
          1
         ],
         "y": [
          0,
          -0.3965517282485962
         ],
         "z": [
          0,
          0.2931034564971924
         ]
        },
        {
         "mode": "lines",
         "type": "scatter3d",
         "x": [
          0,
          1
         ],
         "y": [
          0,
          -0.3965517282485962
         ],
         "z": [
          0,
          0.32758620381355286
         ]
        },
        {
         "mode": "lines",
         "type": "scatter3d",
         "x": [
          0,
          1
         ],
         "y": [
          0,
          -0.3965517282485962
         ],
         "z": [
          0,
          0.36206895112991333
         ]
        },
        {
         "mode": "lines",
         "type": "scatter3d",
         "x": [
          0,
          1
         ],
         "y": [
          0,
          -0.3965517282485962
         ],
         "z": [
          0,
          0.3965517282485962
         ]
        },
        {
         "mode": "lines",
         "type": "scatter3d",
         "x": [
          0,
          1
         ],
         "y": [
          0,
          -0.3965517282485962
         ],
         "z": [
          0,
          0.43103447556495667
         ]
        },
        {
         "mode": "lines",
         "type": "scatter3d",
         "x": [
          0,
          1
         ],
         "y": [
          0,
          -0.3965517282485962
         ],
         "z": [
          0,
          0.4655172526836395
         ]
        },
        {
         "mode": "lines",
         "type": "scatter3d",
         "x": [
          0,
          1
         ],
         "y": [
          0,
          -0.3965517282485962
         ],
         "z": [
          0,
          0.5
         ]
        },
        {
         "mode": "lines",
         "type": "scatter3d",
         "x": [
          0,
          1
         ],
         "y": [
          0,
          -0.36206895112991333
         ],
         "z": [
          0,
          -0.5
         ]
        },
        {
         "mode": "lines",
         "type": "scatter3d",
         "x": [
          0,
          1
         ],
         "y": [
          0,
          -0.36206895112991333
         ],
         "z": [
          0,
          -0.4655172526836395
         ]
        },
        {
         "mode": "lines",
         "type": "scatter3d",
         "x": [
          0,
          1
         ],
         "y": [
          0,
          -0.36206895112991333
         ],
         "z": [
          0,
          -0.43103447556495667
         ]
        },
        {
         "mode": "lines",
         "type": "scatter3d",
         "x": [
          0,
          1
         ],
         "y": [
          0,
          -0.36206895112991333
         ],
         "z": [
          0,
          -0.3965517282485962
         ]
        },
        {
         "mode": "lines",
         "type": "scatter3d",
         "x": [
          0,
          1
         ],
         "y": [
          0,
          -0.36206895112991333
         ],
         "z": [
          0,
          -0.36206895112991333
         ]
        },
        {
         "mode": "lines",
         "type": "scatter3d",
         "x": [
          0,
          1
         ],
         "y": [
          0,
          -0.36206895112991333
         ],
         "z": [
          0,
          -0.32758620381355286
         ]
        },
        {
         "mode": "lines",
         "type": "scatter3d",
         "x": [
          0,
          1
         ],
         "y": [
          0,
          -0.36206895112991333
         ],
         "z": [
          0,
          -0.2931034564971924
         ]
        },
        {
         "mode": "lines",
         "type": "scatter3d",
         "x": [
          0,
          1
         ],
         "y": [
          0,
          -0.36206895112991333
         ],
         "z": [
          0,
          -0.2586206793785095
         ]
        },
        {
         "mode": "lines",
         "type": "scatter3d",
         "x": [
          0,
          1
         ],
         "y": [
          0,
          -0.36206895112991333
         ],
         "z": [
          0,
          -0.22413793206214905
         ]
        },
        {
         "mode": "lines",
         "type": "scatter3d",
         "x": [
          0,
          1
         ],
         "y": [
          0,
          -0.36206895112991333
         ],
         "z": [
          0,
          -0.18965516984462738
         ]
        },
        {
         "mode": "lines",
         "type": "scatter3d",
         "x": [
          0,
          1
         ],
         "y": [
          0,
          -0.36206895112991333
         ],
         "z": [
          0,
          -0.1551724076271057
         ]
        },
        {
         "mode": "lines",
         "type": "scatter3d",
         "x": [
          0,
          1
         ],
         "y": [
          0,
          -0.36206895112991333
         ],
         "z": [
          0,
          -0.12068966031074524
         ]
        },
        {
         "mode": "lines",
         "type": "scatter3d",
         "x": [
          0,
          1
         ],
         "y": [
          0,
          -0.36206895112991333
         ],
         "z": [
          0,
          -0.08620689809322357
         ]
        },
        {
         "mode": "lines",
         "type": "scatter3d",
         "x": [
          0,
          1
         ],
         "y": [
          0,
          -0.36206895112991333
         ],
         "z": [
          0,
          -0.0517241396009922
         ]
        },
        {
         "mode": "lines",
         "type": "scatter3d",
         "x": [
          0,
          1
         ],
         "y": [
          0,
          -0.36206895112991333
         ],
         "z": [
          0,
          -0.017241381108760834
         ]
        },
        {
         "mode": "lines",
         "type": "scatter3d",
         "x": [
          0,
          1
         ],
         "y": [
          0,
          -0.36206895112991333
         ],
         "z": [
          0,
          0.017241381108760834
         ]
        },
        {
         "mode": "lines",
         "type": "scatter3d",
         "x": [
          0,
          1
         ],
         "y": [
          0,
          -0.36206895112991333
         ],
         "z": [
          0,
          0.0517241396009922
         ]
        },
        {
         "mode": "lines",
         "type": "scatter3d",
         "x": [
          0,
          1
         ],
         "y": [
          0,
          -0.36206895112991333
         ],
         "z": [
          0,
          0.08620689809322357
         ]
        },
        {
         "mode": "lines",
         "type": "scatter3d",
         "x": [
          0,
          1
         ],
         "y": [
          0,
          -0.36206895112991333
         ],
         "z": [
          0,
          0.12068966031074524
         ]
        },
        {
         "mode": "lines",
         "type": "scatter3d",
         "x": [
          0,
          1
         ],
         "y": [
          0,
          -0.36206895112991333
         ],
         "z": [
          0,
          0.1551724076271057
         ]
        },
        {
         "mode": "lines",
         "type": "scatter3d",
         "x": [
          0,
          1
         ],
         "y": [
          0,
          -0.36206895112991333
         ],
         "z": [
          0,
          0.18965516984462738
         ]
        },
        {
         "mode": "lines",
         "type": "scatter3d",
         "x": [
          0,
          1
         ],
         "y": [
          0,
          -0.36206895112991333
         ],
         "z": [
          0,
          0.22413793206214905
         ]
        },
        {
         "mode": "lines",
         "type": "scatter3d",
         "x": [
          0,
          1
         ],
         "y": [
          0,
          -0.36206895112991333
         ],
         "z": [
          0,
          0.2586206793785095
         ]
        },
        {
         "mode": "lines",
         "type": "scatter3d",
         "x": [
          0,
          1
         ],
         "y": [
          0,
          -0.36206895112991333
         ],
         "z": [
          0,
          0.2931034564971924
         ]
        },
        {
         "mode": "lines",
         "type": "scatter3d",
         "x": [
          0,
          1
         ],
         "y": [
          0,
          -0.36206895112991333
         ],
         "z": [
          0,
          0.32758620381355286
         ]
        },
        {
         "mode": "lines",
         "type": "scatter3d",
         "x": [
          0,
          1
         ],
         "y": [
          0,
          -0.36206895112991333
         ],
         "z": [
          0,
          0.36206895112991333
         ]
        },
        {
         "mode": "lines",
         "type": "scatter3d",
         "x": [
          0,
          1
         ],
         "y": [
          0,
          -0.36206895112991333
         ],
         "z": [
          0,
          0.3965517282485962
         ]
        },
        {
         "mode": "lines",
         "type": "scatter3d",
         "x": [
          0,
          1
         ],
         "y": [
          0,
          -0.36206895112991333
         ],
         "z": [
          0,
          0.43103447556495667
         ]
        },
        {
         "mode": "lines",
         "type": "scatter3d",
         "x": [
          0,
          1
         ],
         "y": [
          0,
          -0.36206895112991333
         ],
         "z": [
          0,
          0.4655172526836395
         ]
        },
        {
         "mode": "lines",
         "type": "scatter3d",
         "x": [
          0,
          1
         ],
         "y": [
          0,
          -0.36206895112991333
         ],
         "z": [
          0,
          0.5
         ]
        },
        {
         "mode": "lines",
         "type": "scatter3d",
         "x": [
          0,
          1
         ],
         "y": [
          0,
          -0.32758620381355286
         ],
         "z": [
          0,
          -0.5
         ]
        },
        {
         "mode": "lines",
         "type": "scatter3d",
         "x": [
          0,
          1
         ],
         "y": [
          0,
          -0.32758620381355286
         ],
         "z": [
          0,
          -0.4655172526836395
         ]
        },
        {
         "mode": "lines",
         "type": "scatter3d",
         "x": [
          0,
          1
         ],
         "y": [
          0,
          -0.32758620381355286
         ],
         "z": [
          0,
          -0.43103447556495667
         ]
        },
        {
         "mode": "lines",
         "type": "scatter3d",
         "x": [
          0,
          1
         ],
         "y": [
          0,
          -0.32758620381355286
         ],
         "z": [
          0,
          -0.3965517282485962
         ]
        },
        {
         "mode": "lines",
         "type": "scatter3d",
         "x": [
          0,
          1
         ],
         "y": [
          0,
          -0.32758620381355286
         ],
         "z": [
          0,
          -0.36206895112991333
         ]
        },
        {
         "mode": "lines",
         "type": "scatter3d",
         "x": [
          0,
          1
         ],
         "y": [
          0,
          -0.32758620381355286
         ],
         "z": [
          0,
          -0.32758620381355286
         ]
        },
        {
         "mode": "lines",
         "type": "scatter3d",
         "x": [
          0,
          1
         ],
         "y": [
          0,
          -0.32758620381355286
         ],
         "z": [
          0,
          -0.2931034564971924
         ]
        },
        {
         "mode": "lines",
         "type": "scatter3d",
         "x": [
          0,
          1
         ],
         "y": [
          0,
          -0.32758620381355286
         ],
         "z": [
          0,
          -0.2586206793785095
         ]
        },
        {
         "mode": "lines",
         "type": "scatter3d",
         "x": [
          0,
          1
         ],
         "y": [
          0,
          -0.32758620381355286
         ],
         "z": [
          0,
          -0.22413793206214905
         ]
        },
        {
         "mode": "lines",
         "type": "scatter3d",
         "x": [
          0,
          1
         ],
         "y": [
          0,
          -0.32758620381355286
         ],
         "z": [
          0,
          -0.18965516984462738
         ]
        },
        {
         "mode": "lines",
         "type": "scatter3d",
         "x": [
          0,
          1
         ],
         "y": [
          0,
          -0.32758620381355286
         ],
         "z": [
          0,
          -0.1551724076271057
         ]
        },
        {
         "mode": "lines",
         "type": "scatter3d",
         "x": [
          0,
          1
         ],
         "y": [
          0,
          -0.32758620381355286
         ],
         "z": [
          0,
          -0.12068966031074524
         ]
        },
        {
         "mode": "lines",
         "type": "scatter3d",
         "x": [
          0,
          1
         ],
         "y": [
          0,
          -0.32758620381355286
         ],
         "z": [
          0,
          -0.08620689809322357
         ]
        },
        {
         "mode": "lines",
         "type": "scatter3d",
         "x": [
          0,
          1
         ],
         "y": [
          0,
          -0.32758620381355286
         ],
         "z": [
          0,
          -0.0517241396009922
         ]
        },
        {
         "mode": "lines",
         "type": "scatter3d",
         "x": [
          0,
          1
         ],
         "y": [
          0,
          -0.32758620381355286
         ],
         "z": [
          0,
          -0.017241381108760834
         ]
        },
        {
         "mode": "lines",
         "type": "scatter3d",
         "x": [
          0,
          1
         ],
         "y": [
          0,
          -0.32758620381355286
         ],
         "z": [
          0,
          0.017241381108760834
         ]
        },
        {
         "mode": "lines",
         "type": "scatter3d",
         "x": [
          0,
          1
         ],
         "y": [
          0,
          -0.32758620381355286
         ],
         "z": [
          0,
          0.0517241396009922
         ]
        },
        {
         "mode": "lines",
         "type": "scatter3d",
         "x": [
          0,
          1
         ],
         "y": [
          0,
          -0.32758620381355286
         ],
         "z": [
          0,
          0.08620689809322357
         ]
        },
        {
         "mode": "lines",
         "type": "scatter3d",
         "x": [
          0,
          1
         ],
         "y": [
          0,
          -0.32758620381355286
         ],
         "z": [
          0,
          0.12068966031074524
         ]
        },
        {
         "mode": "lines",
         "type": "scatter3d",
         "x": [
          0,
          1
         ],
         "y": [
          0,
          -0.32758620381355286
         ],
         "z": [
          0,
          0.1551724076271057
         ]
        },
        {
         "mode": "lines",
         "type": "scatter3d",
         "x": [
          0,
          1
         ],
         "y": [
          0,
          -0.32758620381355286
         ],
         "z": [
          0,
          0.18965516984462738
         ]
        },
        {
         "mode": "lines",
         "type": "scatter3d",
         "x": [
          0,
          1
         ],
         "y": [
          0,
          -0.32758620381355286
         ],
         "z": [
          0,
          0.22413793206214905
         ]
        },
        {
         "mode": "lines",
         "type": "scatter3d",
         "x": [
          0,
          1
         ],
         "y": [
          0,
          -0.32758620381355286
         ],
         "z": [
          0,
          0.2586206793785095
         ]
        },
        {
         "mode": "lines",
         "type": "scatter3d",
         "x": [
          0,
          1
         ],
         "y": [
          0,
          -0.32758620381355286
         ],
         "z": [
          0,
          0.2931034564971924
         ]
        },
        {
         "mode": "lines",
         "type": "scatter3d",
         "x": [
          0,
          1
         ],
         "y": [
          0,
          -0.32758620381355286
         ],
         "z": [
          0,
          0.32758620381355286
         ]
        },
        {
         "mode": "lines",
         "type": "scatter3d",
         "x": [
          0,
          1
         ],
         "y": [
          0,
          -0.32758620381355286
         ],
         "z": [
          0,
          0.36206895112991333
         ]
        },
        {
         "mode": "lines",
         "type": "scatter3d",
         "x": [
          0,
          1
         ],
         "y": [
          0,
          -0.32758620381355286
         ],
         "z": [
          0,
          0.3965517282485962
         ]
        },
        {
         "mode": "lines",
         "type": "scatter3d",
         "x": [
          0,
          1
         ],
         "y": [
          0,
          -0.32758620381355286
         ],
         "z": [
          0,
          0.43103447556495667
         ]
        },
        {
         "mode": "lines",
         "type": "scatter3d",
         "x": [
          0,
          1
         ],
         "y": [
          0,
          -0.32758620381355286
         ],
         "z": [
          0,
          0.4655172526836395
         ]
        },
        {
         "mode": "lines",
         "type": "scatter3d",
         "x": [
          0,
          1
         ],
         "y": [
          0,
          -0.32758620381355286
         ],
         "z": [
          0,
          0.5
         ]
        },
        {
         "mode": "lines",
         "type": "scatter3d",
         "x": [
          0,
          1
         ],
         "y": [
          0,
          -0.2931034564971924
         ],
         "z": [
          0,
          -0.5
         ]
        },
        {
         "mode": "lines",
         "type": "scatter3d",
         "x": [
          0,
          1
         ],
         "y": [
          0,
          -0.2931034564971924
         ],
         "z": [
          0,
          -0.4655172526836395
         ]
        },
        {
         "mode": "lines",
         "type": "scatter3d",
         "x": [
          0,
          1
         ],
         "y": [
          0,
          -0.2931034564971924
         ],
         "z": [
          0,
          -0.43103447556495667
         ]
        },
        {
         "mode": "lines",
         "type": "scatter3d",
         "x": [
          0,
          1
         ],
         "y": [
          0,
          -0.2931034564971924
         ],
         "z": [
          0,
          -0.3965517282485962
         ]
        },
        {
         "mode": "lines",
         "type": "scatter3d",
         "x": [
          0,
          1
         ],
         "y": [
          0,
          -0.2931034564971924
         ],
         "z": [
          0,
          -0.36206895112991333
         ]
        },
        {
         "mode": "lines",
         "type": "scatter3d",
         "x": [
          0,
          1
         ],
         "y": [
          0,
          -0.2931034564971924
         ],
         "z": [
          0,
          -0.32758620381355286
         ]
        },
        {
         "mode": "lines",
         "type": "scatter3d",
         "x": [
          0,
          1
         ],
         "y": [
          0,
          -0.2931034564971924
         ],
         "z": [
          0,
          -0.2931034564971924
         ]
        },
        {
         "mode": "lines",
         "type": "scatter3d",
         "x": [
          0,
          1
         ],
         "y": [
          0,
          -0.2931034564971924
         ],
         "z": [
          0,
          -0.2586206793785095
         ]
        },
        {
         "mode": "lines",
         "type": "scatter3d",
         "x": [
          0,
          1
         ],
         "y": [
          0,
          -0.2931034564971924
         ],
         "z": [
          0,
          -0.22413793206214905
         ]
        },
        {
         "mode": "lines",
         "type": "scatter3d",
         "x": [
          0,
          1
         ],
         "y": [
          0,
          -0.2931034564971924
         ],
         "z": [
          0,
          -0.18965516984462738
         ]
        },
        {
         "mode": "lines",
         "type": "scatter3d",
         "x": [
          0,
          1
         ],
         "y": [
          0,
          -0.2931034564971924
         ],
         "z": [
          0,
          -0.1551724076271057
         ]
        },
        {
         "mode": "lines",
         "type": "scatter3d",
         "x": [
          0,
          1
         ],
         "y": [
          0,
          -0.2931034564971924
         ],
         "z": [
          0,
          -0.12068966031074524
         ]
        },
        {
         "mode": "lines",
         "type": "scatter3d",
         "x": [
          0,
          1
         ],
         "y": [
          0,
          -0.2931034564971924
         ],
         "z": [
          0,
          -0.08620689809322357
         ]
        },
        {
         "mode": "lines",
         "type": "scatter3d",
         "x": [
          0,
          1
         ],
         "y": [
          0,
          -0.2931034564971924
         ],
         "z": [
          0,
          -0.0517241396009922
         ]
        },
        {
         "mode": "lines",
         "type": "scatter3d",
         "x": [
          0,
          1
         ],
         "y": [
          0,
          -0.2931034564971924
         ],
         "z": [
          0,
          -0.017241381108760834
         ]
        },
        {
         "mode": "lines",
         "type": "scatter3d",
         "x": [
          0,
          1
         ],
         "y": [
          0,
          -0.2931034564971924
         ],
         "z": [
          0,
          0.017241381108760834
         ]
        },
        {
         "mode": "lines",
         "type": "scatter3d",
         "x": [
          0,
          1
         ],
         "y": [
          0,
          -0.2931034564971924
         ],
         "z": [
          0,
          0.0517241396009922
         ]
        },
        {
         "mode": "lines",
         "type": "scatter3d",
         "x": [
          0,
          1
         ],
         "y": [
          0,
          -0.2931034564971924
         ],
         "z": [
          0,
          0.08620689809322357
         ]
        },
        {
         "mode": "lines",
         "type": "scatter3d",
         "x": [
          0,
          1
         ],
         "y": [
          0,
          -0.2931034564971924
         ],
         "z": [
          0,
          0.12068966031074524
         ]
        },
        {
         "mode": "lines",
         "type": "scatter3d",
         "x": [
          0,
          1
         ],
         "y": [
          0,
          -0.2931034564971924
         ],
         "z": [
          0,
          0.1551724076271057
         ]
        },
        {
         "mode": "lines",
         "type": "scatter3d",
         "x": [
          0,
          1
         ],
         "y": [
          0,
          -0.2931034564971924
         ],
         "z": [
          0,
          0.18965516984462738
         ]
        },
        {
         "mode": "lines",
         "type": "scatter3d",
         "x": [
          0,
          1
         ],
         "y": [
          0,
          -0.2931034564971924
         ],
         "z": [
          0,
          0.22413793206214905
         ]
        },
        {
         "mode": "lines",
         "type": "scatter3d",
         "x": [
          0,
          1
         ],
         "y": [
          0,
          -0.2931034564971924
         ],
         "z": [
          0,
          0.2586206793785095
         ]
        },
        {
         "mode": "lines",
         "type": "scatter3d",
         "x": [
          0,
          1
         ],
         "y": [
          0,
          -0.2931034564971924
         ],
         "z": [
          0,
          0.2931034564971924
         ]
        },
        {
         "mode": "lines",
         "type": "scatter3d",
         "x": [
          0,
          1
         ],
         "y": [
          0,
          -0.2931034564971924
         ],
         "z": [
          0,
          0.32758620381355286
         ]
        },
        {
         "mode": "lines",
         "type": "scatter3d",
         "x": [
          0,
          1
         ],
         "y": [
          0,
          -0.2931034564971924
         ],
         "z": [
          0,
          0.36206895112991333
         ]
        },
        {
         "mode": "lines",
         "type": "scatter3d",
         "x": [
          0,
          1
         ],
         "y": [
          0,
          -0.2931034564971924
         ],
         "z": [
          0,
          0.3965517282485962
         ]
        },
        {
         "mode": "lines",
         "type": "scatter3d",
         "x": [
          0,
          1
         ],
         "y": [
          0,
          -0.2931034564971924
         ],
         "z": [
          0,
          0.43103447556495667
         ]
        },
        {
         "mode": "lines",
         "type": "scatter3d",
         "x": [
          0,
          1
         ],
         "y": [
          0,
          -0.2931034564971924
         ],
         "z": [
          0,
          0.4655172526836395
         ]
        },
        {
         "mode": "lines",
         "type": "scatter3d",
         "x": [
          0,
          1
         ],
         "y": [
          0,
          -0.2931034564971924
         ],
         "z": [
          0,
          0.5
         ]
        },
        {
         "mode": "lines",
         "type": "scatter3d",
         "x": [
          0,
          1
         ],
         "y": [
          0,
          -0.2586206793785095
         ],
         "z": [
          0,
          -0.5
         ]
        },
        {
         "mode": "lines",
         "type": "scatter3d",
         "x": [
          0,
          1
         ],
         "y": [
          0,
          -0.2586206793785095
         ],
         "z": [
          0,
          -0.4655172526836395
         ]
        },
        {
         "mode": "lines",
         "type": "scatter3d",
         "x": [
          0,
          1
         ],
         "y": [
          0,
          -0.2586206793785095
         ],
         "z": [
          0,
          -0.43103447556495667
         ]
        },
        {
         "mode": "lines",
         "type": "scatter3d",
         "x": [
          0,
          1
         ],
         "y": [
          0,
          -0.2586206793785095
         ],
         "z": [
          0,
          -0.3965517282485962
         ]
        },
        {
         "mode": "lines",
         "type": "scatter3d",
         "x": [
          0,
          1
         ],
         "y": [
          0,
          -0.2586206793785095
         ],
         "z": [
          0,
          -0.36206895112991333
         ]
        },
        {
         "mode": "lines",
         "type": "scatter3d",
         "x": [
          0,
          1
         ],
         "y": [
          0,
          -0.2586206793785095
         ],
         "z": [
          0,
          -0.32758620381355286
         ]
        },
        {
         "mode": "lines",
         "type": "scatter3d",
         "x": [
          0,
          1
         ],
         "y": [
          0,
          -0.2586206793785095
         ],
         "z": [
          0,
          -0.2931034564971924
         ]
        },
        {
         "mode": "lines",
         "type": "scatter3d",
         "x": [
          0,
          1
         ],
         "y": [
          0,
          -0.2586206793785095
         ],
         "z": [
          0,
          -0.2586206793785095
         ]
        },
        {
         "mode": "lines",
         "type": "scatter3d",
         "x": [
          0,
          1
         ],
         "y": [
          0,
          -0.2586206793785095
         ],
         "z": [
          0,
          -0.22413793206214905
         ]
        },
        {
         "mode": "lines",
         "type": "scatter3d",
         "x": [
          0,
          1
         ],
         "y": [
          0,
          -0.2586206793785095
         ],
         "z": [
          0,
          -0.18965516984462738
         ]
        },
        {
         "mode": "lines",
         "type": "scatter3d",
         "x": [
          0,
          1
         ],
         "y": [
          0,
          -0.2586206793785095
         ],
         "z": [
          0,
          -0.1551724076271057
         ]
        },
        {
         "mode": "lines",
         "type": "scatter3d",
         "x": [
          0,
          1
         ],
         "y": [
          0,
          -0.2586206793785095
         ],
         "z": [
          0,
          -0.12068966031074524
         ]
        },
        {
         "mode": "lines",
         "type": "scatter3d",
         "x": [
          0,
          1
         ],
         "y": [
          0,
          -0.2586206793785095
         ],
         "z": [
          0,
          -0.08620689809322357
         ]
        },
        {
         "mode": "lines",
         "type": "scatter3d",
         "x": [
          0,
          1
         ],
         "y": [
          0,
          -0.2586206793785095
         ],
         "z": [
          0,
          -0.0517241396009922
         ]
        },
        {
         "mode": "lines",
         "type": "scatter3d",
         "x": [
          0,
          1
         ],
         "y": [
          0,
          -0.2586206793785095
         ],
         "z": [
          0,
          -0.017241381108760834
         ]
        },
        {
         "mode": "lines",
         "type": "scatter3d",
         "x": [
          0,
          1
         ],
         "y": [
          0,
          -0.2586206793785095
         ],
         "z": [
          0,
          0.017241381108760834
         ]
        },
        {
         "mode": "lines",
         "type": "scatter3d",
         "x": [
          0,
          1
         ],
         "y": [
          0,
          -0.2586206793785095
         ],
         "z": [
          0,
          0.0517241396009922
         ]
        },
        {
         "mode": "lines",
         "type": "scatter3d",
         "x": [
          0,
          1
         ],
         "y": [
          0,
          -0.2586206793785095
         ],
         "z": [
          0,
          0.08620689809322357
         ]
        },
        {
         "mode": "lines",
         "type": "scatter3d",
         "x": [
          0,
          1
         ],
         "y": [
          0,
          -0.2586206793785095
         ],
         "z": [
          0,
          0.12068966031074524
         ]
        },
        {
         "mode": "lines",
         "type": "scatter3d",
         "x": [
          0,
          1
         ],
         "y": [
          0,
          -0.2586206793785095
         ],
         "z": [
          0,
          0.1551724076271057
         ]
        },
        {
         "mode": "lines",
         "type": "scatter3d",
         "x": [
          0,
          1
         ],
         "y": [
          0,
          -0.2586206793785095
         ],
         "z": [
          0,
          0.18965516984462738
         ]
        },
        {
         "mode": "lines",
         "type": "scatter3d",
         "x": [
          0,
          1
         ],
         "y": [
          0,
          -0.2586206793785095
         ],
         "z": [
          0,
          0.22413793206214905
         ]
        },
        {
         "mode": "lines",
         "type": "scatter3d",
         "x": [
          0,
          1
         ],
         "y": [
          0,
          -0.2586206793785095
         ],
         "z": [
          0,
          0.2586206793785095
         ]
        },
        {
         "mode": "lines",
         "type": "scatter3d",
         "x": [
          0,
          1
         ],
         "y": [
          0,
          -0.2586206793785095
         ],
         "z": [
          0,
          0.2931034564971924
         ]
        },
        {
         "mode": "lines",
         "type": "scatter3d",
         "x": [
          0,
          1
         ],
         "y": [
          0,
          -0.2586206793785095
         ],
         "z": [
          0,
          0.32758620381355286
         ]
        },
        {
         "mode": "lines",
         "type": "scatter3d",
         "x": [
          0,
          1
         ],
         "y": [
          0,
          -0.2586206793785095
         ],
         "z": [
          0,
          0.36206895112991333
         ]
        },
        {
         "mode": "lines",
         "type": "scatter3d",
         "x": [
          0,
          1
         ],
         "y": [
          0,
          -0.2586206793785095
         ],
         "z": [
          0,
          0.3965517282485962
         ]
        },
        {
         "mode": "lines",
         "type": "scatter3d",
         "x": [
          0,
          1
         ],
         "y": [
          0,
          -0.2586206793785095
         ],
         "z": [
          0,
          0.43103447556495667
         ]
        },
        {
         "mode": "lines",
         "type": "scatter3d",
         "x": [
          0,
          1
         ],
         "y": [
          0,
          -0.2586206793785095
         ],
         "z": [
          0,
          0.4655172526836395
         ]
        },
        {
         "mode": "lines",
         "type": "scatter3d",
         "x": [
          0,
          1
         ],
         "y": [
          0,
          -0.2586206793785095
         ],
         "z": [
          0,
          0.5
         ]
        },
        {
         "mode": "lines",
         "type": "scatter3d",
         "x": [
          0,
          1
         ],
         "y": [
          0,
          -0.22413793206214905
         ],
         "z": [
          0,
          -0.5
         ]
        },
        {
         "mode": "lines",
         "type": "scatter3d",
         "x": [
          0,
          1
         ],
         "y": [
          0,
          -0.22413793206214905
         ],
         "z": [
          0,
          -0.4655172526836395
         ]
        },
        {
         "mode": "lines",
         "type": "scatter3d",
         "x": [
          0,
          1
         ],
         "y": [
          0,
          -0.22413793206214905
         ],
         "z": [
          0,
          -0.43103447556495667
         ]
        },
        {
         "mode": "lines",
         "type": "scatter3d",
         "x": [
          0,
          1
         ],
         "y": [
          0,
          -0.22413793206214905
         ],
         "z": [
          0,
          -0.3965517282485962
         ]
        },
        {
         "mode": "lines",
         "type": "scatter3d",
         "x": [
          0,
          1
         ],
         "y": [
          0,
          -0.22413793206214905
         ],
         "z": [
          0,
          -0.36206895112991333
         ]
        },
        {
         "mode": "lines",
         "type": "scatter3d",
         "x": [
          0,
          1
         ],
         "y": [
          0,
          -0.22413793206214905
         ],
         "z": [
          0,
          -0.32758620381355286
         ]
        },
        {
         "mode": "lines",
         "type": "scatter3d",
         "x": [
          0,
          1
         ],
         "y": [
          0,
          -0.22413793206214905
         ],
         "z": [
          0,
          -0.2931034564971924
         ]
        },
        {
         "mode": "lines",
         "type": "scatter3d",
         "x": [
          0,
          1
         ],
         "y": [
          0,
          -0.22413793206214905
         ],
         "z": [
          0,
          -0.2586206793785095
         ]
        },
        {
         "mode": "lines",
         "type": "scatter3d",
         "x": [
          0,
          1
         ],
         "y": [
          0,
          -0.22413793206214905
         ],
         "z": [
          0,
          -0.22413793206214905
         ]
        },
        {
         "mode": "lines",
         "type": "scatter3d",
         "x": [
          0,
          1
         ],
         "y": [
          0,
          -0.22413793206214905
         ],
         "z": [
          0,
          -0.18965516984462738
         ]
        },
        {
         "mode": "lines",
         "type": "scatter3d",
         "x": [
          0,
          1
         ],
         "y": [
          0,
          -0.22413793206214905
         ],
         "z": [
          0,
          -0.1551724076271057
         ]
        },
        {
         "mode": "lines",
         "type": "scatter3d",
         "x": [
          0,
          1
         ],
         "y": [
          0,
          -0.22413793206214905
         ],
         "z": [
          0,
          -0.12068966031074524
         ]
        },
        {
         "mode": "lines",
         "type": "scatter3d",
         "x": [
          0,
          1
         ],
         "y": [
          0,
          -0.22413793206214905
         ],
         "z": [
          0,
          -0.08620689809322357
         ]
        },
        {
         "mode": "lines",
         "type": "scatter3d",
         "x": [
          0,
          1
         ],
         "y": [
          0,
          -0.22413793206214905
         ],
         "z": [
          0,
          -0.0517241396009922
         ]
        },
        {
         "mode": "lines",
         "type": "scatter3d",
         "x": [
          0,
          1
         ],
         "y": [
          0,
          -0.22413793206214905
         ],
         "z": [
          0,
          -0.017241381108760834
         ]
        },
        {
         "mode": "lines",
         "type": "scatter3d",
         "x": [
          0,
          1
         ],
         "y": [
          0,
          -0.22413793206214905
         ],
         "z": [
          0,
          0.017241381108760834
         ]
        },
        {
         "mode": "lines",
         "type": "scatter3d",
         "x": [
          0,
          1
         ],
         "y": [
          0,
          -0.22413793206214905
         ],
         "z": [
          0,
          0.0517241396009922
         ]
        },
        {
         "mode": "lines",
         "type": "scatter3d",
         "x": [
          0,
          1
         ],
         "y": [
          0,
          -0.22413793206214905
         ],
         "z": [
          0,
          0.08620689809322357
         ]
        },
        {
         "mode": "lines",
         "type": "scatter3d",
         "x": [
          0,
          1
         ],
         "y": [
          0,
          -0.22413793206214905
         ],
         "z": [
          0,
          0.12068966031074524
         ]
        },
        {
         "mode": "lines",
         "type": "scatter3d",
         "x": [
          0,
          1
         ],
         "y": [
          0,
          -0.22413793206214905
         ],
         "z": [
          0,
          0.1551724076271057
         ]
        },
        {
         "mode": "lines",
         "type": "scatter3d",
         "x": [
          0,
          1
         ],
         "y": [
          0,
          -0.22413793206214905
         ],
         "z": [
          0,
          0.18965516984462738
         ]
        },
        {
         "mode": "lines",
         "type": "scatter3d",
         "x": [
          0,
          1
         ],
         "y": [
          0,
          -0.22413793206214905
         ],
         "z": [
          0,
          0.22413793206214905
         ]
        },
        {
         "mode": "lines",
         "type": "scatter3d",
         "x": [
          0,
          1
         ],
         "y": [
          0,
          -0.22413793206214905
         ],
         "z": [
          0,
          0.2586206793785095
         ]
        },
        {
         "mode": "lines",
         "type": "scatter3d",
         "x": [
          0,
          1
         ],
         "y": [
          0,
          -0.22413793206214905
         ],
         "z": [
          0,
          0.2931034564971924
         ]
        },
        {
         "mode": "lines",
         "type": "scatter3d",
         "x": [
          0,
          1
         ],
         "y": [
          0,
          -0.22413793206214905
         ],
         "z": [
          0,
          0.32758620381355286
         ]
        },
        {
         "mode": "lines",
         "type": "scatter3d",
         "x": [
          0,
          1
         ],
         "y": [
          0,
          -0.22413793206214905
         ],
         "z": [
          0,
          0.36206895112991333
         ]
        },
        {
         "mode": "lines",
         "type": "scatter3d",
         "x": [
          0,
          1
         ],
         "y": [
          0,
          -0.22413793206214905
         ],
         "z": [
          0,
          0.3965517282485962
         ]
        },
        {
         "mode": "lines",
         "type": "scatter3d",
         "x": [
          0,
          1
         ],
         "y": [
          0,
          -0.22413793206214905
         ],
         "z": [
          0,
          0.43103447556495667
         ]
        },
        {
         "mode": "lines",
         "type": "scatter3d",
         "x": [
          0,
          1
         ],
         "y": [
          0,
          -0.22413793206214905
         ],
         "z": [
          0,
          0.4655172526836395
         ]
        },
        {
         "mode": "lines",
         "type": "scatter3d",
         "x": [
          0,
          1
         ],
         "y": [
          0,
          -0.22413793206214905
         ],
         "z": [
          0,
          0.5
         ]
        },
        {
         "mode": "lines",
         "type": "scatter3d",
         "x": [
          0,
          1
         ],
         "y": [
          0,
          -0.18965516984462738
         ],
         "z": [
          0,
          -0.5
         ]
        },
        {
         "mode": "lines",
         "type": "scatter3d",
         "x": [
          0,
          1
         ],
         "y": [
          0,
          -0.18965516984462738
         ],
         "z": [
          0,
          -0.4655172526836395
         ]
        },
        {
         "mode": "lines",
         "type": "scatter3d",
         "x": [
          0,
          1
         ],
         "y": [
          0,
          -0.18965516984462738
         ],
         "z": [
          0,
          -0.43103447556495667
         ]
        },
        {
         "mode": "lines",
         "type": "scatter3d",
         "x": [
          0,
          1
         ],
         "y": [
          0,
          -0.18965516984462738
         ],
         "z": [
          0,
          -0.3965517282485962
         ]
        },
        {
         "mode": "lines",
         "type": "scatter3d",
         "x": [
          0,
          1
         ],
         "y": [
          0,
          -0.18965516984462738
         ],
         "z": [
          0,
          -0.36206895112991333
         ]
        },
        {
         "mode": "lines",
         "type": "scatter3d",
         "x": [
          0,
          1
         ],
         "y": [
          0,
          -0.18965516984462738
         ],
         "z": [
          0,
          -0.32758620381355286
         ]
        },
        {
         "mode": "lines",
         "type": "scatter3d",
         "x": [
          0,
          1
         ],
         "y": [
          0,
          -0.18965516984462738
         ],
         "z": [
          0,
          -0.2931034564971924
         ]
        },
        {
         "mode": "lines",
         "type": "scatter3d",
         "x": [
          0,
          1
         ],
         "y": [
          0,
          -0.18965516984462738
         ],
         "z": [
          0,
          -0.2586206793785095
         ]
        },
        {
         "mode": "lines",
         "type": "scatter3d",
         "x": [
          0,
          1
         ],
         "y": [
          0,
          -0.18965516984462738
         ],
         "z": [
          0,
          -0.22413793206214905
         ]
        },
        {
         "mode": "lines",
         "type": "scatter3d",
         "x": [
          0,
          1
         ],
         "y": [
          0,
          -0.18965516984462738
         ],
         "z": [
          0,
          -0.18965516984462738
         ]
        },
        {
         "mode": "lines",
         "type": "scatter3d",
         "x": [
          0,
          1
         ],
         "y": [
          0,
          -0.18965516984462738
         ],
         "z": [
          0,
          -0.1551724076271057
         ]
        },
        {
         "mode": "lines",
         "type": "scatter3d",
         "x": [
          0,
          1
         ],
         "y": [
          0,
          -0.18965516984462738
         ],
         "z": [
          0,
          -0.12068966031074524
         ]
        },
        {
         "mode": "lines",
         "type": "scatter3d",
         "x": [
          0,
          1
         ],
         "y": [
          0,
          -0.18965516984462738
         ],
         "z": [
          0,
          -0.08620689809322357
         ]
        },
        {
         "mode": "lines",
         "type": "scatter3d",
         "x": [
          0,
          1
         ],
         "y": [
          0,
          -0.18965516984462738
         ],
         "z": [
          0,
          -0.0517241396009922
         ]
        },
        {
         "mode": "lines",
         "type": "scatter3d",
         "x": [
          0,
          1
         ],
         "y": [
          0,
          -0.18965516984462738
         ],
         "z": [
          0,
          -0.017241381108760834
         ]
        },
        {
         "mode": "lines",
         "type": "scatter3d",
         "x": [
          0,
          1
         ],
         "y": [
          0,
          -0.18965516984462738
         ],
         "z": [
          0,
          0.017241381108760834
         ]
        },
        {
         "mode": "lines",
         "type": "scatter3d",
         "x": [
          0,
          1
         ],
         "y": [
          0,
          -0.18965516984462738
         ],
         "z": [
          0,
          0.0517241396009922
         ]
        },
        {
         "mode": "lines",
         "type": "scatter3d",
         "x": [
          0,
          1
         ],
         "y": [
          0,
          -0.18965516984462738
         ],
         "z": [
          0,
          0.08620689809322357
         ]
        },
        {
         "mode": "lines",
         "type": "scatter3d",
         "x": [
          0,
          1
         ],
         "y": [
          0,
          -0.18965516984462738
         ],
         "z": [
          0,
          0.12068966031074524
         ]
        },
        {
         "mode": "lines",
         "type": "scatter3d",
         "x": [
          0,
          1
         ],
         "y": [
          0,
          -0.18965516984462738
         ],
         "z": [
          0,
          0.1551724076271057
         ]
        },
        {
         "mode": "lines",
         "type": "scatter3d",
         "x": [
          0,
          1
         ],
         "y": [
          0,
          -0.18965516984462738
         ],
         "z": [
          0,
          0.18965516984462738
         ]
        },
        {
         "mode": "lines",
         "type": "scatter3d",
         "x": [
          0,
          1
         ],
         "y": [
          0,
          -0.18965516984462738
         ],
         "z": [
          0,
          0.22413793206214905
         ]
        },
        {
         "mode": "lines",
         "type": "scatter3d",
         "x": [
          0,
          1
         ],
         "y": [
          0,
          -0.18965516984462738
         ],
         "z": [
          0,
          0.2586206793785095
         ]
        },
        {
         "mode": "lines",
         "type": "scatter3d",
         "x": [
          0,
          1
         ],
         "y": [
          0,
          -0.18965516984462738
         ],
         "z": [
          0,
          0.2931034564971924
         ]
        },
        {
         "mode": "lines",
         "type": "scatter3d",
         "x": [
          0,
          1
         ],
         "y": [
          0,
          -0.18965516984462738
         ],
         "z": [
          0,
          0.32758620381355286
         ]
        },
        {
         "mode": "lines",
         "type": "scatter3d",
         "x": [
          0,
          1
         ],
         "y": [
          0,
          -0.18965516984462738
         ],
         "z": [
          0,
          0.36206895112991333
         ]
        },
        {
         "mode": "lines",
         "type": "scatter3d",
         "x": [
          0,
          1
         ],
         "y": [
          0,
          -0.18965516984462738
         ],
         "z": [
          0,
          0.3965517282485962
         ]
        },
        {
         "mode": "lines",
         "type": "scatter3d",
         "x": [
          0,
          1
         ],
         "y": [
          0,
          -0.18965516984462738
         ],
         "z": [
          0,
          0.43103447556495667
         ]
        },
        {
         "mode": "lines",
         "type": "scatter3d",
         "x": [
          0,
          1
         ],
         "y": [
          0,
          -0.18965516984462738
         ],
         "z": [
          0,
          0.4655172526836395
         ]
        },
        {
         "mode": "lines",
         "type": "scatter3d",
         "x": [
          0,
          1
         ],
         "y": [
          0,
          -0.18965516984462738
         ],
         "z": [
          0,
          0.5
         ]
        },
        {
         "mode": "lines",
         "type": "scatter3d",
         "x": [
          0,
          1
         ],
         "y": [
          0,
          -0.1551724076271057
         ],
         "z": [
          0,
          -0.5
         ]
        },
        {
         "mode": "lines",
         "type": "scatter3d",
         "x": [
          0,
          1
         ],
         "y": [
          0,
          -0.1551724076271057
         ],
         "z": [
          0,
          -0.4655172526836395
         ]
        },
        {
         "mode": "lines",
         "type": "scatter3d",
         "x": [
          0,
          1
         ],
         "y": [
          0,
          -0.1551724076271057
         ],
         "z": [
          0,
          -0.43103447556495667
         ]
        },
        {
         "mode": "lines",
         "type": "scatter3d",
         "x": [
          0,
          1
         ],
         "y": [
          0,
          -0.1551724076271057
         ],
         "z": [
          0,
          -0.3965517282485962
         ]
        },
        {
         "mode": "lines",
         "type": "scatter3d",
         "x": [
          0,
          1
         ],
         "y": [
          0,
          -0.1551724076271057
         ],
         "z": [
          0,
          -0.36206895112991333
         ]
        },
        {
         "mode": "lines",
         "type": "scatter3d",
         "x": [
          0,
          1
         ],
         "y": [
          0,
          -0.1551724076271057
         ],
         "z": [
          0,
          -0.32758620381355286
         ]
        },
        {
         "mode": "lines",
         "type": "scatter3d",
         "x": [
          0,
          1
         ],
         "y": [
          0,
          -0.1551724076271057
         ],
         "z": [
          0,
          -0.2931034564971924
         ]
        },
        {
         "mode": "lines",
         "type": "scatter3d",
         "x": [
          0,
          1
         ],
         "y": [
          0,
          -0.1551724076271057
         ],
         "z": [
          0,
          -0.2586206793785095
         ]
        },
        {
         "mode": "lines",
         "type": "scatter3d",
         "x": [
          0,
          1
         ],
         "y": [
          0,
          -0.1551724076271057
         ],
         "z": [
          0,
          -0.22413793206214905
         ]
        },
        {
         "mode": "lines",
         "type": "scatter3d",
         "x": [
          0,
          1
         ],
         "y": [
          0,
          -0.1551724076271057
         ],
         "z": [
          0,
          -0.18965516984462738
         ]
        },
        {
         "mode": "lines",
         "type": "scatter3d",
         "x": [
          0,
          1
         ],
         "y": [
          0,
          -0.1551724076271057
         ],
         "z": [
          0,
          -0.1551724076271057
         ]
        },
        {
         "mode": "lines",
         "type": "scatter3d",
         "x": [
          0,
          1
         ],
         "y": [
          0,
          -0.1551724076271057
         ],
         "z": [
          0,
          -0.12068966031074524
         ]
        },
        {
         "mode": "lines",
         "type": "scatter3d",
         "x": [
          0,
          1
         ],
         "y": [
          0,
          -0.1551724076271057
         ],
         "z": [
          0,
          -0.08620689809322357
         ]
        },
        {
         "mode": "lines",
         "type": "scatter3d",
         "x": [
          0,
          1
         ],
         "y": [
          0,
          -0.1551724076271057
         ],
         "z": [
          0,
          -0.0517241396009922
         ]
        },
        {
         "mode": "lines",
         "type": "scatter3d",
         "x": [
          0,
          1
         ],
         "y": [
          0,
          -0.1551724076271057
         ],
         "z": [
          0,
          -0.017241381108760834
         ]
        },
        {
         "mode": "lines",
         "type": "scatter3d",
         "x": [
          0,
          1
         ],
         "y": [
          0,
          -0.1551724076271057
         ],
         "z": [
          0,
          0.017241381108760834
         ]
        },
        {
         "mode": "lines",
         "type": "scatter3d",
         "x": [
          0,
          1
         ],
         "y": [
          0,
          -0.1551724076271057
         ],
         "z": [
          0,
          0.0517241396009922
         ]
        },
        {
         "mode": "lines",
         "type": "scatter3d",
         "x": [
          0,
          1
         ],
         "y": [
          0,
          -0.1551724076271057
         ],
         "z": [
          0,
          0.08620689809322357
         ]
        },
        {
         "mode": "lines",
         "type": "scatter3d",
         "x": [
          0,
          1
         ],
         "y": [
          0,
          -0.1551724076271057
         ],
         "z": [
          0,
          0.12068966031074524
         ]
        },
        {
         "mode": "lines",
         "type": "scatter3d",
         "x": [
          0,
          1
         ],
         "y": [
          0,
          -0.1551724076271057
         ],
         "z": [
          0,
          0.1551724076271057
         ]
        },
        {
         "mode": "lines",
         "type": "scatter3d",
         "x": [
          0,
          1
         ],
         "y": [
          0,
          -0.1551724076271057
         ],
         "z": [
          0,
          0.18965516984462738
         ]
        },
        {
         "mode": "lines",
         "type": "scatter3d",
         "x": [
          0,
          1
         ],
         "y": [
          0,
          -0.1551724076271057
         ],
         "z": [
          0,
          0.22413793206214905
         ]
        },
        {
         "mode": "lines",
         "type": "scatter3d",
         "x": [
          0,
          1
         ],
         "y": [
          0,
          -0.1551724076271057
         ],
         "z": [
          0,
          0.2586206793785095
         ]
        },
        {
         "mode": "lines",
         "type": "scatter3d",
         "x": [
          0,
          1
         ],
         "y": [
          0,
          -0.1551724076271057
         ],
         "z": [
          0,
          0.2931034564971924
         ]
        },
        {
         "mode": "lines",
         "type": "scatter3d",
         "x": [
          0,
          1
         ],
         "y": [
          0,
          -0.1551724076271057
         ],
         "z": [
          0,
          0.32758620381355286
         ]
        },
        {
         "mode": "lines",
         "type": "scatter3d",
         "x": [
          0,
          1
         ],
         "y": [
          0,
          -0.1551724076271057
         ],
         "z": [
          0,
          0.36206895112991333
         ]
        },
        {
         "mode": "lines",
         "type": "scatter3d",
         "x": [
          0,
          1
         ],
         "y": [
          0,
          -0.1551724076271057
         ],
         "z": [
          0,
          0.3965517282485962
         ]
        },
        {
         "mode": "lines",
         "type": "scatter3d",
         "x": [
          0,
          1
         ],
         "y": [
          0,
          -0.1551724076271057
         ],
         "z": [
          0,
          0.43103447556495667
         ]
        },
        {
         "mode": "lines",
         "type": "scatter3d",
         "x": [
          0,
          1
         ],
         "y": [
          0,
          -0.1551724076271057
         ],
         "z": [
          0,
          0.4655172526836395
         ]
        },
        {
         "mode": "lines",
         "type": "scatter3d",
         "x": [
          0,
          1
         ],
         "y": [
          0,
          -0.1551724076271057
         ],
         "z": [
          0,
          0.5
         ]
        },
        {
         "mode": "lines",
         "type": "scatter3d",
         "x": [
          0,
          1
         ],
         "y": [
          0,
          -0.12068966031074524
         ],
         "z": [
          0,
          -0.5
         ]
        },
        {
         "mode": "lines",
         "type": "scatter3d",
         "x": [
          0,
          1
         ],
         "y": [
          0,
          -0.12068966031074524
         ],
         "z": [
          0,
          -0.4655172526836395
         ]
        },
        {
         "mode": "lines",
         "type": "scatter3d",
         "x": [
          0,
          1
         ],
         "y": [
          0,
          -0.12068966031074524
         ],
         "z": [
          0,
          -0.43103447556495667
         ]
        },
        {
         "mode": "lines",
         "type": "scatter3d",
         "x": [
          0,
          1
         ],
         "y": [
          0,
          -0.12068966031074524
         ],
         "z": [
          0,
          -0.3965517282485962
         ]
        },
        {
         "mode": "lines",
         "type": "scatter3d",
         "x": [
          0,
          1
         ],
         "y": [
          0,
          -0.12068966031074524
         ],
         "z": [
          0,
          -0.36206895112991333
         ]
        },
        {
         "mode": "lines",
         "type": "scatter3d",
         "x": [
          0,
          1
         ],
         "y": [
          0,
          -0.12068966031074524
         ],
         "z": [
          0,
          -0.32758620381355286
         ]
        },
        {
         "mode": "lines",
         "type": "scatter3d",
         "x": [
          0,
          1
         ],
         "y": [
          0,
          -0.12068966031074524
         ],
         "z": [
          0,
          -0.2931034564971924
         ]
        },
        {
         "mode": "lines",
         "type": "scatter3d",
         "x": [
          0,
          1
         ],
         "y": [
          0,
          -0.12068966031074524
         ],
         "z": [
          0,
          -0.2586206793785095
         ]
        },
        {
         "mode": "lines",
         "type": "scatter3d",
         "x": [
          0,
          1
         ],
         "y": [
          0,
          -0.12068966031074524
         ],
         "z": [
          0,
          -0.22413793206214905
         ]
        },
        {
         "mode": "lines",
         "type": "scatter3d",
         "x": [
          0,
          1
         ],
         "y": [
          0,
          -0.12068966031074524
         ],
         "z": [
          0,
          -0.18965516984462738
         ]
        },
        {
         "mode": "lines",
         "type": "scatter3d",
         "x": [
          0,
          1
         ],
         "y": [
          0,
          -0.12068966031074524
         ],
         "z": [
          0,
          -0.1551724076271057
         ]
        },
        {
         "mode": "lines",
         "type": "scatter3d",
         "x": [
          0,
          1
         ],
         "y": [
          0,
          -0.12068966031074524
         ],
         "z": [
          0,
          -0.12068966031074524
         ]
        },
        {
         "mode": "lines",
         "type": "scatter3d",
         "x": [
          0,
          1
         ],
         "y": [
          0,
          -0.12068966031074524
         ],
         "z": [
          0,
          -0.08620689809322357
         ]
        },
        {
         "mode": "lines",
         "type": "scatter3d",
         "x": [
          0,
          1
         ],
         "y": [
          0,
          -0.12068966031074524
         ],
         "z": [
          0,
          -0.0517241396009922
         ]
        },
        {
         "mode": "lines",
         "type": "scatter3d",
         "x": [
          0,
          1
         ],
         "y": [
          0,
          -0.12068966031074524
         ],
         "z": [
          0,
          -0.017241381108760834
         ]
        },
        {
         "mode": "lines",
         "type": "scatter3d",
         "x": [
          0,
          1
         ],
         "y": [
          0,
          -0.12068966031074524
         ],
         "z": [
          0,
          0.017241381108760834
         ]
        },
        {
         "mode": "lines",
         "type": "scatter3d",
         "x": [
          0,
          1
         ],
         "y": [
          0,
          -0.12068966031074524
         ],
         "z": [
          0,
          0.0517241396009922
         ]
        },
        {
         "mode": "lines",
         "type": "scatter3d",
         "x": [
          0,
          1
         ],
         "y": [
          0,
          -0.12068966031074524
         ],
         "z": [
          0,
          0.08620689809322357
         ]
        },
        {
         "mode": "lines",
         "type": "scatter3d",
         "x": [
          0,
          1
         ],
         "y": [
          0,
          -0.12068966031074524
         ],
         "z": [
          0,
          0.12068966031074524
         ]
        },
        {
         "mode": "lines",
         "type": "scatter3d",
         "x": [
          0,
          1
         ],
         "y": [
          0,
          -0.12068966031074524
         ],
         "z": [
          0,
          0.1551724076271057
         ]
        },
        {
         "mode": "lines",
         "type": "scatter3d",
         "x": [
          0,
          1
         ],
         "y": [
          0,
          -0.12068966031074524
         ],
         "z": [
          0,
          0.18965516984462738
         ]
        },
        {
         "mode": "lines",
         "type": "scatter3d",
         "x": [
          0,
          1
         ],
         "y": [
          0,
          -0.12068966031074524
         ],
         "z": [
          0,
          0.22413793206214905
         ]
        },
        {
         "mode": "lines",
         "type": "scatter3d",
         "x": [
          0,
          1
         ],
         "y": [
          0,
          -0.12068966031074524
         ],
         "z": [
          0,
          0.2586206793785095
         ]
        },
        {
         "mode": "lines",
         "type": "scatter3d",
         "x": [
          0,
          1
         ],
         "y": [
          0,
          -0.12068966031074524
         ],
         "z": [
          0,
          0.2931034564971924
         ]
        },
        {
         "mode": "lines",
         "type": "scatter3d",
         "x": [
          0,
          1
         ],
         "y": [
          0,
          -0.12068966031074524
         ],
         "z": [
          0,
          0.32758620381355286
         ]
        },
        {
         "mode": "lines",
         "type": "scatter3d",
         "x": [
          0,
          1
         ],
         "y": [
          0,
          -0.12068966031074524
         ],
         "z": [
          0,
          0.36206895112991333
         ]
        },
        {
         "mode": "lines",
         "type": "scatter3d",
         "x": [
          0,
          1
         ],
         "y": [
          0,
          -0.12068966031074524
         ],
         "z": [
          0,
          0.3965517282485962
         ]
        },
        {
         "mode": "lines",
         "type": "scatter3d",
         "x": [
          0,
          1
         ],
         "y": [
          0,
          -0.12068966031074524
         ],
         "z": [
          0,
          0.43103447556495667
         ]
        },
        {
         "mode": "lines",
         "type": "scatter3d",
         "x": [
          0,
          1
         ],
         "y": [
          0,
          -0.12068966031074524
         ],
         "z": [
          0,
          0.4655172526836395
         ]
        },
        {
         "mode": "lines",
         "type": "scatter3d",
         "x": [
          0,
          1
         ],
         "y": [
          0,
          -0.12068966031074524
         ],
         "z": [
          0,
          0.5
         ]
        },
        {
         "mode": "lines",
         "type": "scatter3d",
         "x": [
          0,
          1
         ],
         "y": [
          0,
          -0.08620689809322357
         ],
         "z": [
          0,
          -0.5
         ]
        },
        {
         "mode": "lines",
         "type": "scatter3d",
         "x": [
          0,
          1
         ],
         "y": [
          0,
          -0.08620689809322357
         ],
         "z": [
          0,
          -0.4655172526836395
         ]
        },
        {
         "mode": "lines",
         "type": "scatter3d",
         "x": [
          0,
          1
         ],
         "y": [
          0,
          -0.08620689809322357
         ],
         "z": [
          0,
          -0.43103447556495667
         ]
        },
        {
         "mode": "lines",
         "type": "scatter3d",
         "x": [
          0,
          1
         ],
         "y": [
          0,
          -0.08620689809322357
         ],
         "z": [
          0,
          -0.3965517282485962
         ]
        },
        {
         "mode": "lines",
         "type": "scatter3d",
         "x": [
          0,
          1
         ],
         "y": [
          0,
          -0.08620689809322357
         ],
         "z": [
          0,
          -0.36206895112991333
         ]
        },
        {
         "mode": "lines",
         "type": "scatter3d",
         "x": [
          0,
          1
         ],
         "y": [
          0,
          -0.08620689809322357
         ],
         "z": [
          0,
          -0.32758620381355286
         ]
        },
        {
         "mode": "lines",
         "type": "scatter3d",
         "x": [
          0,
          1
         ],
         "y": [
          0,
          -0.08620689809322357
         ],
         "z": [
          0,
          -0.2931034564971924
         ]
        },
        {
         "mode": "lines",
         "type": "scatter3d",
         "x": [
          0,
          1
         ],
         "y": [
          0,
          -0.08620689809322357
         ],
         "z": [
          0,
          -0.2586206793785095
         ]
        },
        {
         "mode": "lines",
         "type": "scatter3d",
         "x": [
          0,
          1
         ],
         "y": [
          0,
          -0.08620689809322357
         ],
         "z": [
          0,
          -0.22413793206214905
         ]
        },
        {
         "mode": "lines",
         "type": "scatter3d",
         "x": [
          0,
          1
         ],
         "y": [
          0,
          -0.08620689809322357
         ],
         "z": [
          0,
          -0.18965516984462738
         ]
        },
        {
         "mode": "lines",
         "type": "scatter3d",
         "x": [
          0,
          1
         ],
         "y": [
          0,
          -0.08620689809322357
         ],
         "z": [
          0,
          -0.1551724076271057
         ]
        },
        {
         "mode": "lines",
         "type": "scatter3d",
         "x": [
          0,
          1
         ],
         "y": [
          0,
          -0.08620689809322357
         ],
         "z": [
          0,
          -0.12068966031074524
         ]
        },
        {
         "mode": "lines",
         "type": "scatter3d",
         "x": [
          0,
          1
         ],
         "y": [
          0,
          -0.08620689809322357
         ],
         "z": [
          0,
          -0.08620689809322357
         ]
        },
        {
         "mode": "lines",
         "type": "scatter3d",
         "x": [
          0,
          1
         ],
         "y": [
          0,
          -0.08620689809322357
         ],
         "z": [
          0,
          -0.0517241396009922
         ]
        },
        {
         "mode": "lines",
         "type": "scatter3d",
         "x": [
          0,
          1
         ],
         "y": [
          0,
          -0.08620689809322357
         ],
         "z": [
          0,
          -0.017241381108760834
         ]
        },
        {
         "mode": "lines",
         "type": "scatter3d",
         "x": [
          0,
          1
         ],
         "y": [
          0,
          -0.08620689809322357
         ],
         "z": [
          0,
          0.017241381108760834
         ]
        },
        {
         "mode": "lines",
         "type": "scatter3d",
         "x": [
          0,
          1
         ],
         "y": [
          0,
          -0.08620689809322357
         ],
         "z": [
          0,
          0.0517241396009922
         ]
        },
        {
         "mode": "lines",
         "type": "scatter3d",
         "x": [
          0,
          1
         ],
         "y": [
          0,
          -0.08620689809322357
         ],
         "z": [
          0,
          0.08620689809322357
         ]
        },
        {
         "mode": "lines",
         "type": "scatter3d",
         "x": [
          0,
          1
         ],
         "y": [
          0,
          -0.08620689809322357
         ],
         "z": [
          0,
          0.12068966031074524
         ]
        },
        {
         "mode": "lines",
         "type": "scatter3d",
         "x": [
          0,
          1
         ],
         "y": [
          0,
          -0.08620689809322357
         ],
         "z": [
          0,
          0.1551724076271057
         ]
        },
        {
         "mode": "lines",
         "type": "scatter3d",
         "x": [
          0,
          1
         ],
         "y": [
          0,
          -0.08620689809322357
         ],
         "z": [
          0,
          0.18965516984462738
         ]
        },
        {
         "mode": "lines",
         "type": "scatter3d",
         "x": [
          0,
          1
         ],
         "y": [
          0,
          -0.08620689809322357
         ],
         "z": [
          0,
          0.22413793206214905
         ]
        },
        {
         "mode": "lines",
         "type": "scatter3d",
         "x": [
          0,
          1
         ],
         "y": [
          0,
          -0.08620689809322357
         ],
         "z": [
          0,
          0.2586206793785095
         ]
        },
        {
         "mode": "lines",
         "type": "scatter3d",
         "x": [
          0,
          1
         ],
         "y": [
          0,
          -0.08620689809322357
         ],
         "z": [
          0,
          0.2931034564971924
         ]
        },
        {
         "mode": "lines",
         "type": "scatter3d",
         "x": [
          0,
          1
         ],
         "y": [
          0,
          -0.08620689809322357
         ],
         "z": [
          0,
          0.32758620381355286
         ]
        },
        {
         "mode": "lines",
         "type": "scatter3d",
         "x": [
          0,
          1
         ],
         "y": [
          0,
          -0.08620689809322357
         ],
         "z": [
          0,
          0.36206895112991333
         ]
        },
        {
         "mode": "lines",
         "type": "scatter3d",
         "x": [
          0,
          1
         ],
         "y": [
          0,
          -0.08620689809322357
         ],
         "z": [
          0,
          0.3965517282485962
         ]
        },
        {
         "mode": "lines",
         "type": "scatter3d",
         "x": [
          0,
          1
         ],
         "y": [
          0,
          -0.08620689809322357
         ],
         "z": [
          0,
          0.43103447556495667
         ]
        },
        {
         "mode": "lines",
         "type": "scatter3d",
         "x": [
          0,
          1
         ],
         "y": [
          0,
          -0.08620689809322357
         ],
         "z": [
          0,
          0.4655172526836395
         ]
        },
        {
         "mode": "lines",
         "type": "scatter3d",
         "x": [
          0,
          1
         ],
         "y": [
          0,
          -0.08620689809322357
         ],
         "z": [
          0,
          0.5
         ]
        },
        {
         "mode": "lines",
         "type": "scatter3d",
         "x": [
          0,
          1
         ],
         "y": [
          0,
          -0.0517241396009922
         ],
         "z": [
          0,
          -0.5
         ]
        },
        {
         "mode": "lines",
         "type": "scatter3d",
         "x": [
          0,
          1
         ],
         "y": [
          0,
          -0.0517241396009922
         ],
         "z": [
          0,
          -0.4655172526836395
         ]
        },
        {
         "mode": "lines",
         "type": "scatter3d",
         "x": [
          0,
          1
         ],
         "y": [
          0,
          -0.0517241396009922
         ],
         "z": [
          0,
          -0.43103447556495667
         ]
        },
        {
         "mode": "lines",
         "type": "scatter3d",
         "x": [
          0,
          1
         ],
         "y": [
          0,
          -0.0517241396009922
         ],
         "z": [
          0,
          -0.3965517282485962
         ]
        },
        {
         "mode": "lines",
         "type": "scatter3d",
         "x": [
          0,
          1
         ],
         "y": [
          0,
          -0.0517241396009922
         ],
         "z": [
          0,
          -0.36206895112991333
         ]
        },
        {
         "mode": "lines",
         "type": "scatter3d",
         "x": [
          0,
          1
         ],
         "y": [
          0,
          -0.0517241396009922
         ],
         "z": [
          0,
          -0.32758620381355286
         ]
        },
        {
         "mode": "lines",
         "type": "scatter3d",
         "x": [
          0,
          1
         ],
         "y": [
          0,
          -0.0517241396009922
         ],
         "z": [
          0,
          -0.2931034564971924
         ]
        },
        {
         "mode": "lines",
         "type": "scatter3d",
         "x": [
          0,
          1
         ],
         "y": [
          0,
          -0.0517241396009922
         ],
         "z": [
          0,
          -0.2586206793785095
         ]
        },
        {
         "mode": "lines",
         "type": "scatter3d",
         "x": [
          0,
          1
         ],
         "y": [
          0,
          -0.0517241396009922
         ],
         "z": [
          0,
          -0.22413793206214905
         ]
        },
        {
         "mode": "lines",
         "type": "scatter3d",
         "x": [
          0,
          1
         ],
         "y": [
          0,
          -0.0517241396009922
         ],
         "z": [
          0,
          -0.18965516984462738
         ]
        },
        {
         "mode": "lines",
         "type": "scatter3d",
         "x": [
          0,
          1
         ],
         "y": [
          0,
          -0.0517241396009922
         ],
         "z": [
          0,
          -0.1551724076271057
         ]
        },
        {
         "mode": "lines",
         "type": "scatter3d",
         "x": [
          0,
          1
         ],
         "y": [
          0,
          -0.0517241396009922
         ],
         "z": [
          0,
          -0.12068966031074524
         ]
        },
        {
         "mode": "lines",
         "type": "scatter3d",
         "x": [
          0,
          1
         ],
         "y": [
          0,
          -0.0517241396009922
         ],
         "z": [
          0,
          -0.08620689809322357
         ]
        },
        {
         "mode": "lines",
         "type": "scatter3d",
         "x": [
          0,
          1
         ],
         "y": [
          0,
          -0.0517241396009922
         ],
         "z": [
          0,
          -0.0517241396009922
         ]
        },
        {
         "mode": "lines",
         "type": "scatter3d",
         "x": [
          0,
          1
         ],
         "y": [
          0,
          -0.0517241396009922
         ],
         "z": [
          0,
          -0.017241381108760834
         ]
        },
        {
         "mode": "lines",
         "type": "scatter3d",
         "x": [
          0,
          1
         ],
         "y": [
          0,
          -0.0517241396009922
         ],
         "z": [
          0,
          0.017241381108760834
         ]
        },
        {
         "mode": "lines",
         "type": "scatter3d",
         "x": [
          0,
          1
         ],
         "y": [
          0,
          -0.0517241396009922
         ],
         "z": [
          0,
          0.0517241396009922
         ]
        },
        {
         "mode": "lines",
         "type": "scatter3d",
         "x": [
          0,
          1
         ],
         "y": [
          0,
          -0.0517241396009922
         ],
         "z": [
          0,
          0.08620689809322357
         ]
        },
        {
         "mode": "lines",
         "type": "scatter3d",
         "x": [
          0,
          1
         ],
         "y": [
          0,
          -0.0517241396009922
         ],
         "z": [
          0,
          0.12068966031074524
         ]
        },
        {
         "mode": "lines",
         "type": "scatter3d",
         "x": [
          0,
          1
         ],
         "y": [
          0,
          -0.0517241396009922
         ],
         "z": [
          0,
          0.1551724076271057
         ]
        },
        {
         "mode": "lines",
         "type": "scatter3d",
         "x": [
          0,
          1
         ],
         "y": [
          0,
          -0.0517241396009922
         ],
         "z": [
          0,
          0.18965516984462738
         ]
        },
        {
         "mode": "lines",
         "type": "scatter3d",
         "x": [
          0,
          1
         ],
         "y": [
          0,
          -0.0517241396009922
         ],
         "z": [
          0,
          0.22413793206214905
         ]
        },
        {
         "mode": "lines",
         "type": "scatter3d",
         "x": [
          0,
          1
         ],
         "y": [
          0,
          -0.0517241396009922
         ],
         "z": [
          0,
          0.2586206793785095
         ]
        },
        {
         "mode": "lines",
         "type": "scatter3d",
         "x": [
          0,
          1
         ],
         "y": [
          0,
          -0.0517241396009922
         ],
         "z": [
          0,
          0.2931034564971924
         ]
        },
        {
         "mode": "lines",
         "type": "scatter3d",
         "x": [
          0,
          1
         ],
         "y": [
          0,
          -0.0517241396009922
         ],
         "z": [
          0,
          0.32758620381355286
         ]
        },
        {
         "mode": "lines",
         "type": "scatter3d",
         "x": [
          0,
          1
         ],
         "y": [
          0,
          -0.0517241396009922
         ],
         "z": [
          0,
          0.36206895112991333
         ]
        },
        {
         "mode": "lines",
         "type": "scatter3d",
         "x": [
          0,
          1
         ],
         "y": [
          0,
          -0.0517241396009922
         ],
         "z": [
          0,
          0.3965517282485962
         ]
        },
        {
         "mode": "lines",
         "type": "scatter3d",
         "x": [
          0,
          1
         ],
         "y": [
          0,
          -0.0517241396009922
         ],
         "z": [
          0,
          0.43103447556495667
         ]
        },
        {
         "mode": "lines",
         "type": "scatter3d",
         "x": [
          0,
          1
         ],
         "y": [
          0,
          -0.0517241396009922
         ],
         "z": [
          0,
          0.4655172526836395
         ]
        },
        {
         "mode": "lines",
         "type": "scatter3d",
         "x": [
          0,
          1
         ],
         "y": [
          0,
          -0.0517241396009922
         ],
         "z": [
          0,
          0.5
         ]
        },
        {
         "mode": "lines",
         "type": "scatter3d",
         "x": [
          0,
          1
         ],
         "y": [
          0,
          -0.017241381108760834
         ],
         "z": [
          0,
          -0.5
         ]
        },
        {
         "mode": "lines",
         "type": "scatter3d",
         "x": [
          0,
          1
         ],
         "y": [
          0,
          -0.017241381108760834
         ],
         "z": [
          0,
          -0.4655172526836395
         ]
        },
        {
         "mode": "lines",
         "type": "scatter3d",
         "x": [
          0,
          1
         ],
         "y": [
          0,
          -0.017241381108760834
         ],
         "z": [
          0,
          -0.43103447556495667
         ]
        },
        {
         "mode": "lines",
         "type": "scatter3d",
         "x": [
          0,
          1
         ],
         "y": [
          0,
          -0.017241381108760834
         ],
         "z": [
          0,
          -0.3965517282485962
         ]
        },
        {
         "mode": "lines",
         "type": "scatter3d",
         "x": [
          0,
          1
         ],
         "y": [
          0,
          -0.017241381108760834
         ],
         "z": [
          0,
          -0.36206895112991333
         ]
        },
        {
         "mode": "lines",
         "type": "scatter3d",
         "x": [
          0,
          1
         ],
         "y": [
          0,
          -0.017241381108760834
         ],
         "z": [
          0,
          -0.32758620381355286
         ]
        },
        {
         "mode": "lines",
         "type": "scatter3d",
         "x": [
          0,
          1
         ],
         "y": [
          0,
          -0.017241381108760834
         ],
         "z": [
          0,
          -0.2931034564971924
         ]
        },
        {
         "mode": "lines",
         "type": "scatter3d",
         "x": [
          0,
          1
         ],
         "y": [
          0,
          -0.017241381108760834
         ],
         "z": [
          0,
          -0.2586206793785095
         ]
        },
        {
         "mode": "lines",
         "type": "scatter3d",
         "x": [
          0,
          1
         ],
         "y": [
          0,
          -0.017241381108760834
         ],
         "z": [
          0,
          -0.22413793206214905
         ]
        },
        {
         "mode": "lines",
         "type": "scatter3d",
         "x": [
          0,
          1
         ],
         "y": [
          0,
          -0.017241381108760834
         ],
         "z": [
          0,
          -0.18965516984462738
         ]
        },
        {
         "mode": "lines",
         "type": "scatter3d",
         "x": [
          0,
          1
         ],
         "y": [
          0,
          -0.017241381108760834
         ],
         "z": [
          0,
          -0.1551724076271057
         ]
        },
        {
         "mode": "lines",
         "type": "scatter3d",
         "x": [
          0,
          1
         ],
         "y": [
          0,
          -0.017241381108760834
         ],
         "z": [
          0,
          -0.12068966031074524
         ]
        },
        {
         "mode": "lines",
         "type": "scatter3d",
         "x": [
          0,
          1
         ],
         "y": [
          0,
          -0.017241381108760834
         ],
         "z": [
          0,
          -0.08620689809322357
         ]
        },
        {
         "mode": "lines",
         "type": "scatter3d",
         "x": [
          0,
          1
         ],
         "y": [
          0,
          -0.017241381108760834
         ],
         "z": [
          0,
          -0.0517241396009922
         ]
        },
        {
         "mode": "lines",
         "type": "scatter3d",
         "x": [
          0,
          1
         ],
         "y": [
          0,
          -0.017241381108760834
         ],
         "z": [
          0,
          -0.017241381108760834
         ]
        },
        {
         "mode": "lines",
         "type": "scatter3d",
         "x": [
          0,
          1
         ],
         "y": [
          0,
          -0.017241381108760834
         ],
         "z": [
          0,
          0.017241381108760834
         ]
        },
        {
         "mode": "lines",
         "type": "scatter3d",
         "x": [
          0,
          1
         ],
         "y": [
          0,
          -0.017241381108760834
         ],
         "z": [
          0,
          0.0517241396009922
         ]
        },
        {
         "mode": "lines",
         "type": "scatter3d",
         "x": [
          0,
          1
         ],
         "y": [
          0,
          -0.017241381108760834
         ],
         "z": [
          0,
          0.08620689809322357
         ]
        },
        {
         "mode": "lines",
         "type": "scatter3d",
         "x": [
          0,
          1
         ],
         "y": [
          0,
          -0.017241381108760834
         ],
         "z": [
          0,
          0.12068966031074524
         ]
        },
        {
         "mode": "lines",
         "type": "scatter3d",
         "x": [
          0,
          1
         ],
         "y": [
          0,
          -0.017241381108760834
         ],
         "z": [
          0,
          0.1551724076271057
         ]
        },
        {
         "mode": "lines",
         "type": "scatter3d",
         "x": [
          0,
          1
         ],
         "y": [
          0,
          -0.017241381108760834
         ],
         "z": [
          0,
          0.18965516984462738
         ]
        },
        {
         "mode": "lines",
         "type": "scatter3d",
         "x": [
          0,
          1
         ],
         "y": [
          0,
          -0.017241381108760834
         ],
         "z": [
          0,
          0.22413793206214905
         ]
        },
        {
         "mode": "lines",
         "type": "scatter3d",
         "x": [
          0,
          1
         ],
         "y": [
          0,
          -0.017241381108760834
         ],
         "z": [
          0,
          0.2586206793785095
         ]
        },
        {
         "mode": "lines",
         "type": "scatter3d",
         "x": [
          0,
          1
         ],
         "y": [
          0,
          -0.017241381108760834
         ],
         "z": [
          0,
          0.2931034564971924
         ]
        },
        {
         "mode": "lines",
         "type": "scatter3d",
         "x": [
          0,
          1
         ],
         "y": [
          0,
          -0.017241381108760834
         ],
         "z": [
          0,
          0.32758620381355286
         ]
        },
        {
         "mode": "lines",
         "type": "scatter3d",
         "x": [
          0,
          1
         ],
         "y": [
          0,
          -0.017241381108760834
         ],
         "z": [
          0,
          0.36206895112991333
         ]
        },
        {
         "mode": "lines",
         "type": "scatter3d",
         "x": [
          0,
          1
         ],
         "y": [
          0,
          -0.017241381108760834
         ],
         "z": [
          0,
          0.3965517282485962
         ]
        },
        {
         "mode": "lines",
         "type": "scatter3d",
         "x": [
          0,
          1
         ],
         "y": [
          0,
          -0.017241381108760834
         ],
         "z": [
          0,
          0.43103447556495667
         ]
        },
        {
         "mode": "lines",
         "type": "scatter3d",
         "x": [
          0,
          1
         ],
         "y": [
          0,
          -0.017241381108760834
         ],
         "z": [
          0,
          0.4655172526836395
         ]
        },
        {
         "mode": "lines",
         "type": "scatter3d",
         "x": [
          0,
          1
         ],
         "y": [
          0,
          -0.017241381108760834
         ],
         "z": [
          0,
          0.5
         ]
        },
        {
         "mode": "lines",
         "type": "scatter3d",
         "x": [
          0,
          1
         ],
         "y": [
          0,
          0.017241381108760834
         ],
         "z": [
          0,
          -0.5
         ]
        },
        {
         "mode": "lines",
         "type": "scatter3d",
         "x": [
          0,
          1
         ],
         "y": [
          0,
          0.017241381108760834
         ],
         "z": [
          0,
          -0.4655172526836395
         ]
        },
        {
         "mode": "lines",
         "type": "scatter3d",
         "x": [
          0,
          1
         ],
         "y": [
          0,
          0.017241381108760834
         ],
         "z": [
          0,
          -0.43103447556495667
         ]
        },
        {
         "mode": "lines",
         "type": "scatter3d",
         "x": [
          0,
          1
         ],
         "y": [
          0,
          0.017241381108760834
         ],
         "z": [
          0,
          -0.3965517282485962
         ]
        },
        {
         "mode": "lines",
         "type": "scatter3d",
         "x": [
          0,
          1
         ],
         "y": [
          0,
          0.017241381108760834
         ],
         "z": [
          0,
          -0.36206895112991333
         ]
        },
        {
         "mode": "lines",
         "type": "scatter3d",
         "x": [
          0,
          1
         ],
         "y": [
          0,
          0.017241381108760834
         ],
         "z": [
          0,
          -0.32758620381355286
         ]
        },
        {
         "mode": "lines",
         "type": "scatter3d",
         "x": [
          0,
          1
         ],
         "y": [
          0,
          0.017241381108760834
         ],
         "z": [
          0,
          -0.2931034564971924
         ]
        },
        {
         "mode": "lines",
         "type": "scatter3d",
         "x": [
          0,
          1
         ],
         "y": [
          0,
          0.017241381108760834
         ],
         "z": [
          0,
          -0.2586206793785095
         ]
        },
        {
         "mode": "lines",
         "type": "scatter3d",
         "x": [
          0,
          1
         ],
         "y": [
          0,
          0.017241381108760834
         ],
         "z": [
          0,
          -0.22413793206214905
         ]
        },
        {
         "mode": "lines",
         "type": "scatter3d",
         "x": [
          0,
          1
         ],
         "y": [
          0,
          0.017241381108760834
         ],
         "z": [
          0,
          -0.18965516984462738
         ]
        },
        {
         "mode": "lines",
         "type": "scatter3d",
         "x": [
          0,
          1
         ],
         "y": [
          0,
          0.017241381108760834
         ],
         "z": [
          0,
          -0.1551724076271057
         ]
        },
        {
         "mode": "lines",
         "type": "scatter3d",
         "x": [
          0,
          1
         ],
         "y": [
          0,
          0.017241381108760834
         ],
         "z": [
          0,
          -0.12068966031074524
         ]
        },
        {
         "mode": "lines",
         "type": "scatter3d",
         "x": [
          0,
          1
         ],
         "y": [
          0,
          0.017241381108760834
         ],
         "z": [
          0,
          -0.08620689809322357
         ]
        },
        {
         "mode": "lines",
         "type": "scatter3d",
         "x": [
          0,
          1
         ],
         "y": [
          0,
          0.017241381108760834
         ],
         "z": [
          0,
          -0.0517241396009922
         ]
        },
        {
         "mode": "lines",
         "type": "scatter3d",
         "x": [
          0,
          1
         ],
         "y": [
          0,
          0.017241381108760834
         ],
         "z": [
          0,
          -0.017241381108760834
         ]
        },
        {
         "mode": "lines",
         "type": "scatter3d",
         "x": [
          0,
          1
         ],
         "y": [
          0,
          0.017241381108760834
         ],
         "z": [
          0,
          0.017241381108760834
         ]
        },
        {
         "mode": "lines",
         "type": "scatter3d",
         "x": [
          0,
          1
         ],
         "y": [
          0,
          0.017241381108760834
         ],
         "z": [
          0,
          0.0517241396009922
         ]
        },
        {
         "mode": "lines",
         "type": "scatter3d",
         "x": [
          0,
          1
         ],
         "y": [
          0,
          0.017241381108760834
         ],
         "z": [
          0,
          0.08620689809322357
         ]
        },
        {
         "mode": "lines",
         "type": "scatter3d",
         "x": [
          0,
          1
         ],
         "y": [
          0,
          0.017241381108760834
         ],
         "z": [
          0,
          0.12068966031074524
         ]
        },
        {
         "mode": "lines",
         "type": "scatter3d",
         "x": [
          0,
          1
         ],
         "y": [
          0,
          0.017241381108760834
         ],
         "z": [
          0,
          0.1551724076271057
         ]
        },
        {
         "mode": "lines",
         "type": "scatter3d",
         "x": [
          0,
          1
         ],
         "y": [
          0,
          0.017241381108760834
         ],
         "z": [
          0,
          0.18965516984462738
         ]
        },
        {
         "mode": "lines",
         "type": "scatter3d",
         "x": [
          0,
          1
         ],
         "y": [
          0,
          0.017241381108760834
         ],
         "z": [
          0,
          0.22413793206214905
         ]
        },
        {
         "mode": "lines",
         "type": "scatter3d",
         "x": [
          0,
          1
         ],
         "y": [
          0,
          0.017241381108760834
         ],
         "z": [
          0,
          0.2586206793785095
         ]
        },
        {
         "mode": "lines",
         "type": "scatter3d",
         "x": [
          0,
          1
         ],
         "y": [
          0,
          0.017241381108760834
         ],
         "z": [
          0,
          0.2931034564971924
         ]
        },
        {
         "mode": "lines",
         "type": "scatter3d",
         "x": [
          0,
          1
         ],
         "y": [
          0,
          0.017241381108760834
         ],
         "z": [
          0,
          0.32758620381355286
         ]
        },
        {
         "mode": "lines",
         "type": "scatter3d",
         "x": [
          0,
          1
         ],
         "y": [
          0,
          0.017241381108760834
         ],
         "z": [
          0,
          0.36206895112991333
         ]
        },
        {
         "mode": "lines",
         "type": "scatter3d",
         "x": [
          0,
          1
         ],
         "y": [
          0,
          0.017241381108760834
         ],
         "z": [
          0,
          0.3965517282485962
         ]
        },
        {
         "mode": "lines",
         "type": "scatter3d",
         "x": [
          0,
          1
         ],
         "y": [
          0,
          0.017241381108760834
         ],
         "z": [
          0,
          0.43103447556495667
         ]
        },
        {
         "mode": "lines",
         "type": "scatter3d",
         "x": [
          0,
          1
         ],
         "y": [
          0,
          0.017241381108760834
         ],
         "z": [
          0,
          0.4655172526836395
         ]
        },
        {
         "mode": "lines",
         "type": "scatter3d",
         "x": [
          0,
          1
         ],
         "y": [
          0,
          0.017241381108760834
         ],
         "z": [
          0,
          0.5
         ]
        },
        {
         "mode": "lines",
         "type": "scatter3d",
         "x": [
          0,
          1
         ],
         "y": [
          0,
          0.0517241396009922
         ],
         "z": [
          0,
          -0.5
         ]
        },
        {
         "mode": "lines",
         "type": "scatter3d",
         "x": [
          0,
          1
         ],
         "y": [
          0,
          0.0517241396009922
         ],
         "z": [
          0,
          -0.4655172526836395
         ]
        },
        {
         "mode": "lines",
         "type": "scatter3d",
         "x": [
          0,
          1
         ],
         "y": [
          0,
          0.0517241396009922
         ],
         "z": [
          0,
          -0.43103447556495667
         ]
        },
        {
         "mode": "lines",
         "type": "scatter3d",
         "x": [
          0,
          1
         ],
         "y": [
          0,
          0.0517241396009922
         ],
         "z": [
          0,
          -0.3965517282485962
         ]
        },
        {
         "mode": "lines",
         "type": "scatter3d",
         "x": [
          0,
          1
         ],
         "y": [
          0,
          0.0517241396009922
         ],
         "z": [
          0,
          -0.36206895112991333
         ]
        },
        {
         "mode": "lines",
         "type": "scatter3d",
         "x": [
          0,
          1
         ],
         "y": [
          0,
          0.0517241396009922
         ],
         "z": [
          0,
          -0.32758620381355286
         ]
        },
        {
         "mode": "lines",
         "type": "scatter3d",
         "x": [
          0,
          1
         ],
         "y": [
          0,
          0.0517241396009922
         ],
         "z": [
          0,
          -0.2931034564971924
         ]
        },
        {
         "mode": "lines",
         "type": "scatter3d",
         "x": [
          0,
          1
         ],
         "y": [
          0,
          0.0517241396009922
         ],
         "z": [
          0,
          -0.2586206793785095
         ]
        },
        {
         "mode": "lines",
         "type": "scatter3d",
         "x": [
          0,
          1
         ],
         "y": [
          0,
          0.0517241396009922
         ],
         "z": [
          0,
          -0.22413793206214905
         ]
        },
        {
         "mode": "lines",
         "type": "scatter3d",
         "x": [
          0,
          1
         ],
         "y": [
          0,
          0.0517241396009922
         ],
         "z": [
          0,
          -0.18965516984462738
         ]
        },
        {
         "mode": "lines",
         "type": "scatter3d",
         "x": [
          0,
          1
         ],
         "y": [
          0,
          0.0517241396009922
         ],
         "z": [
          0,
          -0.1551724076271057
         ]
        },
        {
         "mode": "lines",
         "type": "scatter3d",
         "x": [
          0,
          1
         ],
         "y": [
          0,
          0.0517241396009922
         ],
         "z": [
          0,
          -0.12068966031074524
         ]
        },
        {
         "mode": "lines",
         "type": "scatter3d",
         "x": [
          0,
          1
         ],
         "y": [
          0,
          0.0517241396009922
         ],
         "z": [
          0,
          -0.08620689809322357
         ]
        },
        {
         "mode": "lines",
         "type": "scatter3d",
         "x": [
          0,
          1
         ],
         "y": [
          0,
          0.0517241396009922
         ],
         "z": [
          0,
          -0.0517241396009922
         ]
        },
        {
         "mode": "lines",
         "type": "scatter3d",
         "x": [
          0,
          1
         ],
         "y": [
          0,
          0.0517241396009922
         ],
         "z": [
          0,
          -0.017241381108760834
         ]
        },
        {
         "mode": "lines",
         "type": "scatter3d",
         "x": [
          0,
          1
         ],
         "y": [
          0,
          0.0517241396009922
         ],
         "z": [
          0,
          0.017241381108760834
         ]
        },
        {
         "mode": "lines",
         "type": "scatter3d",
         "x": [
          0,
          1
         ],
         "y": [
          0,
          0.0517241396009922
         ],
         "z": [
          0,
          0.0517241396009922
         ]
        },
        {
         "mode": "lines",
         "type": "scatter3d",
         "x": [
          0,
          1
         ],
         "y": [
          0,
          0.0517241396009922
         ],
         "z": [
          0,
          0.08620689809322357
         ]
        },
        {
         "mode": "lines",
         "type": "scatter3d",
         "x": [
          0,
          1
         ],
         "y": [
          0,
          0.0517241396009922
         ],
         "z": [
          0,
          0.12068966031074524
         ]
        },
        {
         "mode": "lines",
         "type": "scatter3d",
         "x": [
          0,
          1
         ],
         "y": [
          0,
          0.0517241396009922
         ],
         "z": [
          0,
          0.1551724076271057
         ]
        },
        {
         "mode": "lines",
         "type": "scatter3d",
         "x": [
          0,
          1
         ],
         "y": [
          0,
          0.0517241396009922
         ],
         "z": [
          0,
          0.18965516984462738
         ]
        },
        {
         "mode": "lines",
         "type": "scatter3d",
         "x": [
          0,
          1
         ],
         "y": [
          0,
          0.0517241396009922
         ],
         "z": [
          0,
          0.22413793206214905
         ]
        },
        {
         "mode": "lines",
         "type": "scatter3d",
         "x": [
          0,
          1
         ],
         "y": [
          0,
          0.0517241396009922
         ],
         "z": [
          0,
          0.2586206793785095
         ]
        },
        {
         "mode": "lines",
         "type": "scatter3d",
         "x": [
          0,
          1
         ],
         "y": [
          0,
          0.0517241396009922
         ],
         "z": [
          0,
          0.2931034564971924
         ]
        },
        {
         "mode": "lines",
         "type": "scatter3d",
         "x": [
          0,
          1
         ],
         "y": [
          0,
          0.0517241396009922
         ],
         "z": [
          0,
          0.32758620381355286
         ]
        },
        {
         "mode": "lines",
         "type": "scatter3d",
         "x": [
          0,
          1
         ],
         "y": [
          0,
          0.0517241396009922
         ],
         "z": [
          0,
          0.36206895112991333
         ]
        },
        {
         "mode": "lines",
         "type": "scatter3d",
         "x": [
          0,
          1
         ],
         "y": [
          0,
          0.0517241396009922
         ],
         "z": [
          0,
          0.3965517282485962
         ]
        },
        {
         "mode": "lines",
         "type": "scatter3d",
         "x": [
          0,
          1
         ],
         "y": [
          0,
          0.0517241396009922
         ],
         "z": [
          0,
          0.43103447556495667
         ]
        },
        {
         "mode": "lines",
         "type": "scatter3d",
         "x": [
          0,
          1
         ],
         "y": [
          0,
          0.0517241396009922
         ],
         "z": [
          0,
          0.4655172526836395
         ]
        },
        {
         "mode": "lines",
         "type": "scatter3d",
         "x": [
          0,
          1
         ],
         "y": [
          0,
          0.0517241396009922
         ],
         "z": [
          0,
          0.5
         ]
        },
        {
         "mode": "lines",
         "type": "scatter3d",
         "x": [
          0,
          1
         ],
         "y": [
          0,
          0.08620689809322357
         ],
         "z": [
          0,
          -0.5
         ]
        },
        {
         "mode": "lines",
         "type": "scatter3d",
         "x": [
          0,
          1
         ],
         "y": [
          0,
          0.08620689809322357
         ],
         "z": [
          0,
          -0.4655172526836395
         ]
        },
        {
         "mode": "lines",
         "type": "scatter3d",
         "x": [
          0,
          1
         ],
         "y": [
          0,
          0.08620689809322357
         ],
         "z": [
          0,
          -0.43103447556495667
         ]
        },
        {
         "mode": "lines",
         "type": "scatter3d",
         "x": [
          0,
          1
         ],
         "y": [
          0,
          0.08620689809322357
         ],
         "z": [
          0,
          -0.3965517282485962
         ]
        },
        {
         "mode": "lines",
         "type": "scatter3d",
         "x": [
          0,
          1
         ],
         "y": [
          0,
          0.08620689809322357
         ],
         "z": [
          0,
          -0.36206895112991333
         ]
        },
        {
         "mode": "lines",
         "type": "scatter3d",
         "x": [
          0,
          1
         ],
         "y": [
          0,
          0.08620689809322357
         ],
         "z": [
          0,
          -0.32758620381355286
         ]
        },
        {
         "mode": "lines",
         "type": "scatter3d",
         "x": [
          0,
          1
         ],
         "y": [
          0,
          0.08620689809322357
         ],
         "z": [
          0,
          -0.2931034564971924
         ]
        },
        {
         "mode": "lines",
         "type": "scatter3d",
         "x": [
          0,
          1
         ],
         "y": [
          0,
          0.08620689809322357
         ],
         "z": [
          0,
          -0.2586206793785095
         ]
        },
        {
         "mode": "lines",
         "type": "scatter3d",
         "x": [
          0,
          1
         ],
         "y": [
          0,
          0.08620689809322357
         ],
         "z": [
          0,
          -0.22413793206214905
         ]
        },
        {
         "mode": "lines",
         "type": "scatter3d",
         "x": [
          0,
          1
         ],
         "y": [
          0,
          0.08620689809322357
         ],
         "z": [
          0,
          -0.18965516984462738
         ]
        },
        {
         "mode": "lines",
         "type": "scatter3d",
         "x": [
          0,
          1
         ],
         "y": [
          0,
          0.08620689809322357
         ],
         "z": [
          0,
          -0.1551724076271057
         ]
        },
        {
         "mode": "lines",
         "type": "scatter3d",
         "x": [
          0,
          1
         ],
         "y": [
          0,
          0.08620689809322357
         ],
         "z": [
          0,
          -0.12068966031074524
         ]
        },
        {
         "mode": "lines",
         "type": "scatter3d",
         "x": [
          0,
          1
         ],
         "y": [
          0,
          0.08620689809322357
         ],
         "z": [
          0,
          -0.08620689809322357
         ]
        },
        {
         "mode": "lines",
         "type": "scatter3d",
         "x": [
          0,
          1
         ],
         "y": [
          0,
          0.08620689809322357
         ],
         "z": [
          0,
          -0.0517241396009922
         ]
        },
        {
         "mode": "lines",
         "type": "scatter3d",
         "x": [
          0,
          1
         ],
         "y": [
          0,
          0.08620689809322357
         ],
         "z": [
          0,
          -0.017241381108760834
         ]
        },
        {
         "mode": "lines",
         "type": "scatter3d",
         "x": [
          0,
          1
         ],
         "y": [
          0,
          0.08620689809322357
         ],
         "z": [
          0,
          0.017241381108760834
         ]
        },
        {
         "mode": "lines",
         "type": "scatter3d",
         "x": [
          0,
          1
         ],
         "y": [
          0,
          0.08620689809322357
         ],
         "z": [
          0,
          0.0517241396009922
         ]
        },
        {
         "mode": "lines",
         "type": "scatter3d",
         "x": [
          0,
          1
         ],
         "y": [
          0,
          0.08620689809322357
         ],
         "z": [
          0,
          0.08620689809322357
         ]
        },
        {
         "mode": "lines",
         "type": "scatter3d",
         "x": [
          0,
          1
         ],
         "y": [
          0,
          0.08620689809322357
         ],
         "z": [
          0,
          0.12068966031074524
         ]
        },
        {
         "mode": "lines",
         "type": "scatter3d",
         "x": [
          0,
          1
         ],
         "y": [
          0,
          0.08620689809322357
         ],
         "z": [
          0,
          0.1551724076271057
         ]
        },
        {
         "mode": "lines",
         "type": "scatter3d",
         "x": [
          0,
          1
         ],
         "y": [
          0,
          0.08620689809322357
         ],
         "z": [
          0,
          0.18965516984462738
         ]
        },
        {
         "mode": "lines",
         "type": "scatter3d",
         "x": [
          0,
          1
         ],
         "y": [
          0,
          0.08620689809322357
         ],
         "z": [
          0,
          0.22413793206214905
         ]
        },
        {
         "mode": "lines",
         "type": "scatter3d",
         "x": [
          0,
          1
         ],
         "y": [
          0,
          0.08620689809322357
         ],
         "z": [
          0,
          0.2586206793785095
         ]
        },
        {
         "mode": "lines",
         "type": "scatter3d",
         "x": [
          0,
          1
         ],
         "y": [
          0,
          0.08620689809322357
         ],
         "z": [
          0,
          0.2931034564971924
         ]
        },
        {
         "mode": "lines",
         "type": "scatter3d",
         "x": [
          0,
          1
         ],
         "y": [
          0,
          0.08620689809322357
         ],
         "z": [
          0,
          0.32758620381355286
         ]
        },
        {
         "mode": "lines",
         "type": "scatter3d",
         "x": [
          0,
          1
         ],
         "y": [
          0,
          0.08620689809322357
         ],
         "z": [
          0,
          0.36206895112991333
         ]
        },
        {
         "mode": "lines",
         "type": "scatter3d",
         "x": [
          0,
          1
         ],
         "y": [
          0,
          0.08620689809322357
         ],
         "z": [
          0,
          0.3965517282485962
         ]
        },
        {
         "mode": "lines",
         "type": "scatter3d",
         "x": [
          0,
          1
         ],
         "y": [
          0,
          0.08620689809322357
         ],
         "z": [
          0,
          0.43103447556495667
         ]
        },
        {
         "mode": "lines",
         "type": "scatter3d",
         "x": [
          0,
          1
         ],
         "y": [
          0,
          0.08620689809322357
         ],
         "z": [
          0,
          0.4655172526836395
         ]
        },
        {
         "mode": "lines",
         "type": "scatter3d",
         "x": [
          0,
          1
         ],
         "y": [
          0,
          0.08620689809322357
         ],
         "z": [
          0,
          0.5
         ]
        },
        {
         "mode": "lines",
         "type": "scatter3d",
         "x": [
          0,
          1
         ],
         "y": [
          0,
          0.12068966031074524
         ],
         "z": [
          0,
          -0.5
         ]
        },
        {
         "mode": "lines",
         "type": "scatter3d",
         "x": [
          0,
          1
         ],
         "y": [
          0,
          0.12068966031074524
         ],
         "z": [
          0,
          -0.4655172526836395
         ]
        },
        {
         "mode": "lines",
         "type": "scatter3d",
         "x": [
          0,
          1
         ],
         "y": [
          0,
          0.12068966031074524
         ],
         "z": [
          0,
          -0.43103447556495667
         ]
        },
        {
         "mode": "lines",
         "type": "scatter3d",
         "x": [
          0,
          1
         ],
         "y": [
          0,
          0.12068966031074524
         ],
         "z": [
          0,
          -0.3965517282485962
         ]
        },
        {
         "mode": "lines",
         "type": "scatter3d",
         "x": [
          0,
          1
         ],
         "y": [
          0,
          0.12068966031074524
         ],
         "z": [
          0,
          -0.36206895112991333
         ]
        },
        {
         "mode": "lines",
         "type": "scatter3d",
         "x": [
          0,
          1
         ],
         "y": [
          0,
          0.12068966031074524
         ],
         "z": [
          0,
          -0.32758620381355286
         ]
        },
        {
         "mode": "lines",
         "type": "scatter3d",
         "x": [
          0,
          1
         ],
         "y": [
          0,
          0.12068966031074524
         ],
         "z": [
          0,
          -0.2931034564971924
         ]
        },
        {
         "mode": "lines",
         "type": "scatter3d",
         "x": [
          0,
          1
         ],
         "y": [
          0,
          0.12068966031074524
         ],
         "z": [
          0,
          -0.2586206793785095
         ]
        },
        {
         "mode": "lines",
         "type": "scatter3d",
         "x": [
          0,
          1
         ],
         "y": [
          0,
          0.12068966031074524
         ],
         "z": [
          0,
          -0.22413793206214905
         ]
        },
        {
         "mode": "lines",
         "type": "scatter3d",
         "x": [
          0,
          1
         ],
         "y": [
          0,
          0.12068966031074524
         ],
         "z": [
          0,
          -0.18965516984462738
         ]
        },
        {
         "mode": "lines",
         "type": "scatter3d",
         "x": [
          0,
          1
         ],
         "y": [
          0,
          0.12068966031074524
         ],
         "z": [
          0,
          -0.1551724076271057
         ]
        },
        {
         "mode": "lines",
         "type": "scatter3d",
         "x": [
          0,
          1
         ],
         "y": [
          0,
          0.12068966031074524
         ],
         "z": [
          0,
          -0.12068966031074524
         ]
        },
        {
         "mode": "lines",
         "type": "scatter3d",
         "x": [
          0,
          1
         ],
         "y": [
          0,
          0.12068966031074524
         ],
         "z": [
          0,
          -0.08620689809322357
         ]
        },
        {
         "mode": "lines",
         "type": "scatter3d",
         "x": [
          0,
          1
         ],
         "y": [
          0,
          0.12068966031074524
         ],
         "z": [
          0,
          -0.0517241396009922
         ]
        },
        {
         "mode": "lines",
         "type": "scatter3d",
         "x": [
          0,
          1
         ],
         "y": [
          0,
          0.12068966031074524
         ],
         "z": [
          0,
          -0.017241381108760834
         ]
        },
        {
         "mode": "lines",
         "type": "scatter3d",
         "x": [
          0,
          1
         ],
         "y": [
          0,
          0.12068966031074524
         ],
         "z": [
          0,
          0.017241381108760834
         ]
        },
        {
         "mode": "lines",
         "type": "scatter3d",
         "x": [
          0,
          1
         ],
         "y": [
          0,
          0.12068966031074524
         ],
         "z": [
          0,
          0.0517241396009922
         ]
        },
        {
         "mode": "lines",
         "type": "scatter3d",
         "x": [
          0,
          1
         ],
         "y": [
          0,
          0.12068966031074524
         ],
         "z": [
          0,
          0.08620689809322357
         ]
        },
        {
         "mode": "lines",
         "type": "scatter3d",
         "x": [
          0,
          1
         ],
         "y": [
          0,
          0.12068966031074524
         ],
         "z": [
          0,
          0.12068966031074524
         ]
        },
        {
         "mode": "lines",
         "type": "scatter3d",
         "x": [
          0,
          1
         ],
         "y": [
          0,
          0.12068966031074524
         ],
         "z": [
          0,
          0.1551724076271057
         ]
        },
        {
         "mode": "lines",
         "type": "scatter3d",
         "x": [
          0,
          1
         ],
         "y": [
          0,
          0.12068966031074524
         ],
         "z": [
          0,
          0.18965516984462738
         ]
        },
        {
         "mode": "lines",
         "type": "scatter3d",
         "x": [
          0,
          1
         ],
         "y": [
          0,
          0.12068966031074524
         ],
         "z": [
          0,
          0.22413793206214905
         ]
        },
        {
         "mode": "lines",
         "type": "scatter3d",
         "x": [
          0,
          1
         ],
         "y": [
          0,
          0.12068966031074524
         ],
         "z": [
          0,
          0.2586206793785095
         ]
        },
        {
         "mode": "lines",
         "type": "scatter3d",
         "x": [
          0,
          1
         ],
         "y": [
          0,
          0.12068966031074524
         ],
         "z": [
          0,
          0.2931034564971924
         ]
        },
        {
         "mode": "lines",
         "type": "scatter3d",
         "x": [
          0,
          1
         ],
         "y": [
          0,
          0.12068966031074524
         ],
         "z": [
          0,
          0.32758620381355286
         ]
        },
        {
         "mode": "lines",
         "type": "scatter3d",
         "x": [
          0,
          1
         ],
         "y": [
          0,
          0.12068966031074524
         ],
         "z": [
          0,
          0.36206895112991333
         ]
        },
        {
         "mode": "lines",
         "type": "scatter3d",
         "x": [
          0,
          1
         ],
         "y": [
          0,
          0.12068966031074524
         ],
         "z": [
          0,
          0.3965517282485962
         ]
        },
        {
         "mode": "lines",
         "type": "scatter3d",
         "x": [
          0,
          1
         ],
         "y": [
          0,
          0.12068966031074524
         ],
         "z": [
          0,
          0.43103447556495667
         ]
        },
        {
         "mode": "lines",
         "type": "scatter3d",
         "x": [
          0,
          1
         ],
         "y": [
          0,
          0.12068966031074524
         ],
         "z": [
          0,
          0.4655172526836395
         ]
        },
        {
         "mode": "lines",
         "type": "scatter3d",
         "x": [
          0,
          1
         ],
         "y": [
          0,
          0.12068966031074524
         ],
         "z": [
          0,
          0.5
         ]
        },
        {
         "mode": "lines",
         "type": "scatter3d",
         "x": [
          0,
          1
         ],
         "y": [
          0,
          0.1551724076271057
         ],
         "z": [
          0,
          -0.5
         ]
        },
        {
         "mode": "lines",
         "type": "scatter3d",
         "x": [
          0,
          1
         ],
         "y": [
          0,
          0.1551724076271057
         ],
         "z": [
          0,
          -0.4655172526836395
         ]
        },
        {
         "mode": "lines",
         "type": "scatter3d",
         "x": [
          0,
          1
         ],
         "y": [
          0,
          0.1551724076271057
         ],
         "z": [
          0,
          -0.43103447556495667
         ]
        },
        {
         "mode": "lines",
         "type": "scatter3d",
         "x": [
          0,
          1
         ],
         "y": [
          0,
          0.1551724076271057
         ],
         "z": [
          0,
          -0.3965517282485962
         ]
        },
        {
         "mode": "lines",
         "type": "scatter3d",
         "x": [
          0,
          1
         ],
         "y": [
          0,
          0.1551724076271057
         ],
         "z": [
          0,
          -0.36206895112991333
         ]
        },
        {
         "mode": "lines",
         "type": "scatter3d",
         "x": [
          0,
          1
         ],
         "y": [
          0,
          0.1551724076271057
         ],
         "z": [
          0,
          -0.32758620381355286
         ]
        },
        {
         "mode": "lines",
         "type": "scatter3d",
         "x": [
          0,
          1
         ],
         "y": [
          0,
          0.1551724076271057
         ],
         "z": [
          0,
          -0.2931034564971924
         ]
        },
        {
         "mode": "lines",
         "type": "scatter3d",
         "x": [
          0,
          1
         ],
         "y": [
          0,
          0.1551724076271057
         ],
         "z": [
          0,
          -0.2586206793785095
         ]
        },
        {
         "mode": "lines",
         "type": "scatter3d",
         "x": [
          0,
          1
         ],
         "y": [
          0,
          0.1551724076271057
         ],
         "z": [
          0,
          -0.22413793206214905
         ]
        },
        {
         "mode": "lines",
         "type": "scatter3d",
         "x": [
          0,
          1
         ],
         "y": [
          0,
          0.1551724076271057
         ],
         "z": [
          0,
          -0.18965516984462738
         ]
        },
        {
         "mode": "lines",
         "type": "scatter3d",
         "x": [
          0,
          1
         ],
         "y": [
          0,
          0.1551724076271057
         ],
         "z": [
          0,
          -0.1551724076271057
         ]
        },
        {
         "mode": "lines",
         "type": "scatter3d",
         "x": [
          0,
          1
         ],
         "y": [
          0,
          0.1551724076271057
         ],
         "z": [
          0,
          -0.12068966031074524
         ]
        },
        {
         "mode": "lines",
         "type": "scatter3d",
         "x": [
          0,
          1
         ],
         "y": [
          0,
          0.1551724076271057
         ],
         "z": [
          0,
          -0.08620689809322357
         ]
        },
        {
         "mode": "lines",
         "type": "scatter3d",
         "x": [
          0,
          1
         ],
         "y": [
          0,
          0.1551724076271057
         ],
         "z": [
          0,
          -0.0517241396009922
         ]
        },
        {
         "mode": "lines",
         "type": "scatter3d",
         "x": [
          0,
          1
         ],
         "y": [
          0,
          0.1551724076271057
         ],
         "z": [
          0,
          -0.017241381108760834
         ]
        },
        {
         "mode": "lines",
         "type": "scatter3d",
         "x": [
          0,
          1
         ],
         "y": [
          0,
          0.1551724076271057
         ],
         "z": [
          0,
          0.017241381108760834
         ]
        },
        {
         "mode": "lines",
         "type": "scatter3d",
         "x": [
          0,
          1
         ],
         "y": [
          0,
          0.1551724076271057
         ],
         "z": [
          0,
          0.0517241396009922
         ]
        },
        {
         "mode": "lines",
         "type": "scatter3d",
         "x": [
          0,
          1
         ],
         "y": [
          0,
          0.1551724076271057
         ],
         "z": [
          0,
          0.08620689809322357
         ]
        },
        {
         "mode": "lines",
         "type": "scatter3d",
         "x": [
          0,
          1
         ],
         "y": [
          0,
          0.1551724076271057
         ],
         "z": [
          0,
          0.12068966031074524
         ]
        },
        {
         "mode": "lines",
         "type": "scatter3d",
         "x": [
          0,
          1
         ],
         "y": [
          0,
          0.1551724076271057
         ],
         "z": [
          0,
          0.1551724076271057
         ]
        },
        {
         "mode": "lines",
         "type": "scatter3d",
         "x": [
          0,
          1
         ],
         "y": [
          0,
          0.1551724076271057
         ],
         "z": [
          0,
          0.18965516984462738
         ]
        },
        {
         "mode": "lines",
         "type": "scatter3d",
         "x": [
          0,
          1
         ],
         "y": [
          0,
          0.1551724076271057
         ],
         "z": [
          0,
          0.22413793206214905
         ]
        },
        {
         "mode": "lines",
         "type": "scatter3d",
         "x": [
          0,
          1
         ],
         "y": [
          0,
          0.1551724076271057
         ],
         "z": [
          0,
          0.2586206793785095
         ]
        },
        {
         "mode": "lines",
         "type": "scatter3d",
         "x": [
          0,
          1
         ],
         "y": [
          0,
          0.1551724076271057
         ],
         "z": [
          0,
          0.2931034564971924
         ]
        },
        {
         "mode": "lines",
         "type": "scatter3d",
         "x": [
          0,
          1
         ],
         "y": [
          0,
          0.1551724076271057
         ],
         "z": [
          0,
          0.32758620381355286
         ]
        },
        {
         "mode": "lines",
         "type": "scatter3d",
         "x": [
          0,
          1
         ],
         "y": [
          0,
          0.1551724076271057
         ],
         "z": [
          0,
          0.36206895112991333
         ]
        },
        {
         "mode": "lines",
         "type": "scatter3d",
         "x": [
          0,
          1
         ],
         "y": [
          0,
          0.1551724076271057
         ],
         "z": [
          0,
          0.3965517282485962
         ]
        },
        {
         "mode": "lines",
         "type": "scatter3d",
         "x": [
          0,
          1
         ],
         "y": [
          0,
          0.1551724076271057
         ],
         "z": [
          0,
          0.43103447556495667
         ]
        },
        {
         "mode": "lines",
         "type": "scatter3d",
         "x": [
          0,
          1
         ],
         "y": [
          0,
          0.1551724076271057
         ],
         "z": [
          0,
          0.4655172526836395
         ]
        },
        {
         "mode": "lines",
         "type": "scatter3d",
         "x": [
          0,
          1
         ],
         "y": [
          0,
          0.1551724076271057
         ],
         "z": [
          0,
          0.5
         ]
        },
        {
         "mode": "lines",
         "type": "scatter3d",
         "x": [
          0,
          1
         ],
         "y": [
          0,
          0.18965516984462738
         ],
         "z": [
          0,
          -0.5
         ]
        },
        {
         "mode": "lines",
         "type": "scatter3d",
         "x": [
          0,
          1
         ],
         "y": [
          0,
          0.18965516984462738
         ],
         "z": [
          0,
          -0.4655172526836395
         ]
        },
        {
         "mode": "lines",
         "type": "scatter3d",
         "x": [
          0,
          1
         ],
         "y": [
          0,
          0.18965516984462738
         ],
         "z": [
          0,
          -0.43103447556495667
         ]
        },
        {
         "mode": "lines",
         "type": "scatter3d",
         "x": [
          0,
          1
         ],
         "y": [
          0,
          0.18965516984462738
         ],
         "z": [
          0,
          -0.3965517282485962
         ]
        },
        {
         "mode": "lines",
         "type": "scatter3d",
         "x": [
          0,
          1
         ],
         "y": [
          0,
          0.18965516984462738
         ],
         "z": [
          0,
          -0.36206895112991333
         ]
        },
        {
         "mode": "lines",
         "type": "scatter3d",
         "x": [
          0,
          1
         ],
         "y": [
          0,
          0.18965516984462738
         ],
         "z": [
          0,
          -0.32758620381355286
         ]
        },
        {
         "mode": "lines",
         "type": "scatter3d",
         "x": [
          0,
          1
         ],
         "y": [
          0,
          0.18965516984462738
         ],
         "z": [
          0,
          -0.2931034564971924
         ]
        },
        {
         "mode": "lines",
         "type": "scatter3d",
         "x": [
          0,
          1
         ],
         "y": [
          0,
          0.18965516984462738
         ],
         "z": [
          0,
          -0.2586206793785095
         ]
        },
        {
         "mode": "lines",
         "type": "scatter3d",
         "x": [
          0,
          1
         ],
         "y": [
          0,
          0.18965516984462738
         ],
         "z": [
          0,
          -0.22413793206214905
         ]
        },
        {
         "mode": "lines",
         "type": "scatter3d",
         "x": [
          0,
          1
         ],
         "y": [
          0,
          0.18965516984462738
         ],
         "z": [
          0,
          -0.18965516984462738
         ]
        },
        {
         "mode": "lines",
         "type": "scatter3d",
         "x": [
          0,
          1
         ],
         "y": [
          0,
          0.18965516984462738
         ],
         "z": [
          0,
          -0.1551724076271057
         ]
        },
        {
         "mode": "lines",
         "type": "scatter3d",
         "x": [
          0,
          1
         ],
         "y": [
          0,
          0.18965516984462738
         ],
         "z": [
          0,
          -0.12068966031074524
         ]
        },
        {
         "mode": "lines",
         "type": "scatter3d",
         "x": [
          0,
          1
         ],
         "y": [
          0,
          0.18965516984462738
         ],
         "z": [
          0,
          -0.08620689809322357
         ]
        },
        {
         "mode": "lines",
         "type": "scatter3d",
         "x": [
          0,
          1
         ],
         "y": [
          0,
          0.18965516984462738
         ],
         "z": [
          0,
          -0.0517241396009922
         ]
        },
        {
         "mode": "lines",
         "type": "scatter3d",
         "x": [
          0,
          1
         ],
         "y": [
          0,
          0.18965516984462738
         ],
         "z": [
          0,
          -0.017241381108760834
         ]
        },
        {
         "mode": "lines",
         "type": "scatter3d",
         "x": [
          0,
          1
         ],
         "y": [
          0,
          0.18965516984462738
         ],
         "z": [
          0,
          0.017241381108760834
         ]
        },
        {
         "mode": "lines",
         "type": "scatter3d",
         "x": [
          0,
          1
         ],
         "y": [
          0,
          0.18965516984462738
         ],
         "z": [
          0,
          0.0517241396009922
         ]
        },
        {
         "mode": "lines",
         "type": "scatter3d",
         "x": [
          0,
          1
         ],
         "y": [
          0,
          0.18965516984462738
         ],
         "z": [
          0,
          0.08620689809322357
         ]
        },
        {
         "mode": "lines",
         "type": "scatter3d",
         "x": [
          0,
          1
         ],
         "y": [
          0,
          0.18965516984462738
         ],
         "z": [
          0,
          0.12068966031074524
         ]
        },
        {
         "mode": "lines",
         "type": "scatter3d",
         "x": [
          0,
          1
         ],
         "y": [
          0,
          0.18965516984462738
         ],
         "z": [
          0,
          0.1551724076271057
         ]
        },
        {
         "mode": "lines",
         "type": "scatter3d",
         "x": [
          0,
          1
         ],
         "y": [
          0,
          0.18965516984462738
         ],
         "z": [
          0,
          0.18965516984462738
         ]
        },
        {
         "mode": "lines",
         "type": "scatter3d",
         "x": [
          0,
          1
         ],
         "y": [
          0,
          0.18965516984462738
         ],
         "z": [
          0,
          0.22413793206214905
         ]
        },
        {
         "mode": "lines",
         "type": "scatter3d",
         "x": [
          0,
          1
         ],
         "y": [
          0,
          0.18965516984462738
         ],
         "z": [
          0,
          0.2586206793785095
         ]
        },
        {
         "mode": "lines",
         "type": "scatter3d",
         "x": [
          0,
          1
         ],
         "y": [
          0,
          0.18965516984462738
         ],
         "z": [
          0,
          0.2931034564971924
         ]
        },
        {
         "mode": "lines",
         "type": "scatter3d",
         "x": [
          0,
          1
         ],
         "y": [
          0,
          0.18965516984462738
         ],
         "z": [
          0,
          0.32758620381355286
         ]
        },
        {
         "mode": "lines",
         "type": "scatter3d",
         "x": [
          0,
          1
         ],
         "y": [
          0,
          0.18965516984462738
         ],
         "z": [
          0,
          0.36206895112991333
         ]
        },
        {
         "mode": "lines",
         "type": "scatter3d",
         "x": [
          0,
          1
         ],
         "y": [
          0,
          0.18965516984462738
         ],
         "z": [
          0,
          0.3965517282485962
         ]
        },
        {
         "mode": "lines",
         "type": "scatter3d",
         "x": [
          0,
          1
         ],
         "y": [
          0,
          0.18965516984462738
         ],
         "z": [
          0,
          0.43103447556495667
         ]
        },
        {
         "mode": "lines",
         "type": "scatter3d",
         "x": [
          0,
          1
         ],
         "y": [
          0,
          0.18965516984462738
         ],
         "z": [
          0,
          0.4655172526836395
         ]
        },
        {
         "mode": "lines",
         "type": "scatter3d",
         "x": [
          0,
          1
         ],
         "y": [
          0,
          0.18965516984462738
         ],
         "z": [
          0,
          0.5
         ]
        },
        {
         "mode": "lines",
         "type": "scatter3d",
         "x": [
          0,
          1
         ],
         "y": [
          0,
          0.22413793206214905
         ],
         "z": [
          0,
          -0.5
         ]
        },
        {
         "mode": "lines",
         "type": "scatter3d",
         "x": [
          0,
          1
         ],
         "y": [
          0,
          0.22413793206214905
         ],
         "z": [
          0,
          -0.4655172526836395
         ]
        },
        {
         "mode": "lines",
         "type": "scatter3d",
         "x": [
          0,
          1
         ],
         "y": [
          0,
          0.22413793206214905
         ],
         "z": [
          0,
          -0.43103447556495667
         ]
        },
        {
         "mode": "lines",
         "type": "scatter3d",
         "x": [
          0,
          1
         ],
         "y": [
          0,
          0.22413793206214905
         ],
         "z": [
          0,
          -0.3965517282485962
         ]
        },
        {
         "mode": "lines",
         "type": "scatter3d",
         "x": [
          0,
          1
         ],
         "y": [
          0,
          0.22413793206214905
         ],
         "z": [
          0,
          -0.36206895112991333
         ]
        },
        {
         "mode": "lines",
         "type": "scatter3d",
         "x": [
          0,
          1
         ],
         "y": [
          0,
          0.22413793206214905
         ],
         "z": [
          0,
          -0.32758620381355286
         ]
        },
        {
         "mode": "lines",
         "type": "scatter3d",
         "x": [
          0,
          1
         ],
         "y": [
          0,
          0.22413793206214905
         ],
         "z": [
          0,
          -0.2931034564971924
         ]
        },
        {
         "mode": "lines",
         "type": "scatter3d",
         "x": [
          0,
          1
         ],
         "y": [
          0,
          0.22413793206214905
         ],
         "z": [
          0,
          -0.2586206793785095
         ]
        },
        {
         "mode": "lines",
         "type": "scatter3d",
         "x": [
          0,
          1
         ],
         "y": [
          0,
          0.22413793206214905
         ],
         "z": [
          0,
          -0.22413793206214905
         ]
        },
        {
         "mode": "lines",
         "type": "scatter3d",
         "x": [
          0,
          1
         ],
         "y": [
          0,
          0.22413793206214905
         ],
         "z": [
          0,
          -0.18965516984462738
         ]
        },
        {
         "mode": "lines",
         "type": "scatter3d",
         "x": [
          0,
          1
         ],
         "y": [
          0,
          0.22413793206214905
         ],
         "z": [
          0,
          -0.1551724076271057
         ]
        },
        {
         "mode": "lines",
         "type": "scatter3d",
         "x": [
          0,
          1
         ],
         "y": [
          0,
          0.22413793206214905
         ],
         "z": [
          0,
          -0.12068966031074524
         ]
        },
        {
         "mode": "lines",
         "type": "scatter3d",
         "x": [
          0,
          1
         ],
         "y": [
          0,
          0.22413793206214905
         ],
         "z": [
          0,
          -0.08620689809322357
         ]
        },
        {
         "mode": "lines",
         "type": "scatter3d",
         "x": [
          0,
          1
         ],
         "y": [
          0,
          0.22413793206214905
         ],
         "z": [
          0,
          -0.0517241396009922
         ]
        },
        {
         "mode": "lines",
         "type": "scatter3d",
         "x": [
          0,
          1
         ],
         "y": [
          0,
          0.22413793206214905
         ],
         "z": [
          0,
          -0.017241381108760834
         ]
        },
        {
         "mode": "lines",
         "type": "scatter3d",
         "x": [
          0,
          1
         ],
         "y": [
          0,
          0.22413793206214905
         ],
         "z": [
          0,
          0.017241381108760834
         ]
        },
        {
         "mode": "lines",
         "type": "scatter3d",
         "x": [
          0,
          1
         ],
         "y": [
          0,
          0.22413793206214905
         ],
         "z": [
          0,
          0.0517241396009922
         ]
        },
        {
         "mode": "lines",
         "type": "scatter3d",
         "x": [
          0,
          1
         ],
         "y": [
          0,
          0.22413793206214905
         ],
         "z": [
          0,
          0.08620689809322357
         ]
        },
        {
         "mode": "lines",
         "type": "scatter3d",
         "x": [
          0,
          1
         ],
         "y": [
          0,
          0.22413793206214905
         ],
         "z": [
          0,
          0.12068966031074524
         ]
        },
        {
         "mode": "lines",
         "type": "scatter3d",
         "x": [
          0,
          1
         ],
         "y": [
          0,
          0.22413793206214905
         ],
         "z": [
          0,
          0.1551724076271057
         ]
        },
        {
         "mode": "lines",
         "type": "scatter3d",
         "x": [
          0,
          1
         ],
         "y": [
          0,
          0.22413793206214905
         ],
         "z": [
          0,
          0.18965516984462738
         ]
        },
        {
         "mode": "lines",
         "type": "scatter3d",
         "x": [
          0,
          1
         ],
         "y": [
          0,
          0.22413793206214905
         ],
         "z": [
          0,
          0.22413793206214905
         ]
        },
        {
         "mode": "lines",
         "type": "scatter3d",
         "x": [
          0,
          1
         ],
         "y": [
          0,
          0.22413793206214905
         ],
         "z": [
          0,
          0.2586206793785095
         ]
        },
        {
         "mode": "lines",
         "type": "scatter3d",
         "x": [
          0,
          1
         ],
         "y": [
          0,
          0.22413793206214905
         ],
         "z": [
          0,
          0.2931034564971924
         ]
        },
        {
         "mode": "lines",
         "type": "scatter3d",
         "x": [
          0,
          1
         ],
         "y": [
          0,
          0.22413793206214905
         ],
         "z": [
          0,
          0.32758620381355286
         ]
        },
        {
         "mode": "lines",
         "type": "scatter3d",
         "x": [
          0,
          1
         ],
         "y": [
          0,
          0.22413793206214905
         ],
         "z": [
          0,
          0.36206895112991333
         ]
        },
        {
         "mode": "lines",
         "type": "scatter3d",
         "x": [
          0,
          1
         ],
         "y": [
          0,
          0.22413793206214905
         ],
         "z": [
          0,
          0.3965517282485962
         ]
        },
        {
         "mode": "lines",
         "type": "scatter3d",
         "x": [
          0,
          1
         ],
         "y": [
          0,
          0.22413793206214905
         ],
         "z": [
          0,
          0.43103447556495667
         ]
        },
        {
         "mode": "lines",
         "type": "scatter3d",
         "x": [
          0,
          1
         ],
         "y": [
          0,
          0.22413793206214905
         ],
         "z": [
          0,
          0.4655172526836395
         ]
        },
        {
         "mode": "lines",
         "type": "scatter3d",
         "x": [
          0,
          1
         ],
         "y": [
          0,
          0.22413793206214905
         ],
         "z": [
          0,
          0.5
         ]
        },
        {
         "mode": "lines",
         "type": "scatter3d",
         "x": [
          0,
          1
         ],
         "y": [
          0,
          0.2586206793785095
         ],
         "z": [
          0,
          -0.5
         ]
        },
        {
         "mode": "lines",
         "type": "scatter3d",
         "x": [
          0,
          1
         ],
         "y": [
          0,
          0.2586206793785095
         ],
         "z": [
          0,
          -0.4655172526836395
         ]
        },
        {
         "mode": "lines",
         "type": "scatter3d",
         "x": [
          0,
          1
         ],
         "y": [
          0,
          0.2586206793785095
         ],
         "z": [
          0,
          -0.43103447556495667
         ]
        },
        {
         "mode": "lines",
         "type": "scatter3d",
         "x": [
          0,
          1
         ],
         "y": [
          0,
          0.2586206793785095
         ],
         "z": [
          0,
          -0.3965517282485962
         ]
        },
        {
         "mode": "lines",
         "type": "scatter3d",
         "x": [
          0,
          1
         ],
         "y": [
          0,
          0.2586206793785095
         ],
         "z": [
          0,
          -0.36206895112991333
         ]
        },
        {
         "mode": "lines",
         "type": "scatter3d",
         "x": [
          0,
          1
         ],
         "y": [
          0,
          0.2586206793785095
         ],
         "z": [
          0,
          -0.32758620381355286
         ]
        },
        {
         "mode": "lines",
         "type": "scatter3d",
         "x": [
          0,
          1
         ],
         "y": [
          0,
          0.2586206793785095
         ],
         "z": [
          0,
          -0.2931034564971924
         ]
        },
        {
         "mode": "lines",
         "type": "scatter3d",
         "x": [
          0,
          1
         ],
         "y": [
          0,
          0.2586206793785095
         ],
         "z": [
          0,
          -0.2586206793785095
         ]
        },
        {
         "mode": "lines",
         "type": "scatter3d",
         "x": [
          0,
          1
         ],
         "y": [
          0,
          0.2586206793785095
         ],
         "z": [
          0,
          -0.22413793206214905
         ]
        },
        {
         "mode": "lines",
         "type": "scatter3d",
         "x": [
          0,
          1
         ],
         "y": [
          0,
          0.2586206793785095
         ],
         "z": [
          0,
          -0.18965516984462738
         ]
        },
        {
         "mode": "lines",
         "type": "scatter3d",
         "x": [
          0,
          1
         ],
         "y": [
          0,
          0.2586206793785095
         ],
         "z": [
          0,
          -0.1551724076271057
         ]
        },
        {
         "mode": "lines",
         "type": "scatter3d",
         "x": [
          0,
          1
         ],
         "y": [
          0,
          0.2586206793785095
         ],
         "z": [
          0,
          -0.12068966031074524
         ]
        },
        {
         "mode": "lines",
         "type": "scatter3d",
         "x": [
          0,
          1
         ],
         "y": [
          0,
          0.2586206793785095
         ],
         "z": [
          0,
          -0.08620689809322357
         ]
        },
        {
         "mode": "lines",
         "type": "scatter3d",
         "x": [
          0,
          1
         ],
         "y": [
          0,
          0.2586206793785095
         ],
         "z": [
          0,
          -0.0517241396009922
         ]
        },
        {
         "mode": "lines",
         "type": "scatter3d",
         "x": [
          0,
          1
         ],
         "y": [
          0,
          0.2586206793785095
         ],
         "z": [
          0,
          -0.017241381108760834
         ]
        },
        {
         "mode": "lines",
         "type": "scatter3d",
         "x": [
          0,
          1
         ],
         "y": [
          0,
          0.2586206793785095
         ],
         "z": [
          0,
          0.017241381108760834
         ]
        },
        {
         "mode": "lines",
         "type": "scatter3d",
         "x": [
          0,
          1
         ],
         "y": [
          0,
          0.2586206793785095
         ],
         "z": [
          0,
          0.0517241396009922
         ]
        },
        {
         "mode": "lines",
         "type": "scatter3d",
         "x": [
          0,
          1
         ],
         "y": [
          0,
          0.2586206793785095
         ],
         "z": [
          0,
          0.08620689809322357
         ]
        },
        {
         "mode": "lines",
         "type": "scatter3d",
         "x": [
          0,
          1
         ],
         "y": [
          0,
          0.2586206793785095
         ],
         "z": [
          0,
          0.12068966031074524
         ]
        },
        {
         "mode": "lines",
         "type": "scatter3d",
         "x": [
          0,
          1
         ],
         "y": [
          0,
          0.2586206793785095
         ],
         "z": [
          0,
          0.1551724076271057
         ]
        },
        {
         "mode": "lines",
         "type": "scatter3d",
         "x": [
          0,
          1
         ],
         "y": [
          0,
          0.2586206793785095
         ],
         "z": [
          0,
          0.18965516984462738
         ]
        },
        {
         "mode": "lines",
         "type": "scatter3d",
         "x": [
          0,
          1
         ],
         "y": [
          0,
          0.2586206793785095
         ],
         "z": [
          0,
          0.22413793206214905
         ]
        },
        {
         "mode": "lines",
         "type": "scatter3d",
         "x": [
          0,
          1
         ],
         "y": [
          0,
          0.2586206793785095
         ],
         "z": [
          0,
          0.2586206793785095
         ]
        },
        {
         "mode": "lines",
         "type": "scatter3d",
         "x": [
          0,
          1
         ],
         "y": [
          0,
          0.2586206793785095
         ],
         "z": [
          0,
          0.2931034564971924
         ]
        },
        {
         "mode": "lines",
         "type": "scatter3d",
         "x": [
          0,
          1
         ],
         "y": [
          0,
          0.2586206793785095
         ],
         "z": [
          0,
          0.32758620381355286
         ]
        },
        {
         "mode": "lines",
         "type": "scatter3d",
         "x": [
          0,
          1
         ],
         "y": [
          0,
          0.2586206793785095
         ],
         "z": [
          0,
          0.36206895112991333
         ]
        },
        {
         "mode": "lines",
         "type": "scatter3d",
         "x": [
          0,
          1
         ],
         "y": [
          0,
          0.2586206793785095
         ],
         "z": [
          0,
          0.3965517282485962
         ]
        },
        {
         "mode": "lines",
         "type": "scatter3d",
         "x": [
          0,
          1
         ],
         "y": [
          0,
          0.2586206793785095
         ],
         "z": [
          0,
          0.43103447556495667
         ]
        },
        {
         "mode": "lines",
         "type": "scatter3d",
         "x": [
          0,
          1
         ],
         "y": [
          0,
          0.2586206793785095
         ],
         "z": [
          0,
          0.4655172526836395
         ]
        },
        {
         "mode": "lines",
         "type": "scatter3d",
         "x": [
          0,
          1
         ],
         "y": [
          0,
          0.2586206793785095
         ],
         "z": [
          0,
          0.5
         ]
        },
        {
         "mode": "lines",
         "type": "scatter3d",
         "x": [
          0,
          1
         ],
         "y": [
          0,
          0.2931034564971924
         ],
         "z": [
          0,
          -0.5
         ]
        },
        {
         "mode": "lines",
         "type": "scatter3d",
         "x": [
          0,
          1
         ],
         "y": [
          0,
          0.2931034564971924
         ],
         "z": [
          0,
          -0.4655172526836395
         ]
        },
        {
         "mode": "lines",
         "type": "scatter3d",
         "x": [
          0,
          1
         ],
         "y": [
          0,
          0.2931034564971924
         ],
         "z": [
          0,
          -0.43103447556495667
         ]
        },
        {
         "mode": "lines",
         "type": "scatter3d",
         "x": [
          0,
          1
         ],
         "y": [
          0,
          0.2931034564971924
         ],
         "z": [
          0,
          -0.3965517282485962
         ]
        },
        {
         "mode": "lines",
         "type": "scatter3d",
         "x": [
          0,
          1
         ],
         "y": [
          0,
          0.2931034564971924
         ],
         "z": [
          0,
          -0.36206895112991333
         ]
        },
        {
         "mode": "lines",
         "type": "scatter3d",
         "x": [
          0,
          1
         ],
         "y": [
          0,
          0.2931034564971924
         ],
         "z": [
          0,
          -0.32758620381355286
         ]
        },
        {
         "mode": "lines",
         "type": "scatter3d",
         "x": [
          0,
          1
         ],
         "y": [
          0,
          0.2931034564971924
         ],
         "z": [
          0,
          -0.2931034564971924
         ]
        },
        {
         "mode": "lines",
         "type": "scatter3d",
         "x": [
          0,
          1
         ],
         "y": [
          0,
          0.2931034564971924
         ],
         "z": [
          0,
          -0.2586206793785095
         ]
        },
        {
         "mode": "lines",
         "type": "scatter3d",
         "x": [
          0,
          1
         ],
         "y": [
          0,
          0.2931034564971924
         ],
         "z": [
          0,
          -0.22413793206214905
         ]
        },
        {
         "mode": "lines",
         "type": "scatter3d",
         "x": [
          0,
          1
         ],
         "y": [
          0,
          0.2931034564971924
         ],
         "z": [
          0,
          -0.18965516984462738
         ]
        },
        {
         "mode": "lines",
         "type": "scatter3d",
         "x": [
          0,
          1
         ],
         "y": [
          0,
          0.2931034564971924
         ],
         "z": [
          0,
          -0.1551724076271057
         ]
        },
        {
         "mode": "lines",
         "type": "scatter3d",
         "x": [
          0,
          1
         ],
         "y": [
          0,
          0.2931034564971924
         ],
         "z": [
          0,
          -0.12068966031074524
         ]
        },
        {
         "mode": "lines",
         "type": "scatter3d",
         "x": [
          0,
          1
         ],
         "y": [
          0,
          0.2931034564971924
         ],
         "z": [
          0,
          -0.08620689809322357
         ]
        },
        {
         "mode": "lines",
         "type": "scatter3d",
         "x": [
          0,
          1
         ],
         "y": [
          0,
          0.2931034564971924
         ],
         "z": [
          0,
          -0.0517241396009922
         ]
        },
        {
         "mode": "lines",
         "type": "scatter3d",
         "x": [
          0,
          1
         ],
         "y": [
          0,
          0.2931034564971924
         ],
         "z": [
          0,
          -0.017241381108760834
         ]
        },
        {
         "mode": "lines",
         "type": "scatter3d",
         "x": [
          0,
          1
         ],
         "y": [
          0,
          0.2931034564971924
         ],
         "z": [
          0,
          0.017241381108760834
         ]
        },
        {
         "mode": "lines",
         "type": "scatter3d",
         "x": [
          0,
          1
         ],
         "y": [
          0,
          0.2931034564971924
         ],
         "z": [
          0,
          0.0517241396009922
         ]
        },
        {
         "mode": "lines",
         "type": "scatter3d",
         "x": [
          0,
          1
         ],
         "y": [
          0,
          0.2931034564971924
         ],
         "z": [
          0,
          0.08620689809322357
         ]
        },
        {
         "mode": "lines",
         "type": "scatter3d",
         "x": [
          0,
          1
         ],
         "y": [
          0,
          0.2931034564971924
         ],
         "z": [
          0,
          0.12068966031074524
         ]
        },
        {
         "mode": "lines",
         "type": "scatter3d",
         "x": [
          0,
          1
         ],
         "y": [
          0,
          0.2931034564971924
         ],
         "z": [
          0,
          0.1551724076271057
         ]
        },
        {
         "mode": "lines",
         "type": "scatter3d",
         "x": [
          0,
          1
         ],
         "y": [
          0,
          0.2931034564971924
         ],
         "z": [
          0,
          0.18965516984462738
         ]
        },
        {
         "mode": "lines",
         "type": "scatter3d",
         "x": [
          0,
          1
         ],
         "y": [
          0,
          0.2931034564971924
         ],
         "z": [
          0,
          0.22413793206214905
         ]
        },
        {
         "mode": "lines",
         "type": "scatter3d",
         "x": [
          0,
          1
         ],
         "y": [
          0,
          0.2931034564971924
         ],
         "z": [
          0,
          0.2586206793785095
         ]
        },
        {
         "mode": "lines",
         "type": "scatter3d",
         "x": [
          0,
          1
         ],
         "y": [
          0,
          0.2931034564971924
         ],
         "z": [
          0,
          0.2931034564971924
         ]
        },
        {
         "mode": "lines",
         "type": "scatter3d",
         "x": [
          0,
          1
         ],
         "y": [
          0,
          0.2931034564971924
         ],
         "z": [
          0,
          0.32758620381355286
         ]
        },
        {
         "mode": "lines",
         "type": "scatter3d",
         "x": [
          0,
          1
         ],
         "y": [
          0,
          0.2931034564971924
         ],
         "z": [
          0,
          0.36206895112991333
         ]
        },
        {
         "mode": "lines",
         "type": "scatter3d",
         "x": [
          0,
          1
         ],
         "y": [
          0,
          0.2931034564971924
         ],
         "z": [
          0,
          0.3965517282485962
         ]
        },
        {
         "mode": "lines",
         "type": "scatter3d",
         "x": [
          0,
          1
         ],
         "y": [
          0,
          0.2931034564971924
         ],
         "z": [
          0,
          0.43103447556495667
         ]
        },
        {
         "mode": "lines",
         "type": "scatter3d",
         "x": [
          0,
          1
         ],
         "y": [
          0,
          0.2931034564971924
         ],
         "z": [
          0,
          0.4655172526836395
         ]
        },
        {
         "mode": "lines",
         "type": "scatter3d",
         "x": [
          0,
          1
         ],
         "y": [
          0,
          0.2931034564971924
         ],
         "z": [
          0,
          0.5
         ]
        },
        {
         "mode": "lines",
         "type": "scatter3d",
         "x": [
          0,
          1
         ],
         "y": [
          0,
          0.32758620381355286
         ],
         "z": [
          0,
          -0.5
         ]
        },
        {
         "mode": "lines",
         "type": "scatter3d",
         "x": [
          0,
          1
         ],
         "y": [
          0,
          0.32758620381355286
         ],
         "z": [
          0,
          -0.4655172526836395
         ]
        },
        {
         "mode": "lines",
         "type": "scatter3d",
         "x": [
          0,
          1
         ],
         "y": [
          0,
          0.32758620381355286
         ],
         "z": [
          0,
          -0.43103447556495667
         ]
        },
        {
         "mode": "lines",
         "type": "scatter3d",
         "x": [
          0,
          1
         ],
         "y": [
          0,
          0.32758620381355286
         ],
         "z": [
          0,
          -0.3965517282485962
         ]
        },
        {
         "mode": "lines",
         "type": "scatter3d",
         "x": [
          0,
          1
         ],
         "y": [
          0,
          0.32758620381355286
         ],
         "z": [
          0,
          -0.36206895112991333
         ]
        },
        {
         "mode": "lines",
         "type": "scatter3d",
         "x": [
          0,
          1
         ],
         "y": [
          0,
          0.32758620381355286
         ],
         "z": [
          0,
          -0.32758620381355286
         ]
        },
        {
         "mode": "lines",
         "type": "scatter3d",
         "x": [
          0,
          1
         ],
         "y": [
          0,
          0.32758620381355286
         ],
         "z": [
          0,
          -0.2931034564971924
         ]
        },
        {
         "mode": "lines",
         "type": "scatter3d",
         "x": [
          0,
          1
         ],
         "y": [
          0,
          0.32758620381355286
         ],
         "z": [
          0,
          -0.2586206793785095
         ]
        },
        {
         "mode": "lines",
         "type": "scatter3d",
         "x": [
          0,
          1
         ],
         "y": [
          0,
          0.32758620381355286
         ],
         "z": [
          0,
          -0.22413793206214905
         ]
        },
        {
         "mode": "lines",
         "type": "scatter3d",
         "x": [
          0,
          1
         ],
         "y": [
          0,
          0.32758620381355286
         ],
         "z": [
          0,
          -0.18965516984462738
         ]
        },
        {
         "mode": "lines",
         "type": "scatter3d",
         "x": [
          0,
          1
         ],
         "y": [
          0,
          0.32758620381355286
         ],
         "z": [
          0,
          -0.1551724076271057
         ]
        },
        {
         "mode": "lines",
         "type": "scatter3d",
         "x": [
          0,
          1
         ],
         "y": [
          0,
          0.32758620381355286
         ],
         "z": [
          0,
          -0.12068966031074524
         ]
        },
        {
         "mode": "lines",
         "type": "scatter3d",
         "x": [
          0,
          1
         ],
         "y": [
          0,
          0.32758620381355286
         ],
         "z": [
          0,
          -0.08620689809322357
         ]
        },
        {
         "mode": "lines",
         "type": "scatter3d",
         "x": [
          0,
          1
         ],
         "y": [
          0,
          0.32758620381355286
         ],
         "z": [
          0,
          -0.0517241396009922
         ]
        },
        {
         "mode": "lines",
         "type": "scatter3d",
         "x": [
          0,
          1
         ],
         "y": [
          0,
          0.32758620381355286
         ],
         "z": [
          0,
          -0.017241381108760834
         ]
        },
        {
         "mode": "lines",
         "type": "scatter3d",
         "x": [
          0,
          1
         ],
         "y": [
          0,
          0.32758620381355286
         ],
         "z": [
          0,
          0.017241381108760834
         ]
        },
        {
         "mode": "lines",
         "type": "scatter3d",
         "x": [
          0,
          1
         ],
         "y": [
          0,
          0.32758620381355286
         ],
         "z": [
          0,
          0.0517241396009922
         ]
        },
        {
         "mode": "lines",
         "type": "scatter3d",
         "x": [
          0,
          1
         ],
         "y": [
          0,
          0.32758620381355286
         ],
         "z": [
          0,
          0.08620689809322357
         ]
        },
        {
         "mode": "lines",
         "type": "scatter3d",
         "x": [
          0,
          1
         ],
         "y": [
          0,
          0.32758620381355286
         ],
         "z": [
          0,
          0.12068966031074524
         ]
        },
        {
         "mode": "lines",
         "type": "scatter3d",
         "x": [
          0,
          1
         ],
         "y": [
          0,
          0.32758620381355286
         ],
         "z": [
          0,
          0.1551724076271057
         ]
        },
        {
         "mode": "lines",
         "type": "scatter3d",
         "x": [
          0,
          1
         ],
         "y": [
          0,
          0.32758620381355286
         ],
         "z": [
          0,
          0.18965516984462738
         ]
        },
        {
         "mode": "lines",
         "type": "scatter3d",
         "x": [
          0,
          1
         ],
         "y": [
          0,
          0.32758620381355286
         ],
         "z": [
          0,
          0.22413793206214905
         ]
        },
        {
         "mode": "lines",
         "type": "scatter3d",
         "x": [
          0,
          1
         ],
         "y": [
          0,
          0.32758620381355286
         ],
         "z": [
          0,
          0.2586206793785095
         ]
        },
        {
         "mode": "lines",
         "type": "scatter3d",
         "x": [
          0,
          1
         ],
         "y": [
          0,
          0.32758620381355286
         ],
         "z": [
          0,
          0.2931034564971924
         ]
        },
        {
         "mode": "lines",
         "type": "scatter3d",
         "x": [
          0,
          1
         ],
         "y": [
          0,
          0.32758620381355286
         ],
         "z": [
          0,
          0.32758620381355286
         ]
        },
        {
         "mode": "lines",
         "type": "scatter3d",
         "x": [
          0,
          1
         ],
         "y": [
          0,
          0.32758620381355286
         ],
         "z": [
          0,
          0.36206895112991333
         ]
        },
        {
         "mode": "lines",
         "type": "scatter3d",
         "x": [
          0,
          1
         ],
         "y": [
          0,
          0.32758620381355286
         ],
         "z": [
          0,
          0.3965517282485962
         ]
        },
        {
         "mode": "lines",
         "type": "scatter3d",
         "x": [
          0,
          1
         ],
         "y": [
          0,
          0.32758620381355286
         ],
         "z": [
          0,
          0.43103447556495667
         ]
        },
        {
         "mode": "lines",
         "type": "scatter3d",
         "x": [
          0,
          1
         ],
         "y": [
          0,
          0.32758620381355286
         ],
         "z": [
          0,
          0.4655172526836395
         ]
        },
        {
         "mode": "lines",
         "type": "scatter3d",
         "x": [
          0,
          1
         ],
         "y": [
          0,
          0.32758620381355286
         ],
         "z": [
          0,
          0.5
         ]
        },
        {
         "mode": "lines",
         "type": "scatter3d",
         "x": [
          0,
          1
         ],
         "y": [
          0,
          0.36206895112991333
         ],
         "z": [
          0,
          -0.5
         ]
        },
        {
         "mode": "lines",
         "type": "scatter3d",
         "x": [
          0,
          1
         ],
         "y": [
          0,
          0.36206895112991333
         ],
         "z": [
          0,
          -0.4655172526836395
         ]
        },
        {
         "mode": "lines",
         "type": "scatter3d",
         "x": [
          0,
          1
         ],
         "y": [
          0,
          0.36206895112991333
         ],
         "z": [
          0,
          -0.43103447556495667
         ]
        },
        {
         "mode": "lines",
         "type": "scatter3d",
         "x": [
          0,
          1
         ],
         "y": [
          0,
          0.36206895112991333
         ],
         "z": [
          0,
          -0.3965517282485962
         ]
        },
        {
         "mode": "lines",
         "type": "scatter3d",
         "x": [
          0,
          1
         ],
         "y": [
          0,
          0.36206895112991333
         ],
         "z": [
          0,
          -0.36206895112991333
         ]
        },
        {
         "mode": "lines",
         "type": "scatter3d",
         "x": [
          0,
          1
         ],
         "y": [
          0,
          0.36206895112991333
         ],
         "z": [
          0,
          -0.32758620381355286
         ]
        },
        {
         "mode": "lines",
         "type": "scatter3d",
         "x": [
          0,
          1
         ],
         "y": [
          0,
          0.36206895112991333
         ],
         "z": [
          0,
          -0.2931034564971924
         ]
        },
        {
         "mode": "lines",
         "type": "scatter3d",
         "x": [
          0,
          1
         ],
         "y": [
          0,
          0.36206895112991333
         ],
         "z": [
          0,
          -0.2586206793785095
         ]
        },
        {
         "mode": "lines",
         "type": "scatter3d",
         "x": [
          0,
          1
         ],
         "y": [
          0,
          0.36206895112991333
         ],
         "z": [
          0,
          -0.22413793206214905
         ]
        },
        {
         "mode": "lines",
         "type": "scatter3d",
         "x": [
          0,
          1
         ],
         "y": [
          0,
          0.36206895112991333
         ],
         "z": [
          0,
          -0.18965516984462738
         ]
        },
        {
         "mode": "lines",
         "type": "scatter3d",
         "x": [
          0,
          1
         ],
         "y": [
          0,
          0.36206895112991333
         ],
         "z": [
          0,
          -0.1551724076271057
         ]
        },
        {
         "mode": "lines",
         "type": "scatter3d",
         "x": [
          0,
          1
         ],
         "y": [
          0,
          0.36206895112991333
         ],
         "z": [
          0,
          -0.12068966031074524
         ]
        },
        {
         "mode": "lines",
         "type": "scatter3d",
         "x": [
          0,
          1
         ],
         "y": [
          0,
          0.36206895112991333
         ],
         "z": [
          0,
          -0.08620689809322357
         ]
        },
        {
         "mode": "lines",
         "type": "scatter3d",
         "x": [
          0,
          1
         ],
         "y": [
          0,
          0.36206895112991333
         ],
         "z": [
          0,
          -0.0517241396009922
         ]
        },
        {
         "mode": "lines",
         "type": "scatter3d",
         "x": [
          0,
          1
         ],
         "y": [
          0,
          0.36206895112991333
         ],
         "z": [
          0,
          -0.017241381108760834
         ]
        },
        {
         "mode": "lines",
         "type": "scatter3d",
         "x": [
          0,
          1
         ],
         "y": [
          0,
          0.36206895112991333
         ],
         "z": [
          0,
          0.017241381108760834
         ]
        },
        {
         "mode": "lines",
         "type": "scatter3d",
         "x": [
          0,
          1
         ],
         "y": [
          0,
          0.36206895112991333
         ],
         "z": [
          0,
          0.0517241396009922
         ]
        },
        {
         "mode": "lines",
         "type": "scatter3d",
         "x": [
          0,
          1
         ],
         "y": [
          0,
          0.36206895112991333
         ],
         "z": [
          0,
          0.08620689809322357
         ]
        },
        {
         "mode": "lines",
         "type": "scatter3d",
         "x": [
          0,
          1
         ],
         "y": [
          0,
          0.36206895112991333
         ],
         "z": [
          0,
          0.12068966031074524
         ]
        },
        {
         "mode": "lines",
         "type": "scatter3d",
         "x": [
          0,
          1
         ],
         "y": [
          0,
          0.36206895112991333
         ],
         "z": [
          0,
          0.1551724076271057
         ]
        },
        {
         "mode": "lines",
         "type": "scatter3d",
         "x": [
          0,
          1
         ],
         "y": [
          0,
          0.36206895112991333
         ],
         "z": [
          0,
          0.18965516984462738
         ]
        },
        {
         "mode": "lines",
         "type": "scatter3d",
         "x": [
          0,
          1
         ],
         "y": [
          0,
          0.36206895112991333
         ],
         "z": [
          0,
          0.22413793206214905
         ]
        },
        {
         "mode": "lines",
         "type": "scatter3d",
         "x": [
          0,
          1
         ],
         "y": [
          0,
          0.36206895112991333
         ],
         "z": [
          0,
          0.2586206793785095
         ]
        },
        {
         "mode": "lines",
         "type": "scatter3d",
         "x": [
          0,
          1
         ],
         "y": [
          0,
          0.36206895112991333
         ],
         "z": [
          0,
          0.2931034564971924
         ]
        },
        {
         "mode": "lines",
         "type": "scatter3d",
         "x": [
          0,
          1
         ],
         "y": [
          0,
          0.36206895112991333
         ],
         "z": [
          0,
          0.32758620381355286
         ]
        },
        {
         "mode": "lines",
         "type": "scatter3d",
         "x": [
          0,
          1
         ],
         "y": [
          0,
          0.36206895112991333
         ],
         "z": [
          0,
          0.36206895112991333
         ]
        },
        {
         "mode": "lines",
         "type": "scatter3d",
         "x": [
          0,
          1
         ],
         "y": [
          0,
          0.36206895112991333
         ],
         "z": [
          0,
          0.3965517282485962
         ]
        },
        {
         "mode": "lines",
         "type": "scatter3d",
         "x": [
          0,
          1
         ],
         "y": [
          0,
          0.36206895112991333
         ],
         "z": [
          0,
          0.43103447556495667
         ]
        },
        {
         "mode": "lines",
         "type": "scatter3d",
         "x": [
          0,
          1
         ],
         "y": [
          0,
          0.36206895112991333
         ],
         "z": [
          0,
          0.4655172526836395
         ]
        },
        {
         "mode": "lines",
         "type": "scatter3d",
         "x": [
          0,
          1
         ],
         "y": [
          0,
          0.36206895112991333
         ],
         "z": [
          0,
          0.5
         ]
        },
        {
         "mode": "lines",
         "type": "scatter3d",
         "x": [
          0,
          1
         ],
         "y": [
          0,
          0.3965517282485962
         ],
         "z": [
          0,
          -0.5
         ]
        },
        {
         "mode": "lines",
         "type": "scatter3d",
         "x": [
          0,
          1
         ],
         "y": [
          0,
          0.3965517282485962
         ],
         "z": [
          0,
          -0.4655172526836395
         ]
        },
        {
         "mode": "lines",
         "type": "scatter3d",
         "x": [
          0,
          1
         ],
         "y": [
          0,
          0.3965517282485962
         ],
         "z": [
          0,
          -0.43103447556495667
         ]
        },
        {
         "mode": "lines",
         "type": "scatter3d",
         "x": [
          0,
          1
         ],
         "y": [
          0,
          0.3965517282485962
         ],
         "z": [
          0,
          -0.3965517282485962
         ]
        },
        {
         "mode": "lines",
         "type": "scatter3d",
         "x": [
          0,
          1
         ],
         "y": [
          0,
          0.3965517282485962
         ],
         "z": [
          0,
          -0.36206895112991333
         ]
        },
        {
         "mode": "lines",
         "type": "scatter3d",
         "x": [
          0,
          1
         ],
         "y": [
          0,
          0.3965517282485962
         ],
         "z": [
          0,
          -0.32758620381355286
         ]
        },
        {
         "mode": "lines",
         "type": "scatter3d",
         "x": [
          0,
          1
         ],
         "y": [
          0,
          0.3965517282485962
         ],
         "z": [
          0,
          -0.2931034564971924
         ]
        },
        {
         "mode": "lines",
         "type": "scatter3d",
         "x": [
          0,
          1
         ],
         "y": [
          0,
          0.3965517282485962
         ],
         "z": [
          0,
          -0.2586206793785095
         ]
        },
        {
         "mode": "lines",
         "type": "scatter3d",
         "x": [
          0,
          1
         ],
         "y": [
          0,
          0.3965517282485962
         ],
         "z": [
          0,
          -0.22413793206214905
         ]
        },
        {
         "mode": "lines",
         "type": "scatter3d",
         "x": [
          0,
          1
         ],
         "y": [
          0,
          0.3965517282485962
         ],
         "z": [
          0,
          -0.18965516984462738
         ]
        },
        {
         "mode": "lines",
         "type": "scatter3d",
         "x": [
          0,
          1
         ],
         "y": [
          0,
          0.3965517282485962
         ],
         "z": [
          0,
          -0.1551724076271057
         ]
        },
        {
         "mode": "lines",
         "type": "scatter3d",
         "x": [
          0,
          1
         ],
         "y": [
          0,
          0.3965517282485962
         ],
         "z": [
          0,
          -0.12068966031074524
         ]
        },
        {
         "mode": "lines",
         "type": "scatter3d",
         "x": [
          0,
          1
         ],
         "y": [
          0,
          0.3965517282485962
         ],
         "z": [
          0,
          -0.08620689809322357
         ]
        },
        {
         "mode": "lines",
         "type": "scatter3d",
         "x": [
          0,
          1
         ],
         "y": [
          0,
          0.3965517282485962
         ],
         "z": [
          0,
          -0.0517241396009922
         ]
        },
        {
         "mode": "lines",
         "type": "scatter3d",
         "x": [
          0,
          1
         ],
         "y": [
          0,
          0.3965517282485962
         ],
         "z": [
          0,
          -0.017241381108760834
         ]
        },
        {
         "mode": "lines",
         "type": "scatter3d",
         "x": [
          0,
          1
         ],
         "y": [
          0,
          0.3965517282485962
         ],
         "z": [
          0,
          0.017241381108760834
         ]
        },
        {
         "mode": "lines",
         "type": "scatter3d",
         "x": [
          0,
          1
         ],
         "y": [
          0,
          0.3965517282485962
         ],
         "z": [
          0,
          0.0517241396009922
         ]
        },
        {
         "mode": "lines",
         "type": "scatter3d",
         "x": [
          0,
          1
         ],
         "y": [
          0,
          0.3965517282485962
         ],
         "z": [
          0,
          0.08620689809322357
         ]
        },
        {
         "mode": "lines",
         "type": "scatter3d",
         "x": [
          0,
          1
         ],
         "y": [
          0,
          0.3965517282485962
         ],
         "z": [
          0,
          0.12068966031074524
         ]
        },
        {
         "mode": "lines",
         "type": "scatter3d",
         "x": [
          0,
          1
         ],
         "y": [
          0,
          0.3965517282485962
         ],
         "z": [
          0,
          0.1551724076271057
         ]
        },
        {
         "mode": "lines",
         "type": "scatter3d",
         "x": [
          0,
          1
         ],
         "y": [
          0,
          0.3965517282485962
         ],
         "z": [
          0,
          0.18965516984462738
         ]
        },
        {
         "mode": "lines",
         "type": "scatter3d",
         "x": [
          0,
          1
         ],
         "y": [
          0,
          0.3965517282485962
         ],
         "z": [
          0,
          0.22413793206214905
         ]
        },
        {
         "mode": "lines",
         "type": "scatter3d",
         "x": [
          0,
          1
         ],
         "y": [
          0,
          0.3965517282485962
         ],
         "z": [
          0,
          0.2586206793785095
         ]
        },
        {
         "mode": "lines",
         "type": "scatter3d",
         "x": [
          0,
          1
         ],
         "y": [
          0,
          0.3965517282485962
         ],
         "z": [
          0,
          0.2931034564971924
         ]
        },
        {
         "mode": "lines",
         "type": "scatter3d",
         "x": [
          0,
          1
         ],
         "y": [
          0,
          0.3965517282485962
         ],
         "z": [
          0,
          0.32758620381355286
         ]
        },
        {
         "mode": "lines",
         "type": "scatter3d",
         "x": [
          0,
          1
         ],
         "y": [
          0,
          0.3965517282485962
         ],
         "z": [
          0,
          0.36206895112991333
         ]
        },
        {
         "mode": "lines",
         "type": "scatter3d",
         "x": [
          0,
          1
         ],
         "y": [
          0,
          0.3965517282485962
         ],
         "z": [
          0,
          0.3965517282485962
         ]
        },
        {
         "mode": "lines",
         "type": "scatter3d",
         "x": [
          0,
          1
         ],
         "y": [
          0,
          0.3965517282485962
         ],
         "z": [
          0,
          0.43103447556495667
         ]
        },
        {
         "mode": "lines",
         "type": "scatter3d",
         "x": [
          0,
          1
         ],
         "y": [
          0,
          0.3965517282485962
         ],
         "z": [
          0,
          0.4655172526836395
         ]
        },
        {
         "mode": "lines",
         "type": "scatter3d",
         "x": [
          0,
          1
         ],
         "y": [
          0,
          0.3965517282485962
         ],
         "z": [
          0,
          0.5
         ]
        },
        {
         "mode": "lines",
         "type": "scatter3d",
         "x": [
          0,
          1
         ],
         "y": [
          0,
          0.43103447556495667
         ],
         "z": [
          0,
          -0.5
         ]
        },
        {
         "mode": "lines",
         "type": "scatter3d",
         "x": [
          0,
          1
         ],
         "y": [
          0,
          0.43103447556495667
         ],
         "z": [
          0,
          -0.4655172526836395
         ]
        },
        {
         "mode": "lines",
         "type": "scatter3d",
         "x": [
          0,
          1
         ],
         "y": [
          0,
          0.43103447556495667
         ],
         "z": [
          0,
          -0.43103447556495667
         ]
        },
        {
         "mode": "lines",
         "type": "scatter3d",
         "x": [
          0,
          1
         ],
         "y": [
          0,
          0.43103447556495667
         ],
         "z": [
          0,
          -0.3965517282485962
         ]
        },
        {
         "mode": "lines",
         "type": "scatter3d",
         "x": [
          0,
          1
         ],
         "y": [
          0,
          0.43103447556495667
         ],
         "z": [
          0,
          -0.36206895112991333
         ]
        },
        {
         "mode": "lines",
         "type": "scatter3d",
         "x": [
          0,
          1
         ],
         "y": [
          0,
          0.43103447556495667
         ],
         "z": [
          0,
          -0.32758620381355286
         ]
        },
        {
         "mode": "lines",
         "type": "scatter3d",
         "x": [
          0,
          1
         ],
         "y": [
          0,
          0.43103447556495667
         ],
         "z": [
          0,
          -0.2931034564971924
         ]
        },
        {
         "mode": "lines",
         "type": "scatter3d",
         "x": [
          0,
          1
         ],
         "y": [
          0,
          0.43103447556495667
         ],
         "z": [
          0,
          -0.2586206793785095
         ]
        },
        {
         "mode": "lines",
         "type": "scatter3d",
         "x": [
          0,
          1
         ],
         "y": [
          0,
          0.43103447556495667
         ],
         "z": [
          0,
          -0.22413793206214905
         ]
        },
        {
         "mode": "lines",
         "type": "scatter3d",
         "x": [
          0,
          1
         ],
         "y": [
          0,
          0.43103447556495667
         ],
         "z": [
          0,
          -0.18965516984462738
         ]
        },
        {
         "mode": "lines",
         "type": "scatter3d",
         "x": [
          0,
          1
         ],
         "y": [
          0,
          0.43103447556495667
         ],
         "z": [
          0,
          -0.1551724076271057
         ]
        },
        {
         "mode": "lines",
         "type": "scatter3d",
         "x": [
          0,
          1
         ],
         "y": [
          0,
          0.43103447556495667
         ],
         "z": [
          0,
          -0.12068966031074524
         ]
        },
        {
         "mode": "lines",
         "type": "scatter3d",
         "x": [
          0,
          1
         ],
         "y": [
          0,
          0.43103447556495667
         ],
         "z": [
          0,
          -0.08620689809322357
         ]
        },
        {
         "mode": "lines",
         "type": "scatter3d",
         "x": [
          0,
          1
         ],
         "y": [
          0,
          0.43103447556495667
         ],
         "z": [
          0,
          -0.0517241396009922
         ]
        },
        {
         "mode": "lines",
         "type": "scatter3d",
         "x": [
          0,
          1
         ],
         "y": [
          0,
          0.43103447556495667
         ],
         "z": [
          0,
          -0.017241381108760834
         ]
        },
        {
         "mode": "lines",
         "type": "scatter3d",
         "x": [
          0,
          1
         ],
         "y": [
          0,
          0.43103447556495667
         ],
         "z": [
          0,
          0.017241381108760834
         ]
        },
        {
         "mode": "lines",
         "type": "scatter3d",
         "x": [
          0,
          1
         ],
         "y": [
          0,
          0.43103447556495667
         ],
         "z": [
          0,
          0.0517241396009922
         ]
        },
        {
         "mode": "lines",
         "type": "scatter3d",
         "x": [
          0,
          1
         ],
         "y": [
          0,
          0.43103447556495667
         ],
         "z": [
          0,
          0.08620689809322357
         ]
        },
        {
         "mode": "lines",
         "type": "scatter3d",
         "x": [
          0,
          1
         ],
         "y": [
          0,
          0.43103447556495667
         ],
         "z": [
          0,
          0.12068966031074524
         ]
        },
        {
         "mode": "lines",
         "type": "scatter3d",
         "x": [
          0,
          1
         ],
         "y": [
          0,
          0.43103447556495667
         ],
         "z": [
          0,
          0.1551724076271057
         ]
        },
        {
         "mode": "lines",
         "type": "scatter3d",
         "x": [
          0,
          1
         ],
         "y": [
          0,
          0.43103447556495667
         ],
         "z": [
          0,
          0.18965516984462738
         ]
        },
        {
         "mode": "lines",
         "type": "scatter3d",
         "x": [
          0,
          1
         ],
         "y": [
          0,
          0.43103447556495667
         ],
         "z": [
          0,
          0.22413793206214905
         ]
        },
        {
         "mode": "lines",
         "type": "scatter3d",
         "x": [
          0,
          1
         ],
         "y": [
          0,
          0.43103447556495667
         ],
         "z": [
          0,
          0.2586206793785095
         ]
        },
        {
         "mode": "lines",
         "type": "scatter3d",
         "x": [
          0,
          1
         ],
         "y": [
          0,
          0.43103447556495667
         ],
         "z": [
          0,
          0.2931034564971924
         ]
        },
        {
         "mode": "lines",
         "type": "scatter3d",
         "x": [
          0,
          1
         ],
         "y": [
          0,
          0.43103447556495667
         ],
         "z": [
          0,
          0.32758620381355286
         ]
        },
        {
         "mode": "lines",
         "type": "scatter3d",
         "x": [
          0,
          1
         ],
         "y": [
          0,
          0.43103447556495667
         ],
         "z": [
          0,
          0.36206895112991333
         ]
        },
        {
         "mode": "lines",
         "type": "scatter3d",
         "x": [
          0,
          1
         ],
         "y": [
          0,
          0.43103447556495667
         ],
         "z": [
          0,
          0.3965517282485962
         ]
        },
        {
         "mode": "lines",
         "type": "scatter3d",
         "x": [
          0,
          1
         ],
         "y": [
          0,
          0.43103447556495667
         ],
         "z": [
          0,
          0.43103447556495667
         ]
        },
        {
         "mode": "lines",
         "type": "scatter3d",
         "x": [
          0,
          1
         ],
         "y": [
          0,
          0.43103447556495667
         ],
         "z": [
          0,
          0.4655172526836395
         ]
        },
        {
         "mode": "lines",
         "type": "scatter3d",
         "x": [
          0,
          1
         ],
         "y": [
          0,
          0.43103447556495667
         ],
         "z": [
          0,
          0.5
         ]
        },
        {
         "mode": "lines",
         "type": "scatter3d",
         "x": [
          0,
          1
         ],
         "y": [
          0,
          0.4655172526836395
         ],
         "z": [
          0,
          -0.5
         ]
        },
        {
         "mode": "lines",
         "type": "scatter3d",
         "x": [
          0,
          1
         ],
         "y": [
          0,
          0.4655172526836395
         ],
         "z": [
          0,
          -0.4655172526836395
         ]
        },
        {
         "mode": "lines",
         "type": "scatter3d",
         "x": [
          0,
          1
         ],
         "y": [
          0,
          0.4655172526836395
         ],
         "z": [
          0,
          -0.43103447556495667
         ]
        },
        {
         "mode": "lines",
         "type": "scatter3d",
         "x": [
          0,
          1
         ],
         "y": [
          0,
          0.4655172526836395
         ],
         "z": [
          0,
          -0.3965517282485962
         ]
        },
        {
         "mode": "lines",
         "type": "scatter3d",
         "x": [
          0,
          1
         ],
         "y": [
          0,
          0.4655172526836395
         ],
         "z": [
          0,
          -0.36206895112991333
         ]
        },
        {
         "mode": "lines",
         "type": "scatter3d",
         "x": [
          0,
          1
         ],
         "y": [
          0,
          0.4655172526836395
         ],
         "z": [
          0,
          -0.32758620381355286
         ]
        },
        {
         "mode": "lines",
         "type": "scatter3d",
         "x": [
          0,
          1
         ],
         "y": [
          0,
          0.4655172526836395
         ],
         "z": [
          0,
          -0.2931034564971924
         ]
        },
        {
         "mode": "lines",
         "type": "scatter3d",
         "x": [
          0,
          1
         ],
         "y": [
          0,
          0.4655172526836395
         ],
         "z": [
          0,
          -0.2586206793785095
         ]
        },
        {
         "mode": "lines",
         "type": "scatter3d",
         "x": [
          0,
          1
         ],
         "y": [
          0,
          0.4655172526836395
         ],
         "z": [
          0,
          -0.22413793206214905
         ]
        },
        {
         "mode": "lines",
         "type": "scatter3d",
         "x": [
          0,
          1
         ],
         "y": [
          0,
          0.4655172526836395
         ],
         "z": [
          0,
          -0.18965516984462738
         ]
        },
        {
         "mode": "lines",
         "type": "scatter3d",
         "x": [
          0,
          1
         ],
         "y": [
          0,
          0.4655172526836395
         ],
         "z": [
          0,
          -0.1551724076271057
         ]
        },
        {
         "mode": "lines",
         "type": "scatter3d",
         "x": [
          0,
          1
         ],
         "y": [
          0,
          0.4655172526836395
         ],
         "z": [
          0,
          -0.12068966031074524
         ]
        },
        {
         "mode": "lines",
         "type": "scatter3d",
         "x": [
          0,
          1
         ],
         "y": [
          0,
          0.4655172526836395
         ],
         "z": [
          0,
          -0.08620689809322357
         ]
        },
        {
         "mode": "lines",
         "type": "scatter3d",
         "x": [
          0,
          1
         ],
         "y": [
          0,
          0.4655172526836395
         ],
         "z": [
          0,
          -0.0517241396009922
         ]
        },
        {
         "mode": "lines",
         "type": "scatter3d",
         "x": [
          0,
          1
         ],
         "y": [
          0,
          0.4655172526836395
         ],
         "z": [
          0,
          -0.017241381108760834
         ]
        },
        {
         "mode": "lines",
         "type": "scatter3d",
         "x": [
          0,
          1
         ],
         "y": [
          0,
          0.4655172526836395
         ],
         "z": [
          0,
          0.017241381108760834
         ]
        },
        {
         "mode": "lines",
         "type": "scatter3d",
         "x": [
          0,
          1
         ],
         "y": [
          0,
          0.4655172526836395
         ],
         "z": [
          0,
          0.0517241396009922
         ]
        },
        {
         "mode": "lines",
         "type": "scatter3d",
         "x": [
          0,
          1
         ],
         "y": [
          0,
          0.4655172526836395
         ],
         "z": [
          0,
          0.08620689809322357
         ]
        },
        {
         "mode": "lines",
         "type": "scatter3d",
         "x": [
          0,
          1
         ],
         "y": [
          0,
          0.4655172526836395
         ],
         "z": [
          0,
          0.12068966031074524
         ]
        },
        {
         "mode": "lines",
         "type": "scatter3d",
         "x": [
          0,
          1
         ],
         "y": [
          0,
          0.4655172526836395
         ],
         "z": [
          0,
          0.1551724076271057
         ]
        },
        {
         "mode": "lines",
         "type": "scatter3d",
         "x": [
          0,
          1
         ],
         "y": [
          0,
          0.4655172526836395
         ],
         "z": [
          0,
          0.18965516984462738
         ]
        },
        {
         "mode": "lines",
         "type": "scatter3d",
         "x": [
          0,
          1
         ],
         "y": [
          0,
          0.4655172526836395
         ],
         "z": [
          0,
          0.22413793206214905
         ]
        },
        {
         "mode": "lines",
         "type": "scatter3d",
         "x": [
          0,
          1
         ],
         "y": [
          0,
          0.4655172526836395
         ],
         "z": [
          0,
          0.2586206793785095
         ]
        },
        {
         "mode": "lines",
         "type": "scatter3d",
         "x": [
          0,
          1
         ],
         "y": [
          0,
          0.4655172526836395
         ],
         "z": [
          0,
          0.2931034564971924
         ]
        },
        {
         "mode": "lines",
         "type": "scatter3d",
         "x": [
          0,
          1
         ],
         "y": [
          0,
          0.4655172526836395
         ],
         "z": [
          0,
          0.32758620381355286
         ]
        },
        {
         "mode": "lines",
         "type": "scatter3d",
         "x": [
          0,
          1
         ],
         "y": [
          0,
          0.4655172526836395
         ],
         "z": [
          0,
          0.36206895112991333
         ]
        },
        {
         "mode": "lines",
         "type": "scatter3d",
         "x": [
          0,
          1
         ],
         "y": [
          0,
          0.4655172526836395
         ],
         "z": [
          0,
          0.3965517282485962
         ]
        },
        {
         "mode": "lines",
         "type": "scatter3d",
         "x": [
          0,
          1
         ],
         "y": [
          0,
          0.4655172526836395
         ],
         "z": [
          0,
          0.43103447556495667
         ]
        },
        {
         "mode": "lines",
         "type": "scatter3d",
         "x": [
          0,
          1
         ],
         "y": [
          0,
          0.4655172526836395
         ],
         "z": [
          0,
          0.4655172526836395
         ]
        },
        {
         "mode": "lines",
         "type": "scatter3d",
         "x": [
          0,
          1
         ],
         "y": [
          0,
          0.4655172526836395
         ],
         "z": [
          0,
          0.5
         ]
        },
        {
         "mode": "lines",
         "type": "scatter3d",
         "x": [
          0,
          1
         ],
         "y": [
          0,
          0.5
         ],
         "z": [
          0,
          -0.5
         ]
        },
        {
         "mode": "lines",
         "type": "scatter3d",
         "x": [
          0,
          1
         ],
         "y": [
          0,
          0.5
         ],
         "z": [
          0,
          -0.4655172526836395
         ]
        },
        {
         "mode": "lines",
         "type": "scatter3d",
         "x": [
          0,
          1
         ],
         "y": [
          0,
          0.5
         ],
         "z": [
          0,
          -0.43103447556495667
         ]
        },
        {
         "mode": "lines",
         "type": "scatter3d",
         "x": [
          0,
          1
         ],
         "y": [
          0,
          0.5
         ],
         "z": [
          0,
          -0.3965517282485962
         ]
        },
        {
         "mode": "lines",
         "type": "scatter3d",
         "x": [
          0,
          1
         ],
         "y": [
          0,
          0.5
         ],
         "z": [
          0,
          -0.36206895112991333
         ]
        },
        {
         "mode": "lines",
         "type": "scatter3d",
         "x": [
          0,
          1
         ],
         "y": [
          0,
          0.5
         ],
         "z": [
          0,
          -0.32758620381355286
         ]
        },
        {
         "mode": "lines",
         "type": "scatter3d",
         "x": [
          0,
          1
         ],
         "y": [
          0,
          0.5
         ],
         "z": [
          0,
          -0.2931034564971924
         ]
        },
        {
         "mode": "lines",
         "type": "scatter3d",
         "x": [
          0,
          1
         ],
         "y": [
          0,
          0.5
         ],
         "z": [
          0,
          -0.2586206793785095
         ]
        },
        {
         "mode": "lines",
         "type": "scatter3d",
         "x": [
          0,
          1
         ],
         "y": [
          0,
          0.5
         ],
         "z": [
          0,
          -0.22413793206214905
         ]
        },
        {
         "mode": "lines",
         "type": "scatter3d",
         "x": [
          0,
          1
         ],
         "y": [
          0,
          0.5
         ],
         "z": [
          0,
          -0.18965516984462738
         ]
        },
        {
         "mode": "lines",
         "type": "scatter3d",
         "x": [
          0,
          1
         ],
         "y": [
          0,
          0.5
         ],
         "z": [
          0,
          -0.1551724076271057
         ]
        },
        {
         "mode": "lines",
         "type": "scatter3d",
         "x": [
          0,
          1
         ],
         "y": [
          0,
          0.5
         ],
         "z": [
          0,
          -0.12068966031074524
         ]
        },
        {
         "mode": "lines",
         "type": "scatter3d",
         "x": [
          0,
          1
         ],
         "y": [
          0,
          0.5
         ],
         "z": [
          0,
          -0.08620689809322357
         ]
        },
        {
         "mode": "lines",
         "type": "scatter3d",
         "x": [
          0,
          1
         ],
         "y": [
          0,
          0.5
         ],
         "z": [
          0,
          -0.0517241396009922
         ]
        },
        {
         "mode": "lines",
         "type": "scatter3d",
         "x": [
          0,
          1
         ],
         "y": [
          0,
          0.5
         ],
         "z": [
          0,
          -0.017241381108760834
         ]
        },
        {
         "mode": "lines",
         "type": "scatter3d",
         "x": [
          0,
          1
         ],
         "y": [
          0,
          0.5
         ],
         "z": [
          0,
          0.017241381108760834
         ]
        },
        {
         "mode": "lines",
         "type": "scatter3d",
         "x": [
          0,
          1
         ],
         "y": [
          0,
          0.5
         ],
         "z": [
          0,
          0.0517241396009922
         ]
        },
        {
         "mode": "lines",
         "type": "scatter3d",
         "x": [
          0,
          1
         ],
         "y": [
          0,
          0.5
         ],
         "z": [
          0,
          0.08620689809322357
         ]
        },
        {
         "mode": "lines",
         "type": "scatter3d",
         "x": [
          0,
          1
         ],
         "y": [
          0,
          0.5
         ],
         "z": [
          0,
          0.12068966031074524
         ]
        },
        {
         "mode": "lines",
         "type": "scatter3d",
         "x": [
          0,
          1
         ],
         "y": [
          0,
          0.5
         ],
         "z": [
          0,
          0.1551724076271057
         ]
        },
        {
         "mode": "lines",
         "type": "scatter3d",
         "x": [
          0,
          1
         ],
         "y": [
          0,
          0.5
         ],
         "z": [
          0,
          0.18965516984462738
         ]
        },
        {
         "mode": "lines",
         "type": "scatter3d",
         "x": [
          0,
          1
         ],
         "y": [
          0,
          0.5
         ],
         "z": [
          0,
          0.22413793206214905
         ]
        },
        {
         "mode": "lines",
         "type": "scatter3d",
         "x": [
          0,
          1
         ],
         "y": [
          0,
          0.5
         ],
         "z": [
          0,
          0.2586206793785095
         ]
        },
        {
         "mode": "lines",
         "type": "scatter3d",
         "x": [
          0,
          1
         ],
         "y": [
          0,
          0.5
         ],
         "z": [
          0,
          0.2931034564971924
         ]
        },
        {
         "mode": "lines",
         "type": "scatter3d",
         "x": [
          0,
          1
         ],
         "y": [
          0,
          0.5
         ],
         "z": [
          0,
          0.32758620381355286
         ]
        },
        {
         "mode": "lines",
         "type": "scatter3d",
         "x": [
          0,
          1
         ],
         "y": [
          0,
          0.5
         ],
         "z": [
          0,
          0.36206895112991333
         ]
        },
        {
         "mode": "lines",
         "type": "scatter3d",
         "x": [
          0,
          1
         ],
         "y": [
          0,
          0.5
         ],
         "z": [
          0,
          0.3965517282485962
         ]
        },
        {
         "mode": "lines",
         "type": "scatter3d",
         "x": [
          0,
          1
         ],
         "y": [
          0,
          0.5
         ],
         "z": [
          0,
          0.43103447556495667
         ]
        },
        {
         "mode": "lines",
         "type": "scatter3d",
         "x": [
          0,
          1
         ],
         "y": [
          0,
          0.5
         ],
         "z": [
          0,
          0.4655172526836395
         ]
        },
        {
         "mode": "lines",
         "type": "scatter3d",
         "x": [
          0,
          1
         ],
         "y": [
          0,
          0.5
         ],
         "z": [
          0,
          0.5
         ]
        },
        {
         "line": {
          "color": "black",
          "width": 5
         },
         "mode": "lines",
         "type": "scatter3d",
         "x": [
          1,
          1
         ],
         "y": [
          0,
          -0.5
         ],
         "z": [
          -0.5,
          0
         ]
        },
        {
         "line": {
          "color": "black",
          "width": 5
         },
         "mode": "lines",
         "type": "scatter3d",
         "x": [
          1,
          1
         ],
         "y": [
          0.5,
          0
         ],
         "z": [
          0.5,
          -0.5
         ]
        },
        {
         "line": {
          "color": "black",
          "width": 5
         },
         "mode": "lines",
         "type": "scatter3d",
         "x": [
          1,
          1
         ],
         "y": [
          -0.5,
          0.5
         ],
         "z": [
          0,
          0.5
         ]
        }
       ],
       "layout": {
        "height": 600,
        "showlegend": false,
        "template": {
         "data": {
          "bar": [
           {
            "error_x": {
             "color": "#2a3f5f"
            },
            "error_y": {
             "color": "#2a3f5f"
            },
            "marker": {
             "line": {
              "color": "#E5ECF6",
              "width": 0.5
             },
             "pattern": {
              "fillmode": "overlay",
              "size": 10,
              "solidity": 0.2
             }
            },
            "type": "bar"
           }
          ],
          "barpolar": [
           {
            "marker": {
             "line": {
              "color": "#E5ECF6",
              "width": 0.5
             },
             "pattern": {
              "fillmode": "overlay",
              "size": 10,
              "solidity": 0.2
             }
            },
            "type": "barpolar"
           }
          ],
          "carpet": [
           {
            "aaxis": {
             "endlinecolor": "#2a3f5f",
             "gridcolor": "white",
             "linecolor": "white",
             "minorgridcolor": "white",
             "startlinecolor": "#2a3f5f"
            },
            "baxis": {
             "endlinecolor": "#2a3f5f",
             "gridcolor": "white",
             "linecolor": "white",
             "minorgridcolor": "white",
             "startlinecolor": "#2a3f5f"
            },
            "type": "carpet"
           }
          ],
          "choropleth": [
           {
            "colorbar": {
             "outlinewidth": 0,
             "ticks": ""
            },
            "type": "choropleth"
           }
          ],
          "contour": [
           {
            "colorbar": {
             "outlinewidth": 0,
             "ticks": ""
            },
            "colorscale": [
             [
              0,
              "#0d0887"
             ],
             [
              0.1111111111111111,
              "#46039f"
             ],
             [
              0.2222222222222222,
              "#7201a8"
             ],
             [
              0.3333333333333333,
              "#9c179e"
             ],
             [
              0.4444444444444444,
              "#bd3786"
             ],
             [
              0.5555555555555556,
              "#d8576b"
             ],
             [
              0.6666666666666666,
              "#ed7953"
             ],
             [
              0.7777777777777778,
              "#fb9f3a"
             ],
             [
              0.8888888888888888,
              "#fdca26"
             ],
             [
              1,
              "#f0f921"
             ]
            ],
            "type": "contour"
           }
          ],
          "contourcarpet": [
           {
            "colorbar": {
             "outlinewidth": 0,
             "ticks": ""
            },
            "type": "contourcarpet"
           }
          ],
          "heatmap": [
           {
            "colorbar": {
             "outlinewidth": 0,
             "ticks": ""
            },
            "colorscale": [
             [
              0,
              "#0d0887"
             ],
             [
              0.1111111111111111,
              "#46039f"
             ],
             [
              0.2222222222222222,
              "#7201a8"
             ],
             [
              0.3333333333333333,
              "#9c179e"
             ],
             [
              0.4444444444444444,
              "#bd3786"
             ],
             [
              0.5555555555555556,
              "#d8576b"
             ],
             [
              0.6666666666666666,
              "#ed7953"
             ],
             [
              0.7777777777777778,
              "#fb9f3a"
             ],
             [
              0.8888888888888888,
              "#fdca26"
             ],
             [
              1,
              "#f0f921"
             ]
            ],
            "type": "heatmap"
           }
          ],
          "heatmapgl": [
           {
            "colorbar": {
             "outlinewidth": 0,
             "ticks": ""
            },
            "colorscale": [
             [
              0,
              "#0d0887"
             ],
             [
              0.1111111111111111,
              "#46039f"
             ],
             [
              0.2222222222222222,
              "#7201a8"
             ],
             [
              0.3333333333333333,
              "#9c179e"
             ],
             [
              0.4444444444444444,
              "#bd3786"
             ],
             [
              0.5555555555555556,
              "#d8576b"
             ],
             [
              0.6666666666666666,
              "#ed7953"
             ],
             [
              0.7777777777777778,
              "#fb9f3a"
             ],
             [
              0.8888888888888888,
              "#fdca26"
             ],
             [
              1,
              "#f0f921"
             ]
            ],
            "type": "heatmapgl"
           }
          ],
          "histogram": [
           {
            "marker": {
             "pattern": {
              "fillmode": "overlay",
              "size": 10,
              "solidity": 0.2
             }
            },
            "type": "histogram"
           }
          ],
          "histogram2d": [
           {
            "colorbar": {
             "outlinewidth": 0,
             "ticks": ""
            },
            "colorscale": [
             [
              0,
              "#0d0887"
             ],
             [
              0.1111111111111111,
              "#46039f"
             ],
             [
              0.2222222222222222,
              "#7201a8"
             ],
             [
              0.3333333333333333,
              "#9c179e"
             ],
             [
              0.4444444444444444,
              "#bd3786"
             ],
             [
              0.5555555555555556,
              "#d8576b"
             ],
             [
              0.6666666666666666,
              "#ed7953"
             ],
             [
              0.7777777777777778,
              "#fb9f3a"
             ],
             [
              0.8888888888888888,
              "#fdca26"
             ],
             [
              1,
              "#f0f921"
             ]
            ],
            "type": "histogram2d"
           }
          ],
          "histogram2dcontour": [
           {
            "colorbar": {
             "outlinewidth": 0,
             "ticks": ""
            },
            "colorscale": [
             [
              0,
              "#0d0887"
             ],
             [
              0.1111111111111111,
              "#46039f"
             ],
             [
              0.2222222222222222,
              "#7201a8"
             ],
             [
              0.3333333333333333,
              "#9c179e"
             ],
             [
              0.4444444444444444,
              "#bd3786"
             ],
             [
              0.5555555555555556,
              "#d8576b"
             ],
             [
              0.6666666666666666,
              "#ed7953"
             ],
             [
              0.7777777777777778,
              "#fb9f3a"
             ],
             [
              0.8888888888888888,
              "#fdca26"
             ],
             [
              1,
              "#f0f921"
             ]
            ],
            "type": "histogram2dcontour"
           }
          ],
          "mesh3d": [
           {
            "colorbar": {
             "outlinewidth": 0,
             "ticks": ""
            },
            "type": "mesh3d"
           }
          ],
          "parcoords": [
           {
            "line": {
             "colorbar": {
              "outlinewidth": 0,
              "ticks": ""
             }
            },
            "type": "parcoords"
           }
          ],
          "pie": [
           {
            "automargin": true,
            "type": "pie"
           }
          ],
          "scatter": [
           {
            "fillpattern": {
             "fillmode": "overlay",
             "size": 10,
             "solidity": 0.2
            },
            "type": "scatter"
           }
          ],
          "scatter3d": [
           {
            "line": {
             "colorbar": {
              "outlinewidth": 0,
              "ticks": ""
             }
            },
            "marker": {
             "colorbar": {
              "outlinewidth": 0,
              "ticks": ""
             }
            },
            "type": "scatter3d"
           }
          ],
          "scattercarpet": [
           {
            "marker": {
             "colorbar": {
              "outlinewidth": 0,
              "ticks": ""
             }
            },
            "type": "scattercarpet"
           }
          ],
          "scattergeo": [
           {
            "marker": {
             "colorbar": {
              "outlinewidth": 0,
              "ticks": ""
             }
            },
            "type": "scattergeo"
           }
          ],
          "scattergl": [
           {
            "marker": {
             "colorbar": {
              "outlinewidth": 0,
              "ticks": ""
             }
            },
            "type": "scattergl"
           }
          ],
          "scattermapbox": [
           {
            "marker": {
             "colorbar": {
              "outlinewidth": 0,
              "ticks": ""
             }
            },
            "type": "scattermapbox"
           }
          ],
          "scatterpolar": [
           {
            "marker": {
             "colorbar": {
              "outlinewidth": 0,
              "ticks": ""
             }
            },
            "type": "scatterpolar"
           }
          ],
          "scatterpolargl": [
           {
            "marker": {
             "colorbar": {
              "outlinewidth": 0,
              "ticks": ""
             }
            },
            "type": "scatterpolargl"
           }
          ],
          "scatterternary": [
           {
            "marker": {
             "colorbar": {
              "outlinewidth": 0,
              "ticks": ""
             }
            },
            "type": "scatterternary"
           }
          ],
          "surface": [
           {
            "colorbar": {
             "outlinewidth": 0,
             "ticks": ""
            },
            "colorscale": [
             [
              0,
              "#0d0887"
             ],
             [
              0.1111111111111111,
              "#46039f"
             ],
             [
              0.2222222222222222,
              "#7201a8"
             ],
             [
              0.3333333333333333,
              "#9c179e"
             ],
             [
              0.4444444444444444,
              "#bd3786"
             ],
             [
              0.5555555555555556,
              "#d8576b"
             ],
             [
              0.6666666666666666,
              "#ed7953"
             ],
             [
              0.7777777777777778,
              "#fb9f3a"
             ],
             [
              0.8888888888888888,
              "#fdca26"
             ],
             [
              1,
              "#f0f921"
             ]
            ],
            "type": "surface"
           }
          ],
          "table": [
           {
            "cells": {
             "fill": {
              "color": "#EBF0F8"
             },
             "line": {
              "color": "white"
             }
            },
            "header": {
             "fill": {
              "color": "#C8D4E3"
             },
             "line": {
              "color": "white"
             }
            },
            "type": "table"
           }
          ]
         },
         "layout": {
          "annotationdefaults": {
           "arrowcolor": "#2a3f5f",
           "arrowhead": 0,
           "arrowwidth": 1
          },
          "autotypenumbers": "strict",
          "coloraxis": {
           "colorbar": {
            "outlinewidth": 0,
            "ticks": ""
           }
          },
          "colorscale": {
           "diverging": [
            [
             0,
             "#8e0152"
            ],
            [
             0.1,
             "#c51b7d"
            ],
            [
             0.2,
             "#de77ae"
            ],
            [
             0.3,
             "#f1b6da"
            ],
            [
             0.4,
             "#fde0ef"
            ],
            [
             0.5,
             "#f7f7f7"
            ],
            [
             0.6,
             "#e6f5d0"
            ],
            [
             0.7,
             "#b8e186"
            ],
            [
             0.8,
             "#7fbc41"
            ],
            [
             0.9,
             "#4d9221"
            ],
            [
             1,
             "#276419"
            ]
           ],
           "sequential": [
            [
             0,
             "#0d0887"
            ],
            [
             0.1111111111111111,
             "#46039f"
            ],
            [
             0.2222222222222222,
             "#7201a8"
            ],
            [
             0.3333333333333333,
             "#9c179e"
            ],
            [
             0.4444444444444444,
             "#bd3786"
            ],
            [
             0.5555555555555556,
             "#d8576b"
            ],
            [
             0.6666666666666666,
             "#ed7953"
            ],
            [
             0.7777777777777778,
             "#fb9f3a"
            ],
            [
             0.8888888888888888,
             "#fdca26"
            ],
            [
             1,
             "#f0f921"
            ]
           ],
           "sequentialminus": [
            [
             0,
             "#0d0887"
            ],
            [
             0.1111111111111111,
             "#46039f"
            ],
            [
             0.2222222222222222,
             "#7201a8"
            ],
            [
             0.3333333333333333,
             "#9c179e"
            ],
            [
             0.4444444444444444,
             "#bd3786"
            ],
            [
             0.5555555555555556,
             "#d8576b"
            ],
            [
             0.6666666666666666,
             "#ed7953"
            ],
            [
             0.7777777777777778,
             "#fb9f3a"
            ],
            [
             0.8888888888888888,
             "#fdca26"
            ],
            [
             1,
             "#f0f921"
            ]
           ]
          },
          "colorway": [
           "#636efa",
           "#EF553B",
           "#00cc96",
           "#ab63fa",
           "#FFA15A",
           "#19d3f3",
           "#FF6692",
           "#B6E880",
           "#FF97FF",
           "#FECB52"
          ],
          "font": {
           "color": "#2a3f5f"
          },
          "geo": {
           "bgcolor": "white",
           "lakecolor": "white",
           "landcolor": "#E5ECF6",
           "showlakes": true,
           "showland": true,
           "subunitcolor": "white"
          },
          "hoverlabel": {
           "align": "left"
          },
          "hovermode": "closest",
          "mapbox": {
           "style": "light"
          },
          "paper_bgcolor": "white",
          "plot_bgcolor": "#E5ECF6",
          "polar": {
           "angularaxis": {
            "gridcolor": "white",
            "linecolor": "white",
            "ticks": ""
           },
           "bgcolor": "#E5ECF6",
           "radialaxis": {
            "gridcolor": "white",
            "linecolor": "white",
            "ticks": ""
           }
          },
          "scene": {
           "xaxis": {
            "backgroundcolor": "#E5ECF6",
            "gridcolor": "white",
            "gridwidth": 2,
            "linecolor": "white",
            "showbackground": true,
            "ticks": "",
            "zerolinecolor": "white"
           },
           "yaxis": {
            "backgroundcolor": "#E5ECF6",
            "gridcolor": "white",
            "gridwidth": 2,
            "linecolor": "white",
            "showbackground": true,
            "ticks": "",
            "zerolinecolor": "white"
           },
           "zaxis": {
            "backgroundcolor": "#E5ECF6",
            "gridcolor": "white",
            "gridwidth": 2,
            "linecolor": "white",
            "showbackground": true,
            "ticks": "",
            "zerolinecolor": "white"
           }
          },
          "shapedefaults": {
           "line": {
            "color": "#2a3f5f"
           }
          },
          "ternary": {
           "aaxis": {
            "gridcolor": "white",
            "linecolor": "white",
            "ticks": ""
           },
           "baxis": {
            "gridcolor": "white",
            "linecolor": "white",
            "ticks": ""
           },
           "bgcolor": "#E5ECF6",
           "caxis": {
            "gridcolor": "white",
            "linecolor": "white",
            "ticks": ""
           }
          },
          "title": {
           "x": 0.05
          },
          "xaxis": {
           "automargin": true,
           "gridcolor": "white",
           "linecolor": "white",
           "ticks": "",
           "title": {
            "standoff": 15
           },
           "zerolinecolor": "white",
           "zerolinewidth": 2
          },
          "yaxis": {
           "automargin": true,
           "gridcolor": "white",
           "linecolor": "white",
           "ticks": "",
           "title": {
            "standoff": 15
           },
           "zerolinecolor": "white",
           "zerolinewidth": 2
          }
         }
        },
        "title": {
         "text": "3D rays"
        },
        "width": 600
       }
      }
     },
     "metadata": {},
     "output_type": "display_data"
    },
    {
     "data": {
      "application/vnd.plotly.v1+json": {
       "config": {
        "plotlyServerURL": "https://plot.ly"
       },
       "data": [
        {
         "coloraxis": "coloraxis",
         "hovertemplate": "x: %{x}<br>y: %{y}<br>color: %{z}<extra></extra>",
         "name": "0",
         "type": "heatmap",
         "xaxis": "x",
         "yaxis": "y",
         "z": [
          [
           0,
           0,
           0,
           0,
           0,
           0,
           0,
           0,
           0,
           0,
           0,
           0,
           0,
           0,
           0,
           0,
           0,
           0,
           0,
           0,
           0,
           0,
           0,
           0,
           0,
           0,
           0,
           0,
           0,
           0
          ],
          [
           0,
           0,
           0,
           0,
           0,
           0,
           0,
           0,
           0,
           0,
           0,
           0,
           0,
           0,
           1,
           1,
           0,
           0,
           0,
           0,
           0,
           0,
           0,
           0,
           0,
           0,
           0,
           0,
           0,
           0
          ],
          [
           0,
           0,
           0,
           0,
           0,
           0,
           0,
           0,
           0,
           0,
           0,
           0,
           0,
           1,
           1,
           1,
           0,
           0,
           0,
           0,
           0,
           0,
           0,
           0,
           0,
           0,
           0,
           0,
           0,
           0
          ],
          [
           0,
           0,
           0,
           0,
           0,
           0,
           0,
           0,
           0,
           0,
           0,
           0,
           1,
           1,
           1,
           1,
           1,
           0,
           0,
           0,
           0,
           0,
           0,
           0,
           0,
           0,
           0,
           0,
           0,
           0
          ],
          [
           0,
           0,
           0,
           0,
           0,
           0,
           0,
           0,
           0,
           0,
           0,
           1,
           1,
           1,
           1,
           1,
           1,
           0,
           0,
           0,
           0,
           0,
           0,
           0,
           0,
           0,
           0,
           0,
           0,
           0
          ],
          [
           0,
           0,
           0,
           0,
           0,
           0,
           0,
           0,
           0,
           0,
           1,
           1,
           1,
           1,
           1,
           1,
           1,
           1,
           0,
           0,
           0,
           0,
           0,
           0,
           0,
           0,
           0,
           0,
           0,
           0
          ],
          [
           0,
           0,
           0,
           0,
           0,
           0,
           0,
           0,
           0,
           1,
           1,
           1,
           1,
           1,
           1,
           1,
           1,
           1,
           0,
           0,
           0,
           0,
           0,
           0,
           0,
           0,
           0,
           0,
           0,
           0
          ],
          [
           0,
           0,
           0,
           0,
           0,
           0,
           0,
           0,
           1,
           1,
           1,
           1,
           1,
           1,
           1,
           1,
           1,
           1,
           1,
           0,
           0,
           0,
           0,
           0,
           0,
           0,
           0,
           0,
           0,
           0
          ],
          [
           0,
           0,
           0,
           0,
           0,
           0,
           0,
           1,
           1,
           1,
           1,
           1,
           1,
           1,
           1,
           1,
           1,
           1,
           1,
           0,
           0,
           0,
           0,
           0,
           0,
           0,
           0,
           0,
           0,
           0
          ],
          [
           0,
           0,
           0,
           0,
           0,
           0,
           1,
           1,
           1,
           1,
           1,
           1,
           1,
           1,
           1,
           1,
           1,
           1,
           1,
           1,
           0,
           0,
           0,
           0,
           0,
           0,
           0,
           0,
           0,
           0
          ],
          [
           0,
           0,
           0,
           0,
           0,
           1,
           1,
           1,
           1,
           1,
           1,
           1,
           1,
           1,
           1,
           1,
           1,
           1,
           1,
           1,
           0,
           0,
           0,
           0,
           0,
           0,
           0,
           0,
           0,
           0
          ],
          [
           0,
           0,
           0,
           0,
           1,
           1,
           1,
           1,
           1,
           1,
           1,
           1,
           1,
           1,
           1,
           1,
           1,
           1,
           1,
           1,
           1,
           0,
           0,
           0,
           0,
           0,
           0,
           0,
           0,
           0
          ],
          [
           0,
           0,
           0,
           1,
           1,
           1,
           1,
           1,
           1,
           1,
           1,
           1,
           1,
           1,
           1,
           1,
           1,
           1,
           1,
           1,
           1,
           0,
           0,
           0,
           0,
           0,
           0,
           0,
           0,
           0
          ],
          [
           0,
           0,
           1,
           1,
           1,
           1,
           1,
           1,
           1,
           1,
           1,
           1,
           1,
           1,
           1,
           1,
           1,
           1,
           1,
           1,
           1,
           0,
           0,
           0,
           0,
           0,
           0,
           0,
           0,
           0
          ],
          [
           0,
           1,
           1,
           1,
           1,
           1,
           1,
           1,
           1,
           1,
           1,
           1,
           1,
           1,
           1,
           1,
           1,
           1,
           1,
           1,
           1,
           1,
           0,
           0,
           0,
           0,
           0,
           0,
           0,
           0
          ],
          [
           0,
           0,
           1,
           1,
           1,
           1,
           1,
           1,
           1,
           1,
           1,
           1,
           1,
           1,
           1,
           1,
           1,
           1,
           1,
           1,
           1,
           1,
           1,
           0,
           0,
           0,
           0,
           0,
           0,
           0
          ],
          [
           0,
           0,
           0,
           0,
           1,
           1,
           1,
           1,
           1,
           1,
           1,
           1,
           1,
           1,
           1,
           1,
           1,
           1,
           1,
           1,
           1,
           1,
           1,
           0,
           0,
           0,
           0,
           0,
           0,
           0
          ],
          [
           0,
           0,
           0,
           0,
           0,
           1,
           1,
           1,
           1,
           1,
           1,
           1,
           1,
           1,
           1,
           1,
           1,
           1,
           1,
           1,
           1,
           1,
           1,
           1,
           0,
           0,
           0,
           0,
           0,
           0
          ],
          [
           0,
           0,
           0,
           0,
           0,
           0,
           0,
           1,
           1,
           1,
           1,
           1,
           1,
           1,
           1,
           1,
           1,
           1,
           1,
           1,
           1,
           1,
           1,
           1,
           0,
           0,
           0,
           0,
           0,
           0
          ],
          [
           0,
           0,
           0,
           0,
           0,
           0,
           0,
           0,
           0,
           1,
           1,
           1,
           1,
           1,
           1,
           1,
           1,
           1,
           1,
           1,
           1,
           1,
           1,
           1,
           0,
           0,
           0,
           0,
           0,
           0
          ],
          [
           0,
           0,
           0,
           0,
           0,
           0,
           0,
           0,
           0,
           0,
           0,
           1,
           1,
           1,
           1,
           1,
           1,
           1,
           1,
           1,
           1,
           1,
           1,
           1,
           1,
           0,
           0,
           0,
           0,
           0
          ],
          [
           0,
           0,
           0,
           0,
           0,
           0,
           0,
           0,
           0,
           0,
           0,
           0,
           0,
           1,
           1,
           1,
           1,
           1,
           1,
           1,
           1,
           1,
           1,
           1,
           1,
           1,
           0,
           0,
           0,
           0
          ],
          [
           0,
           0,
           0,
           0,
           0,
           0,
           0,
           0,
           0,
           0,
           0,
           0,
           0,
           0,
           0,
           1,
           1,
           1,
           1,
           1,
           1,
           1,
           1,
           1,
           1,
           1,
           0,
           0,
           0,
           0
          ],
          [
           0,
           0,
           0,
           0,
           0,
           0,
           0,
           0,
           0,
           0,
           0,
           0,
           0,
           0,
           0,
           0,
           0,
           1,
           1,
           1,
           1,
           1,
           1,
           1,
           1,
           1,
           1,
           0,
           0,
           0
          ],
          [
           0,
           0,
           0,
           0,
           0,
           0,
           0,
           0,
           0,
           0,
           0,
           0,
           0,
           0,
           0,
           0,
           0,
           0,
           0,
           1,
           1,
           1,
           1,
           1,
           1,
           1,
           1,
           0,
           0,
           0
          ],
          [
           0,
           0,
           0,
           0,
           0,
           0,
           0,
           0,
           0,
           0,
           0,
           0,
           0,
           0,
           0,
           0,
           0,
           0,
           0,
           0,
           0,
           1,
           1,
           1,
           1,
           1,
           1,
           0,
           0,
           0
          ],
          [
           0,
           0,
           0,
           0,
           0,
           0,
           0,
           0,
           0,
           0,
           0,
           0,
           0,
           0,
           0,
           0,
           0,
           0,
           0,
           0,
           0,
           0,
           0,
           1,
           1,
           1,
           1,
           1,
           0,
           0
          ],
          [
           0,
           0,
           0,
           0,
           0,
           0,
           0,
           0,
           0,
           0,
           0,
           0,
           0,
           0,
           0,
           0,
           0,
           0,
           0,
           0,
           0,
           0,
           0,
           0,
           0,
           1,
           1,
           1,
           1,
           0
          ],
          [
           0,
           0,
           0,
           0,
           0,
           0,
           0,
           0,
           0,
           0,
           0,
           0,
           0,
           0,
           0,
           0,
           0,
           0,
           0,
           0,
           0,
           0,
           0,
           0,
           0,
           0,
           0,
           1,
           1,
           0
          ],
          [
           0,
           0,
           0,
           0,
           0,
           0,
           0,
           0,
           0,
           0,
           0,
           0,
           0,
           0,
           0,
           0,
           0,
           0,
           0,
           0,
           0,
           0,
           0,
           0,
           0,
           0,
           0,
           0,
           0,
           1
          ]
         ]
        }
       ],
       "layout": {
        "coloraxis": {
         "cmid": 0,
         "colorscale": [
          [
           0,
           "rgb(103,0,31)"
          ],
          [
           0.1,
           "rgb(178,24,43)"
          ],
          [
           0.2,
           "rgb(214,96,77)"
          ],
          [
           0.3,
           "rgb(244,165,130)"
          ],
          [
           0.4,
           "rgb(253,219,199)"
          ],
          [
           0.5,
           "rgb(247,247,247)"
          ],
          [
           0.6,
           "rgb(209,229,240)"
          ],
          [
           0.7,
           "rgb(146,197,222)"
          ],
          [
           0.8,
           "rgb(67,147,195)"
          ],
          [
           0.9,
           "rgb(33,102,172)"
          ],
          [
           1,
           "rgb(5,48,97)"
          ]
         ]
        },
        "template": {
         "data": {
          "bar": [
           {
            "error_x": {
             "color": "#2a3f5f"
            },
            "error_y": {
             "color": "#2a3f5f"
            },
            "marker": {
             "line": {
              "color": "#E5ECF6",
              "width": 0.5
             },
             "pattern": {
              "fillmode": "overlay",
              "size": 10,
              "solidity": 0.2
             }
            },
            "type": "bar"
           }
          ],
          "barpolar": [
           {
            "marker": {
             "line": {
              "color": "#E5ECF6",
              "width": 0.5
             },
             "pattern": {
              "fillmode": "overlay",
              "size": 10,
              "solidity": 0.2
             }
            },
            "type": "barpolar"
           }
          ],
          "carpet": [
           {
            "aaxis": {
             "endlinecolor": "#2a3f5f",
             "gridcolor": "white",
             "linecolor": "white",
             "minorgridcolor": "white",
             "startlinecolor": "#2a3f5f"
            },
            "baxis": {
             "endlinecolor": "#2a3f5f",
             "gridcolor": "white",
             "linecolor": "white",
             "minorgridcolor": "white",
             "startlinecolor": "#2a3f5f"
            },
            "type": "carpet"
           }
          ],
          "choropleth": [
           {
            "colorbar": {
             "outlinewidth": 0,
             "ticks": ""
            },
            "type": "choropleth"
           }
          ],
          "contour": [
           {
            "colorbar": {
             "outlinewidth": 0,
             "ticks": ""
            },
            "colorscale": [
             [
              0,
              "#0d0887"
             ],
             [
              0.1111111111111111,
              "#46039f"
             ],
             [
              0.2222222222222222,
              "#7201a8"
             ],
             [
              0.3333333333333333,
              "#9c179e"
             ],
             [
              0.4444444444444444,
              "#bd3786"
             ],
             [
              0.5555555555555556,
              "#d8576b"
             ],
             [
              0.6666666666666666,
              "#ed7953"
             ],
             [
              0.7777777777777778,
              "#fb9f3a"
             ],
             [
              0.8888888888888888,
              "#fdca26"
             ],
             [
              1,
              "#f0f921"
             ]
            ],
            "type": "contour"
           }
          ],
          "contourcarpet": [
           {
            "colorbar": {
             "outlinewidth": 0,
             "ticks": ""
            },
            "type": "contourcarpet"
           }
          ],
          "heatmap": [
           {
            "colorbar": {
             "outlinewidth": 0,
             "ticks": ""
            },
            "colorscale": [
             [
              0,
              "#0d0887"
             ],
             [
              0.1111111111111111,
              "#46039f"
             ],
             [
              0.2222222222222222,
              "#7201a8"
             ],
             [
              0.3333333333333333,
              "#9c179e"
             ],
             [
              0.4444444444444444,
              "#bd3786"
             ],
             [
              0.5555555555555556,
              "#d8576b"
             ],
             [
              0.6666666666666666,
              "#ed7953"
             ],
             [
              0.7777777777777778,
              "#fb9f3a"
             ],
             [
              0.8888888888888888,
              "#fdca26"
             ],
             [
              1,
              "#f0f921"
             ]
            ],
            "type": "heatmap"
           }
          ],
          "heatmapgl": [
           {
            "colorbar": {
             "outlinewidth": 0,
             "ticks": ""
            },
            "colorscale": [
             [
              0,
              "#0d0887"
             ],
             [
              0.1111111111111111,
              "#46039f"
             ],
             [
              0.2222222222222222,
              "#7201a8"
             ],
             [
              0.3333333333333333,
              "#9c179e"
             ],
             [
              0.4444444444444444,
              "#bd3786"
             ],
             [
              0.5555555555555556,
              "#d8576b"
             ],
             [
              0.6666666666666666,
              "#ed7953"
             ],
             [
              0.7777777777777778,
              "#fb9f3a"
             ],
             [
              0.8888888888888888,
              "#fdca26"
             ],
             [
              1,
              "#f0f921"
             ]
            ],
            "type": "heatmapgl"
           }
          ],
          "histogram": [
           {
            "marker": {
             "pattern": {
              "fillmode": "overlay",
              "size": 10,
              "solidity": 0.2
             }
            },
            "type": "histogram"
           }
          ],
          "histogram2d": [
           {
            "colorbar": {
             "outlinewidth": 0,
             "ticks": ""
            },
            "colorscale": [
             [
              0,
              "#0d0887"
             ],
             [
              0.1111111111111111,
              "#46039f"
             ],
             [
              0.2222222222222222,
              "#7201a8"
             ],
             [
              0.3333333333333333,
              "#9c179e"
             ],
             [
              0.4444444444444444,
              "#bd3786"
             ],
             [
              0.5555555555555556,
              "#d8576b"
             ],
             [
              0.6666666666666666,
              "#ed7953"
             ],
             [
              0.7777777777777778,
              "#fb9f3a"
             ],
             [
              0.8888888888888888,
              "#fdca26"
             ],
             [
              1,
              "#f0f921"
             ]
            ],
            "type": "histogram2d"
           }
          ],
          "histogram2dcontour": [
           {
            "colorbar": {
             "outlinewidth": 0,
             "ticks": ""
            },
            "colorscale": [
             [
              0,
              "#0d0887"
             ],
             [
              0.1111111111111111,
              "#46039f"
             ],
             [
              0.2222222222222222,
              "#7201a8"
             ],
             [
              0.3333333333333333,
              "#9c179e"
             ],
             [
              0.4444444444444444,
              "#bd3786"
             ],
             [
              0.5555555555555556,
              "#d8576b"
             ],
             [
              0.6666666666666666,
              "#ed7953"
             ],
             [
              0.7777777777777778,
              "#fb9f3a"
             ],
             [
              0.8888888888888888,
              "#fdca26"
             ],
             [
              1,
              "#f0f921"
             ]
            ],
            "type": "histogram2dcontour"
           }
          ],
          "mesh3d": [
           {
            "colorbar": {
             "outlinewidth": 0,
             "ticks": ""
            },
            "type": "mesh3d"
           }
          ],
          "parcoords": [
           {
            "line": {
             "colorbar": {
              "outlinewidth": 0,
              "ticks": ""
             }
            },
            "type": "parcoords"
           }
          ],
          "pie": [
           {
            "automargin": true,
            "type": "pie"
           }
          ],
          "scatter": [
           {
            "fillpattern": {
             "fillmode": "overlay",
             "size": 10,
             "solidity": 0.2
            },
            "type": "scatter"
           }
          ],
          "scatter3d": [
           {
            "line": {
             "colorbar": {
              "outlinewidth": 0,
              "ticks": ""
             }
            },
            "marker": {
             "colorbar": {
              "outlinewidth": 0,
              "ticks": ""
             }
            },
            "type": "scatter3d"
           }
          ],
          "scattercarpet": [
           {
            "marker": {
             "colorbar": {
              "outlinewidth": 0,
              "ticks": ""
             }
            },
            "type": "scattercarpet"
           }
          ],
          "scattergeo": [
           {
            "marker": {
             "colorbar": {
              "outlinewidth": 0,
              "ticks": ""
             }
            },
            "type": "scattergeo"
           }
          ],
          "scattergl": [
           {
            "marker": {
             "colorbar": {
              "outlinewidth": 0,
              "ticks": ""
             }
            },
            "type": "scattergl"
           }
          ],
          "scattermapbox": [
           {
            "marker": {
             "colorbar": {
              "outlinewidth": 0,
              "ticks": ""
             }
            },
            "type": "scattermapbox"
           }
          ],
          "scatterpolar": [
           {
            "marker": {
             "colorbar": {
              "outlinewidth": 0,
              "ticks": ""
             }
            },
            "type": "scatterpolar"
           }
          ],
          "scatterpolargl": [
           {
            "marker": {
             "colorbar": {
              "outlinewidth": 0,
              "ticks": ""
             }
            },
            "type": "scatterpolargl"
           }
          ],
          "scatterternary": [
           {
            "marker": {
             "colorbar": {
              "outlinewidth": 0,
              "ticks": ""
             }
            },
            "type": "scatterternary"
           }
          ],
          "surface": [
           {
            "colorbar": {
             "outlinewidth": 0,
             "ticks": ""
            },
            "colorscale": [
             [
              0,
              "#0d0887"
             ],
             [
              0.1111111111111111,
              "#46039f"
             ],
             [
              0.2222222222222222,
              "#7201a8"
             ],
             [
              0.3333333333333333,
              "#9c179e"
             ],
             [
              0.4444444444444444,
              "#bd3786"
             ],
             [
              0.5555555555555556,
              "#d8576b"
             ],
             [
              0.6666666666666666,
              "#ed7953"
             ],
             [
              0.7777777777777778,
              "#fb9f3a"
             ],
             [
              0.8888888888888888,
              "#fdca26"
             ],
             [
              1,
              "#f0f921"
             ]
            ],
            "type": "surface"
           }
          ],
          "table": [
           {
            "cells": {
             "fill": {
              "color": "#EBF0F8"
             },
             "line": {
              "color": "white"
             }
            },
            "header": {
             "fill": {
              "color": "#C8D4E3"
             },
             "line": {
              "color": "white"
             }
            },
            "type": "table"
           }
          ]
         },
         "layout": {
          "annotationdefaults": {
           "arrowcolor": "#2a3f5f",
           "arrowhead": 0,
           "arrowwidth": 1
          },
          "autotypenumbers": "strict",
          "coloraxis": {
           "colorbar": {
            "outlinewidth": 0,
            "ticks": ""
           }
          },
          "colorscale": {
           "diverging": [
            [
             0,
             "#8e0152"
            ],
            [
             0.1,
             "#c51b7d"
            ],
            [
             0.2,
             "#de77ae"
            ],
            [
             0.3,
             "#f1b6da"
            ],
            [
             0.4,
             "#fde0ef"
            ],
            [
             0.5,
             "#f7f7f7"
            ],
            [
             0.6,
             "#e6f5d0"
            ],
            [
             0.7,
             "#b8e186"
            ],
            [
             0.8,
             "#7fbc41"
            ],
            [
             0.9,
             "#4d9221"
            ],
            [
             1,
             "#276419"
            ]
           ],
           "sequential": [
            [
             0,
             "#0d0887"
            ],
            [
             0.1111111111111111,
             "#46039f"
            ],
            [
             0.2222222222222222,
             "#7201a8"
            ],
            [
             0.3333333333333333,
             "#9c179e"
            ],
            [
             0.4444444444444444,
             "#bd3786"
            ],
            [
             0.5555555555555556,
             "#d8576b"
            ],
            [
             0.6666666666666666,
             "#ed7953"
            ],
            [
             0.7777777777777778,
             "#fb9f3a"
            ],
            [
             0.8888888888888888,
             "#fdca26"
            ],
            [
             1,
             "#f0f921"
            ]
           ],
           "sequentialminus": [
            [
             0,
             "#0d0887"
            ],
            [
             0.1111111111111111,
             "#46039f"
            ],
            [
             0.2222222222222222,
             "#7201a8"
            ],
            [
             0.3333333333333333,
             "#9c179e"
            ],
            [
             0.4444444444444444,
             "#bd3786"
            ],
            [
             0.5555555555555556,
             "#d8576b"
            ],
            [
             0.6666666666666666,
             "#ed7953"
            ],
            [
             0.7777777777777778,
             "#fb9f3a"
            ],
            [
             0.8888888888888888,
             "#fdca26"
            ],
            [
             1,
             "#f0f921"
            ]
           ]
          },
          "colorway": [
           "#636efa",
           "#EF553B",
           "#00cc96",
           "#ab63fa",
           "#FFA15A",
           "#19d3f3",
           "#FF6692",
           "#B6E880",
           "#FF97FF",
           "#FECB52"
          ],
          "font": {
           "color": "#2a3f5f"
          },
          "geo": {
           "bgcolor": "white",
           "lakecolor": "white",
           "landcolor": "#E5ECF6",
           "showlakes": true,
           "showland": true,
           "subunitcolor": "white"
          },
          "hoverlabel": {
           "align": "left"
          },
          "hovermode": "closest",
          "mapbox": {
           "style": "light"
          },
          "paper_bgcolor": "white",
          "plot_bgcolor": "#E5ECF6",
          "polar": {
           "angularaxis": {
            "gridcolor": "white",
            "linecolor": "white",
            "ticks": ""
           },
           "bgcolor": "#E5ECF6",
           "radialaxis": {
            "gridcolor": "white",
            "linecolor": "white",
            "ticks": ""
           }
          },
          "scene": {
           "xaxis": {
            "backgroundcolor": "#E5ECF6",
            "gridcolor": "white",
            "gridwidth": 2,
            "linecolor": "white",
            "showbackground": true,
            "ticks": "",
            "zerolinecolor": "white"
           },
           "yaxis": {
            "backgroundcolor": "#E5ECF6",
            "gridcolor": "white",
            "gridwidth": 2,
            "linecolor": "white",
            "showbackground": true,
            "ticks": "",
            "zerolinecolor": "white"
           },
           "zaxis": {
            "backgroundcolor": "#E5ECF6",
            "gridcolor": "white",
            "gridwidth": 2,
            "linecolor": "white",
            "showbackground": true,
            "ticks": "",
            "zerolinecolor": "white"
           }
          },
          "shapedefaults": {
           "line": {
            "color": "#2a3f5f"
           }
          },
          "ternary": {
           "aaxis": {
            "gridcolor": "white",
            "linecolor": "white",
            "ticks": ""
           },
           "baxis": {
            "gridcolor": "white",
            "linecolor": "white",
            "ticks": ""
           },
           "bgcolor": "#E5ECF6",
           "caxis": {
            "gridcolor": "white",
            "linecolor": "white",
            "ticks": ""
           }
          },
          "title": {
           "x": 0.05
          },
          "xaxis": {
           "automargin": true,
           "gridcolor": "white",
           "linecolor": "white",
           "ticks": "",
           "title": {
            "standoff": 15
           },
           "zerolinecolor": "white",
           "zerolinewidth": 2
          },
          "yaxis": {
           "automargin": true,
           "gridcolor": "white",
           "linecolor": "white",
           "ticks": "",
           "title": {
            "standoff": 15
           },
           "zerolinecolor": "white",
           "zerolinewidth": 2
          }
         }
        },
        "title": {
         "text": "Triangle (as intersected by rays)"
        },
        "width": 600,
        "xaxis": {
         "anchor": "y",
         "constrain": "domain",
         "domain": [
          0,
          1
         ],
         "scaleanchor": "y"
        },
        "yaxis": {
         "anchor": "x",
         "autorange": true,
         "constrain": "domain",
         "domain": [
          0,
          1
         ]
        }
       }
      }
     },
     "metadata": {},
     "output_type": "display_data"
    }
   ],
   "source": [
    "@jaxtyped(typechecker=typeguard.typechecked)\n",
    "def raytrace_triangle(\n",
    "    rays: Float[Tensor, \"nrays rayPoints=2 dims=3\"],\n",
    "    triangle: Float[Tensor, \"trianglePoints=3 dims=3\"]\n",
    ") -> Bool[Tensor, \"nrays\"]:\n",
    "    '''\n",
    "    For each ray, return True if the triangle intersects that ray.\n",
    "    '''\n",
    "    nrays = rays.shape[0]\n",
    "    # (nrays, dims)\n",
    "    Os, Ds = rays.unbind(dim=1)\n",
    "\n",
    "    triangles = einops.repeat(triangle, 'points dims -> nrays points dims', nrays=nrays)\n",
    "    As, Bs, Cs = triangles.unbind(dim=1)\n",
    "\n",
    "\n",
    "    lhs_list = [-Ds, (Bs - As), (Cs - As)]\n",
    "    lhs = einops.rearrange(lhs_list, 'cols nrays dim -> nrays dim cols')\n",
    "\n",
    "    rhs = Os - As # (nrays, dims)\n",
    "\n",
    "    dets: Float[Tensor, \"nrays\"] = t.linalg.det(lhs)\n",
    "    is_singular = dets.abs() < 1e-8\n",
    "    lhs[is_singular] = t.eye(3, 3)\n",
    "\n",
    "\n",
    "    suv = t.linalg.solve(lhs, rhs)\n",
    "    s, u, v = suv.unbind(dim=1)\n",
    "\n",
    "    intersect_on_ray = s >= 0\n",
    "    intersect_on_segment = (0 <= u) & (0 <= v) & (v + u <= 1)\n",
    "\n",
    "    intersection: Bool[Tensor, \"nrays\"]= intersect_on_ray & intersect_on_segment & ~is_singular\n",
    "    return intersection\n",
    "\n",
    "\n",
    "\n",
    "\n",
    "A = t.tensor([1, 0.0, -0.5])\n",
    "B = t.tensor([1, -0.5, 0.0])\n",
    "C = t.tensor([1, 0.5, 0.5])\n",
    "num_pixels_y = num_pixels_z = 30\n",
    "y_limit = z_limit = 0.5\n",
    "\n",
    "# Plot triangle & rays\n",
    "test_triangle = t.stack([A, B, C], dim=0)\n",
    "rays2d = make_rays_2d(num_pixels_y, num_pixels_z, y_limit, z_limit)\n",
    "triangle_lines = t.stack([A, B, C, A, B, C], dim=0).reshape(-1, 2, 3)\n",
    "render_lines_with_plotly(rays2d, triangle_lines)\n",
    "\n",
    "# Calculate and display intersections\n",
    "intersects = raytrace_triangle(rays2d, test_triangle)\n",
    "img = intersects.reshape(num_pixels_y, num_pixels_z).int()\n",
    "imshow(img, origin=\"lower\", width=600, title=\"Triangle (as intersected by rays)\")"
   ]
  },
  {
   "cell_type": "code",
   "execution_count": null,
   "metadata": {},
   "outputs": [],
   "source": []
  },
  {
   "cell_type": "code",
   "execution_count": 37,
   "metadata": {},
   "outputs": [
    {
     "data": {
      "application/vnd.plotly.v1+json": {
       "config": {
        "plotlyServerURL": "https://plot.ly"
       },
       "data": [
        {
         "coloraxis": "coloraxis",
         "hovertemplate": "x: %{x}<br>y: %{y}<br>color: %{z}<extra></extra>",
         "name": "0",
         "type": "heatmap",
         "xaxis": "x",
         "yaxis": "y",
         "z": [
          [
           0,
           0,
           0,
           0,
           0,
           0,
           0,
           0,
           0,
           0,
           0,
           0,
           0,
           0,
           0,
           0,
           0,
           0,
           0,
           0,
           0,
           0,
           0,
           0,
           0,
           0,
           0,
           0,
           0,
           0
          ],
          [
           0,
           0,
           0,
           0,
           0,
           0,
           0,
           0,
           0,
           0,
           0,
           0,
           0,
           0,
           1,
           1,
           0,
           0,
           0,
           0,
           0,
           0,
           0,
           0,
           0,
           0,
           0,
           0,
           0,
           0
          ],
          [
           0,
           0,
           0,
           0,
           0,
           0,
           0,
           0,
           0,
           0,
           0,
           0,
           0,
           1,
           1,
           1,
           0,
           0,
           0,
           0,
           0,
           0,
           0,
           0,
           0,
           0,
           0,
           0,
           0,
           0
          ],
          [
           0,
           0,
           0,
           0,
           0,
           0,
           0,
           0,
           0,
           0,
           0,
           0,
           1,
           1,
           1,
           1,
           1,
           0,
           0,
           0,
           0,
           0,
           0,
           0,
           0,
           0,
           0,
           0,
           0,
           0
          ],
          [
           0,
           0,
           0,
           0,
           0,
           0,
           0,
           0,
           0,
           0,
           0,
           1,
           1,
           1,
           1,
           1,
           1,
           0,
           0,
           0,
           0,
           0,
           0,
           0,
           0,
           0,
           0,
           0,
           0,
           0
          ],
          [
           0,
           0,
           0,
           0,
           0,
           0,
           0,
           0,
           0,
           0,
           1,
           1,
           1,
           1,
           1,
           1,
           1,
           1,
           0,
           0,
           0,
           0,
           0,
           0,
           0,
           0,
           0,
           0,
           0,
           0
          ],
          [
           0,
           0,
           0,
           0,
           0,
           0,
           0,
           0,
           0,
           1,
           1,
           1,
           1,
           1,
           1,
           1,
           1,
           1,
           0,
           0,
           0,
           0,
           0,
           0,
           0,
           0,
           0,
           0,
           0,
           0
          ],
          [
           0,
           0,
           0,
           0,
           0,
           0,
           0,
           0,
           1,
           1,
           1,
           1,
           1,
           1,
           1,
           1,
           1,
           1,
           1,
           0,
           0,
           0,
           0,
           0,
           0,
           0,
           0,
           0,
           0,
           0
          ],
          [
           0,
           0,
           0,
           0,
           0,
           0,
           0,
           1,
           1,
           1,
           1,
           1,
           1,
           1,
           1,
           1,
           1,
           1,
           1,
           0,
           0,
           0,
           0,
           0,
           0,
           0,
           0,
           0,
           0,
           0
          ],
          [
           0,
           0,
           0,
           0,
           0,
           0,
           1,
           1,
           1,
           1,
           1,
           1,
           1,
           1,
           1,
           1,
           1,
           1,
           1,
           1,
           0,
           0,
           0,
           0,
           0,
           0,
           0,
           0,
           0,
           0
          ],
          [
           0,
           0,
           0,
           0,
           0,
           1,
           1,
           1,
           1,
           1,
           1,
           1,
           1,
           1,
           1,
           1,
           1,
           1,
           1,
           1,
           0,
           0,
           0,
           0,
           0,
           0,
           0,
           0,
           0,
           0
          ],
          [
           0,
           0,
           0,
           0,
           1,
           1,
           1,
           1,
           1,
           1,
           1,
           1,
           1,
           1,
           1,
           1,
           1,
           1,
           1,
           1,
           1,
           0,
           0,
           0,
           0,
           0,
           0,
           0,
           0,
           0
          ],
          [
           0,
           0,
           0,
           1,
           1,
           1,
           1,
           1,
           1,
           1,
           1,
           1,
           1,
           1,
           1,
           1,
           1,
           1,
           1,
           1,
           1,
           0,
           0,
           0,
           0,
           0,
           0,
           0,
           0,
           0
          ],
          [
           0,
           0,
           1,
           1,
           1,
           1,
           1,
           1,
           1,
           1,
           1,
           1,
           1,
           1,
           1,
           1,
           1,
           1,
           1,
           1,
           1,
           0,
           0,
           0,
           0,
           0,
           0,
           0,
           0,
           0
          ],
          [
           0,
           1,
           1,
           1,
           1,
           1,
           1,
           1,
           1,
           1,
           1,
           1,
           1,
           1,
           1,
           1,
           1,
           1,
           1,
           1,
           1,
           1,
           0,
           0,
           0,
           0,
           0,
           0,
           0,
           0
          ],
          [
           0,
           0,
           1,
           1,
           1,
           1,
           1,
           1,
           1,
           1,
           1,
           1,
           1,
           1,
           1,
           1,
           1,
           1,
           1,
           1,
           1,
           1,
           1,
           0,
           0,
           0,
           0,
           0,
           0,
           0
          ],
          [
           0,
           0,
           0,
           0,
           1,
           1,
           1,
           1,
           1,
           1,
           1,
           1,
           1,
           1,
           1,
           1,
           1,
           1,
           1,
           1,
           1,
           1,
           1,
           0,
           0,
           0,
           0,
           0,
           0,
           0
          ],
          [
           0,
           0,
           0,
           0,
           0,
           1,
           1,
           1,
           1,
           1,
           1,
           1,
           1,
           1,
           1,
           1,
           1,
           1,
           1,
           1,
           1,
           1,
           1,
           1,
           0,
           0,
           0,
           0,
           0,
           0
          ],
          [
           0,
           0,
           0,
           0,
           0,
           0,
           0,
           1,
           1,
           1,
           1,
           1,
           1,
           1,
           1,
           1,
           1,
           1,
           1,
           1,
           1,
           1,
           1,
           1,
           0,
           0,
           0,
           0,
           0,
           0
          ],
          [
           0,
           0,
           0,
           0,
           0,
           0,
           0,
           0,
           0,
           1,
           1,
           1,
           1,
           1,
           1,
           1,
           1,
           1,
           1,
           1,
           1,
           1,
           1,
           1,
           0,
           0,
           0,
           0,
           0,
           0
          ],
          [
           0,
           0,
           0,
           0,
           0,
           0,
           0,
           0,
           0,
           0,
           0,
           1,
           1,
           1,
           1,
           1,
           1,
           1,
           1,
           1,
           1,
           1,
           1,
           1,
           1,
           0,
           0,
           0,
           0,
           0
          ],
          [
           0,
           0,
           0,
           0,
           0,
           0,
           0,
           0,
           0,
           0,
           0,
           0,
           0,
           1,
           1,
           1,
           1,
           1,
           1,
           1,
           1,
           1,
           1,
           1,
           1,
           1,
           0,
           0,
           0,
           0
          ],
          [
           0,
           0,
           0,
           0,
           0,
           0,
           0,
           0,
           0,
           0,
           0,
           0,
           0,
           0,
           0,
           1,
           1,
           1,
           1,
           1,
           1,
           1,
           1,
           1,
           1,
           1,
           0,
           0,
           0,
           0
          ],
          [
           0,
           0,
           0,
           0,
           0,
           0,
           0,
           0,
           0,
           0,
           0,
           0,
           0,
           0,
           0,
           0,
           0,
           1,
           1,
           1,
           1,
           1,
           1,
           1,
           1,
           1,
           1,
           0,
           0,
           0
          ],
          [
           0,
           0,
           0,
           0,
           0,
           0,
           0,
           0,
           0,
           0,
           0,
           0,
           0,
           0,
           0,
           0,
           0,
           0,
           0,
           1,
           1,
           1,
           1,
           1,
           1,
           1,
           1,
           0,
           0,
           0
          ],
          [
           0,
           0,
           0,
           0,
           0,
           0,
           0,
           0,
           0,
           0,
           0,
           0,
           0,
           0,
           0,
           0,
           0,
           0,
           0,
           0,
           0,
           1,
           1,
           1,
           1,
           1,
           1,
           0,
           0,
           0
          ],
          [
           0,
           0,
           0,
           0,
           0,
           0,
           0,
           0,
           0,
           0,
           0,
           0,
           0,
           0,
           0,
           0,
           0,
           0,
           0,
           0,
           0,
           0,
           0,
           1,
           1,
           1,
           1,
           1,
           0,
           0
          ],
          [
           0,
           0,
           0,
           0,
           0,
           0,
           0,
           0,
           0,
           0,
           0,
           0,
           0,
           0,
           0,
           0,
           0,
           0,
           0,
           0,
           0,
           0,
           0,
           0,
           0,
           1,
           1,
           1,
           1,
           0
          ],
          [
           0,
           0,
           0,
           0,
           0,
           0,
           0,
           0,
           0,
           0,
           0,
           0,
           0,
           0,
           0,
           0,
           0,
           0,
           0,
           0,
           0,
           0,
           0,
           0,
           0,
           0,
           0,
           1,
           1,
           0
          ],
          [
           0,
           0,
           0,
           0,
           0,
           0,
           0,
           0,
           0,
           0,
           0,
           0,
           0,
           0,
           0,
           0,
           0,
           0,
           0,
           0,
           0,
           0,
           0,
           0,
           0,
           0,
           0,
           0,
           0,
           1
          ]
         ]
        }
       ],
       "layout": {
        "coloraxis": {
         "cmid": 0,
         "colorscale": [
          [
           0,
           "rgb(103,0,31)"
          ],
          [
           0.1,
           "rgb(178,24,43)"
          ],
          [
           0.2,
           "rgb(214,96,77)"
          ],
          [
           0.3,
           "rgb(244,165,130)"
          ],
          [
           0.4,
           "rgb(253,219,199)"
          ],
          [
           0.5,
           "rgb(247,247,247)"
          ],
          [
           0.6,
           "rgb(209,229,240)"
          ],
          [
           0.7,
           "rgb(146,197,222)"
          ],
          [
           0.8,
           "rgb(67,147,195)"
          ],
          [
           0.9,
           "rgb(33,102,172)"
          ],
          [
           1,
           "rgb(5,48,97)"
          ]
         ]
        },
        "template": {
         "data": {
          "bar": [
           {
            "error_x": {
             "color": "#2a3f5f"
            },
            "error_y": {
             "color": "#2a3f5f"
            },
            "marker": {
             "line": {
              "color": "#E5ECF6",
              "width": 0.5
             },
             "pattern": {
              "fillmode": "overlay",
              "size": 10,
              "solidity": 0.2
             }
            },
            "type": "bar"
           }
          ],
          "barpolar": [
           {
            "marker": {
             "line": {
              "color": "#E5ECF6",
              "width": 0.5
             },
             "pattern": {
              "fillmode": "overlay",
              "size": 10,
              "solidity": 0.2
             }
            },
            "type": "barpolar"
           }
          ],
          "carpet": [
           {
            "aaxis": {
             "endlinecolor": "#2a3f5f",
             "gridcolor": "white",
             "linecolor": "white",
             "minorgridcolor": "white",
             "startlinecolor": "#2a3f5f"
            },
            "baxis": {
             "endlinecolor": "#2a3f5f",
             "gridcolor": "white",
             "linecolor": "white",
             "minorgridcolor": "white",
             "startlinecolor": "#2a3f5f"
            },
            "type": "carpet"
           }
          ],
          "choropleth": [
           {
            "colorbar": {
             "outlinewidth": 0,
             "ticks": ""
            },
            "type": "choropleth"
           }
          ],
          "contour": [
           {
            "colorbar": {
             "outlinewidth": 0,
             "ticks": ""
            },
            "colorscale": [
             [
              0,
              "#0d0887"
             ],
             [
              0.1111111111111111,
              "#46039f"
             ],
             [
              0.2222222222222222,
              "#7201a8"
             ],
             [
              0.3333333333333333,
              "#9c179e"
             ],
             [
              0.4444444444444444,
              "#bd3786"
             ],
             [
              0.5555555555555556,
              "#d8576b"
             ],
             [
              0.6666666666666666,
              "#ed7953"
             ],
             [
              0.7777777777777778,
              "#fb9f3a"
             ],
             [
              0.8888888888888888,
              "#fdca26"
             ],
             [
              1,
              "#f0f921"
             ]
            ],
            "type": "contour"
           }
          ],
          "contourcarpet": [
           {
            "colorbar": {
             "outlinewidth": 0,
             "ticks": ""
            },
            "type": "contourcarpet"
           }
          ],
          "heatmap": [
           {
            "colorbar": {
             "outlinewidth": 0,
             "ticks": ""
            },
            "colorscale": [
             [
              0,
              "#0d0887"
             ],
             [
              0.1111111111111111,
              "#46039f"
             ],
             [
              0.2222222222222222,
              "#7201a8"
             ],
             [
              0.3333333333333333,
              "#9c179e"
             ],
             [
              0.4444444444444444,
              "#bd3786"
             ],
             [
              0.5555555555555556,
              "#d8576b"
             ],
             [
              0.6666666666666666,
              "#ed7953"
             ],
             [
              0.7777777777777778,
              "#fb9f3a"
             ],
             [
              0.8888888888888888,
              "#fdca26"
             ],
             [
              1,
              "#f0f921"
             ]
            ],
            "type": "heatmap"
           }
          ],
          "heatmapgl": [
           {
            "colorbar": {
             "outlinewidth": 0,
             "ticks": ""
            },
            "colorscale": [
             [
              0,
              "#0d0887"
             ],
             [
              0.1111111111111111,
              "#46039f"
             ],
             [
              0.2222222222222222,
              "#7201a8"
             ],
             [
              0.3333333333333333,
              "#9c179e"
             ],
             [
              0.4444444444444444,
              "#bd3786"
             ],
             [
              0.5555555555555556,
              "#d8576b"
             ],
             [
              0.6666666666666666,
              "#ed7953"
             ],
             [
              0.7777777777777778,
              "#fb9f3a"
             ],
             [
              0.8888888888888888,
              "#fdca26"
             ],
             [
              1,
              "#f0f921"
             ]
            ],
            "type": "heatmapgl"
           }
          ],
          "histogram": [
           {
            "marker": {
             "pattern": {
              "fillmode": "overlay",
              "size": 10,
              "solidity": 0.2
             }
            },
            "type": "histogram"
           }
          ],
          "histogram2d": [
           {
            "colorbar": {
             "outlinewidth": 0,
             "ticks": ""
            },
            "colorscale": [
             [
              0,
              "#0d0887"
             ],
             [
              0.1111111111111111,
              "#46039f"
             ],
             [
              0.2222222222222222,
              "#7201a8"
             ],
             [
              0.3333333333333333,
              "#9c179e"
             ],
             [
              0.4444444444444444,
              "#bd3786"
             ],
             [
              0.5555555555555556,
              "#d8576b"
             ],
             [
              0.6666666666666666,
              "#ed7953"
             ],
             [
              0.7777777777777778,
              "#fb9f3a"
             ],
             [
              0.8888888888888888,
              "#fdca26"
             ],
             [
              1,
              "#f0f921"
             ]
            ],
            "type": "histogram2d"
           }
          ],
          "histogram2dcontour": [
           {
            "colorbar": {
             "outlinewidth": 0,
             "ticks": ""
            },
            "colorscale": [
             [
              0,
              "#0d0887"
             ],
             [
              0.1111111111111111,
              "#46039f"
             ],
             [
              0.2222222222222222,
              "#7201a8"
             ],
             [
              0.3333333333333333,
              "#9c179e"
             ],
             [
              0.4444444444444444,
              "#bd3786"
             ],
             [
              0.5555555555555556,
              "#d8576b"
             ],
             [
              0.6666666666666666,
              "#ed7953"
             ],
             [
              0.7777777777777778,
              "#fb9f3a"
             ],
             [
              0.8888888888888888,
              "#fdca26"
             ],
             [
              1,
              "#f0f921"
             ]
            ],
            "type": "histogram2dcontour"
           }
          ],
          "mesh3d": [
           {
            "colorbar": {
             "outlinewidth": 0,
             "ticks": ""
            },
            "type": "mesh3d"
           }
          ],
          "parcoords": [
           {
            "line": {
             "colorbar": {
              "outlinewidth": 0,
              "ticks": ""
             }
            },
            "type": "parcoords"
           }
          ],
          "pie": [
           {
            "automargin": true,
            "type": "pie"
           }
          ],
          "scatter": [
           {
            "fillpattern": {
             "fillmode": "overlay",
             "size": 10,
             "solidity": 0.2
            },
            "type": "scatter"
           }
          ],
          "scatter3d": [
           {
            "line": {
             "colorbar": {
              "outlinewidth": 0,
              "ticks": ""
             }
            },
            "marker": {
             "colorbar": {
              "outlinewidth": 0,
              "ticks": ""
             }
            },
            "type": "scatter3d"
           }
          ],
          "scattercarpet": [
           {
            "marker": {
             "colorbar": {
              "outlinewidth": 0,
              "ticks": ""
             }
            },
            "type": "scattercarpet"
           }
          ],
          "scattergeo": [
           {
            "marker": {
             "colorbar": {
              "outlinewidth": 0,
              "ticks": ""
             }
            },
            "type": "scattergeo"
           }
          ],
          "scattergl": [
           {
            "marker": {
             "colorbar": {
              "outlinewidth": 0,
              "ticks": ""
             }
            },
            "type": "scattergl"
           }
          ],
          "scattermapbox": [
           {
            "marker": {
             "colorbar": {
              "outlinewidth": 0,
              "ticks": ""
             }
            },
            "type": "scattermapbox"
           }
          ],
          "scatterpolar": [
           {
            "marker": {
             "colorbar": {
              "outlinewidth": 0,
              "ticks": ""
             }
            },
            "type": "scatterpolar"
           }
          ],
          "scatterpolargl": [
           {
            "marker": {
             "colorbar": {
              "outlinewidth": 0,
              "ticks": ""
             }
            },
            "type": "scatterpolargl"
           }
          ],
          "scatterternary": [
           {
            "marker": {
             "colorbar": {
              "outlinewidth": 0,
              "ticks": ""
             }
            },
            "type": "scatterternary"
           }
          ],
          "surface": [
           {
            "colorbar": {
             "outlinewidth": 0,
             "ticks": ""
            },
            "colorscale": [
             [
              0,
              "#0d0887"
             ],
             [
              0.1111111111111111,
              "#46039f"
             ],
             [
              0.2222222222222222,
              "#7201a8"
             ],
             [
              0.3333333333333333,
              "#9c179e"
             ],
             [
              0.4444444444444444,
              "#bd3786"
             ],
             [
              0.5555555555555556,
              "#d8576b"
             ],
             [
              0.6666666666666666,
              "#ed7953"
             ],
             [
              0.7777777777777778,
              "#fb9f3a"
             ],
             [
              0.8888888888888888,
              "#fdca26"
             ],
             [
              1,
              "#f0f921"
             ]
            ],
            "type": "surface"
           }
          ],
          "table": [
           {
            "cells": {
             "fill": {
              "color": "#EBF0F8"
             },
             "line": {
              "color": "white"
             }
            },
            "header": {
             "fill": {
              "color": "#C8D4E3"
             },
             "line": {
              "color": "white"
             }
            },
            "type": "table"
           }
          ]
         },
         "layout": {
          "annotationdefaults": {
           "arrowcolor": "#2a3f5f",
           "arrowhead": 0,
           "arrowwidth": 1
          },
          "autotypenumbers": "strict",
          "coloraxis": {
           "colorbar": {
            "outlinewidth": 0,
            "ticks": ""
           }
          },
          "colorscale": {
           "diverging": [
            [
             0,
             "#8e0152"
            ],
            [
             0.1,
             "#c51b7d"
            ],
            [
             0.2,
             "#de77ae"
            ],
            [
             0.3,
             "#f1b6da"
            ],
            [
             0.4,
             "#fde0ef"
            ],
            [
             0.5,
             "#f7f7f7"
            ],
            [
             0.6,
             "#e6f5d0"
            ],
            [
             0.7,
             "#b8e186"
            ],
            [
             0.8,
             "#7fbc41"
            ],
            [
             0.9,
             "#4d9221"
            ],
            [
             1,
             "#276419"
            ]
           ],
           "sequential": [
            [
             0,
             "#0d0887"
            ],
            [
             0.1111111111111111,
             "#46039f"
            ],
            [
             0.2222222222222222,
             "#7201a8"
            ],
            [
             0.3333333333333333,
             "#9c179e"
            ],
            [
             0.4444444444444444,
             "#bd3786"
            ],
            [
             0.5555555555555556,
             "#d8576b"
            ],
            [
             0.6666666666666666,
             "#ed7953"
            ],
            [
             0.7777777777777778,
             "#fb9f3a"
            ],
            [
             0.8888888888888888,
             "#fdca26"
            ],
            [
             1,
             "#f0f921"
            ]
           ],
           "sequentialminus": [
            [
             0,
             "#0d0887"
            ],
            [
             0.1111111111111111,
             "#46039f"
            ],
            [
             0.2222222222222222,
             "#7201a8"
            ],
            [
             0.3333333333333333,
             "#9c179e"
            ],
            [
             0.4444444444444444,
             "#bd3786"
            ],
            [
             0.5555555555555556,
             "#d8576b"
            ],
            [
             0.6666666666666666,
             "#ed7953"
            ],
            [
             0.7777777777777778,
             "#fb9f3a"
            ],
            [
             0.8888888888888888,
             "#fdca26"
            ],
            [
             1,
             "#f0f921"
            ]
           ]
          },
          "colorway": [
           "#636efa",
           "#EF553B",
           "#00cc96",
           "#ab63fa",
           "#FFA15A",
           "#19d3f3",
           "#FF6692",
           "#B6E880",
           "#FF97FF",
           "#FECB52"
          ],
          "font": {
           "color": "#2a3f5f"
          },
          "geo": {
           "bgcolor": "white",
           "lakecolor": "white",
           "landcolor": "#E5ECF6",
           "showlakes": true,
           "showland": true,
           "subunitcolor": "white"
          },
          "hoverlabel": {
           "align": "left"
          },
          "hovermode": "closest",
          "mapbox": {
           "style": "light"
          },
          "paper_bgcolor": "white",
          "plot_bgcolor": "#E5ECF6",
          "polar": {
           "angularaxis": {
            "gridcolor": "white",
            "linecolor": "white",
            "ticks": ""
           },
           "bgcolor": "#E5ECF6",
           "radialaxis": {
            "gridcolor": "white",
            "linecolor": "white",
            "ticks": ""
           }
          },
          "scene": {
           "xaxis": {
            "backgroundcolor": "#E5ECF6",
            "gridcolor": "white",
            "gridwidth": 2,
            "linecolor": "white",
            "showbackground": true,
            "ticks": "",
            "zerolinecolor": "white"
           },
           "yaxis": {
            "backgroundcolor": "#E5ECF6",
            "gridcolor": "white",
            "gridwidth": 2,
            "linecolor": "white",
            "showbackground": true,
            "ticks": "",
            "zerolinecolor": "white"
           },
           "zaxis": {
            "backgroundcolor": "#E5ECF6",
            "gridcolor": "white",
            "gridwidth": 2,
            "linecolor": "white",
            "showbackground": true,
            "ticks": "",
            "zerolinecolor": "white"
           }
          },
          "shapedefaults": {
           "line": {
            "color": "#2a3f5f"
           }
          },
          "ternary": {
           "aaxis": {
            "gridcolor": "white",
            "linecolor": "white",
            "ticks": ""
           },
           "baxis": {
            "gridcolor": "white",
            "linecolor": "white",
            "ticks": ""
           },
           "bgcolor": "#E5ECF6",
           "caxis": {
            "gridcolor": "white",
            "linecolor": "white",
            "ticks": ""
           }
          },
          "title": {
           "x": 0.05
          },
          "xaxis": {
           "automargin": true,
           "gridcolor": "white",
           "linecolor": "white",
           "ticks": "",
           "title": {
            "standoff": 15
           },
           "zerolinecolor": "white",
           "zerolinewidth": 2
          },
          "yaxis": {
           "automargin": true,
           "gridcolor": "white",
           "linecolor": "white",
           "ticks": "",
           "title": {
            "standoff": 15
           },
           "zerolinecolor": "white",
           "zerolinewidth": 2
          }
         }
        },
        "title": {
         "text": "Triangle (as intersected by rays)"
        },
        "width": 600,
        "xaxis": {
         "anchor": "y",
         "constrain": "domain",
         "domain": [
          0,
          1
         ],
         "scaleanchor": "y"
        },
        "yaxis": {
         "anchor": "x",
         "autorange": true,
         "constrain": "domain",
         "domain": [
          0,
          1
         ]
        }
       }
      }
     },
     "metadata": {},
     "output_type": "display_data"
    }
   ],
   "source": [
    "def raytrace_triangle_with_bug(\n",
    "    rays: Float[Tensor, \"nrays rayPoints=2 dims=3\"],\n",
    "    triangle: Float[Tensor, \"trianglePoints=3 dims=3\"]\n",
    ") -> Bool[Tensor, \"nrays\"]:\n",
    "    '''\n",
    "    For each ray, return True if the triangle intersects that ray.\n",
    "    '''\n",
    "    NR = rays.size(0)\n",
    "\n",
    "    A, B, C = einops.repeat(triangle, \"pts dims -> pts NR dims\", NR=NR)\n",
    "\n",
    "    O, D = rays.unbind(1)\n",
    "\n",
    "    mat = t.stack([- D, B - A, C - A], dim=-1)\n",
    "\n",
    "    dets = t.linalg.det(mat)\n",
    "    is_singular = dets.abs() < 1e-8\n",
    "    mat[is_singular] = t.eye(3)\n",
    "\n",
    "    vec = O - A\n",
    "\n",
    "    sol = t.linalg.solve(mat, vec)\n",
    "    s, u, v = sol.unbind(dim=-1)\n",
    "\n",
    "    return ((u >= 0) & (v >= 0) & (u + v <= 1) & ~is_singular)\n",
    "\n",
    "\n",
    "intersects = raytrace_triangle_with_bug(rays2d, test_triangle)\n",
    "img = intersects.reshape(num_pixels_y, num_pixels_z).int()\n",
    "imshow(img, origin=\"lower\", width=600, title=\"Triangle (as intersected by rays)\")"
   ]
  },
  {
   "cell_type": "code",
   "execution_count": null,
   "metadata": {},
   "outputs": [],
   "source": []
  },
  {
   "cell_type": "code",
   "execution_count": 38,
   "metadata": {},
   "outputs": [
    {
     "name": "stderr",
     "output_type": "stream",
     "text": [
      "/var/folders/68/wlqmcq9n10s_53tg797666mws3kfyj/T/ipykernel_3476/1364868960.py:2: FutureWarning:\n",
      "\n",
      "You are using `torch.load` with `weights_only=False` (the current default value), which uses the default pickle module implicitly. It is possible to construct malicious pickle data which will execute arbitrary code during unpickling (See https://github.com/pytorch/pytorch/blob/main/SECURITY.md#untrusted-models for more details). In a future release, the default value for `weights_only` will be flipped to `True`. This limits the functions that could be executed during unpickling. Arbitrary objects will no longer be allowed to be loaded via this mode unless they are explicitly allowlisted by the user via `torch.serialization.add_safe_globals`. We recommend you start setting `weights_only=True` for any use case where you don't have full control of the loaded file. Please open an issue on GitHub for any issues related to this experimental feature.\n",
      "\n"
     ]
    }
   ],
   "source": [
    "with open(section_dir / \"pikachu.pt\", \"rb\") as f:\n",
    "    triangles = t.load(f)"
   ]
  },
  {
   "cell_type": "code",
   "execution_count": null,
   "metadata": {},
   "outputs": [],
   "source": []
  },
  {
   "cell_type": "code",
   "execution_count": 63,
   "metadata": {},
   "outputs": [
    {
     "name": "stderr",
     "output_type": "stream",
     "text": [
      "/var/folders/68/wlqmcq9n10s_53tg797666mws3kfyj/T/ipykernel_3476/2363678849.py:30: UserWarning:\n",
      "\n",
      "Use of index_put_ on expanded tensors is deprecated. Please clone() the tensor before performing this operation. This also applies to advanced indexing e.g. tensor[indices] = tensor (Triggered internally at /Users/runner/work/pytorch/pytorch/pytorch/aten/src/ATen/native/TensorAdvancedIndexing.cpp:719.)\n",
      "\n"
     ]
    },
    {
     "ename": "RuntimeError",
     "evalue": "linalg.solve: Incompatible shapes of A and B for the equation AX = B (3x3 and 412x3)",
     "output_type": "error",
     "traceback": [
      "\u001b[0;31m---------------------------------------------------------------------------\u001b[0m",
      "\u001b[0;31mRuntimeError\u001b[0m                              Traceback (most recent call last)",
      "Cell \u001b[0;32mIn[63], line 54\u001b[0m\n\u001b[1;32m     52\u001b[0m rays \u001b[38;5;241m=\u001b[39m make_rays_2d(num_pixels_y, num_pixels_z, y_limit, z_limit)\n\u001b[1;32m     53\u001b[0m rays[:, \u001b[38;5;241m0\u001b[39m] \u001b[38;5;241m=\u001b[39m t\u001b[38;5;241m.\u001b[39mtensor([\u001b[38;5;241m-\u001b[39m\u001b[38;5;241m2\u001b[39m, \u001b[38;5;241m0.0\u001b[39m, \u001b[38;5;241m0.0\u001b[39m])\n\u001b[0;32m---> 54\u001b[0m dists \u001b[38;5;241m=\u001b[39m \u001b[43mraytrace_mesh\u001b[49m\u001b[43m(\u001b[49m\u001b[43mrays\u001b[49m\u001b[43m,\u001b[49m\u001b[43m \u001b[49m\u001b[43mtriangles\u001b[49m\u001b[43m)\u001b[49m\n\u001b[1;32m     55\u001b[0m intersects \u001b[38;5;241m=\u001b[39m t\u001b[38;5;241m.\u001b[39misfinite(dists)\u001b[38;5;241m.\u001b[39mview(num_pixels_y, num_pixels_z)\n\u001b[1;32m     56\u001b[0m dists_square \u001b[38;5;241m=\u001b[39m dists\u001b[38;5;241m.\u001b[39mview(num_pixels_y, num_pixels_z)\n",
      "    \u001b[0;31m[... skipping hidden 1 frame]\u001b[0m\n",
      "File \u001b[0;32m~/miniconda3/envs/arena-env/lib/python3.11/site-packages/jaxtyping/_decorator.py:449\u001b[0m, in \u001b[0;36mjaxtyped.<locals>.wrapped_fn_impl\u001b[0;34m(args, kwargs, bound, memos)\u001b[0m\n\u001b[1;32m    446\u001b[0m             \u001b[38;5;28;01mraise\u001b[39;00m TypeCheckError(msg) \u001b[38;5;28;01mfrom\u001b[39;00m \u001b[38;5;21;01me\u001b[39;00m\n\u001b[1;32m    448\u001b[0m \u001b[38;5;66;03m# Actually call the function.\u001b[39;00m\n\u001b[0;32m--> 449\u001b[0m out \u001b[38;5;241m=\u001b[39m \u001b[43mfn\u001b[49m\u001b[43m(\u001b[49m\u001b[38;5;241;43m*\u001b[39;49m\u001b[43margs\u001b[49m\u001b[43m,\u001b[49m\u001b[43m \u001b[49m\u001b[38;5;241;43m*\u001b[39;49m\u001b[38;5;241;43m*\u001b[39;49m\u001b[43mkwargs\u001b[49m\u001b[43m)\u001b[49m\n\u001b[1;32m    451\u001b[0m \u001b[38;5;28;01mif\u001b[39;00m full_signature\u001b[38;5;241m.\u001b[39mreturn_annotation \u001b[38;5;129;01mis\u001b[39;00m \u001b[38;5;129;01mnot\u001b[39;00m inspect\u001b[38;5;241m.\u001b[39mSignature\u001b[38;5;241m.\u001b[39mempty:\n\u001b[1;32m    452\u001b[0m     \u001b[38;5;66;03m# Now type-check the return value. We need to include the\u001b[39;00m\n\u001b[1;32m    453\u001b[0m     \u001b[38;5;66;03m# parameters in the type-checking here in case there are any\u001b[39;00m\n\u001b[0;32m   (...)\u001b[0m\n\u001b[1;32m    464\u001b[0m     \u001b[38;5;66;03m# checking of the parameters. Unfortunately there doesn't seem\u001b[39;00m\n\u001b[1;32m    465\u001b[0m     \u001b[38;5;66;03m# to be a way around that, so c'est la vie.\u001b[39;00m\n\u001b[1;32m    466\u001b[0m     kwargs[output_name] \u001b[38;5;241m=\u001b[39m out\n",
      "Cell \u001b[0;32mIn[63], line 33\u001b[0m, in \u001b[0;36mraytrace_mesh\u001b[0;34m(rays, triangles)\u001b[0m\n\u001b[1;32m     29\u001b[0m is_singular \u001b[38;5;241m=\u001b[39m dets\u001b[38;5;241m.\u001b[39mabs() \u001b[38;5;241m<\u001b[39m \u001b[38;5;241m1e-8\u001b[39m\n\u001b[1;32m     30\u001b[0m lhs[is_singular] \u001b[38;5;241m=\u001b[39m t\u001b[38;5;241m.\u001b[39meye(\u001b[38;5;241m3\u001b[39m, \u001b[38;5;241m3\u001b[39m)\n\u001b[0;32m---> 33\u001b[0m suv \u001b[38;5;241m=\u001b[39m \u001b[43mt\u001b[49m\u001b[38;5;241;43m.\u001b[39;49m\u001b[43mlinalg\u001b[49m\u001b[38;5;241;43m.\u001b[39;49m\u001b[43msolve\u001b[49m\u001b[43m(\u001b[49m\u001b[43mlhs\u001b[49m\u001b[43m,\u001b[49m\u001b[43m \u001b[49m\u001b[43mrhs\u001b[49m\u001b[43m)\u001b[49m\n\u001b[1;32m     34\u001b[0m s, u, v \u001b[38;5;241m=\u001b[39m suv\u001b[38;5;241m.\u001b[39munbind(dim\u001b[38;5;241m=\u001b[39m\u001b[38;5;241m2\u001b[39m)\n\u001b[1;32m     36\u001b[0m intersect_on_ray \u001b[38;5;241m=\u001b[39m s \u001b[38;5;241m>\u001b[39m\u001b[38;5;241m=\u001b[39m \u001b[38;5;241m0\u001b[39m\n",
      "\u001b[0;31mRuntimeError\u001b[0m: linalg.solve: Incompatible shapes of A and B for the equation AX = B (3x3 and 412x3)"
     ]
    }
   ],
   "source": [
    "@jaxtyped(typechecker=typeguard.typechecked)\n",
    "def raytrace_mesh(\n",
    "    rays: Float[Tensor, \"nrays rayPoints=2 dims=3\"],\n",
    "    triangles: Float[Tensor, \"ntriangles trianglePoints=3 dims=3\"]\n",
    ") -> Float[Tensor, \"nrays\"]:\n",
    "    '''\n",
    "    For each ray, return the distance to the closest intersecting triangle, or infinity.\n",
    "    '''\n",
    "    nrays = rays.size(0)\n",
    "    ntriangles = triangles.size(0)\n",
    "    rays = einops.repeat(rays, \"nrays rpoints dims -> nrays ntriangles rpoints dims\", ntriangles=ntriangles)\n",
    "    # (nrays, ntriangles, dims)\n",
    "    Os, Ds = rays.unbind(dim=2)\n",
    "\n",
    "    triangles = einops.repeat(triangles, 'ntriangles tpoints dims -> nrays ntriangles tpoints dims', nrays=nrays)\n",
    "    As, Bs, Cs = triangles.unbind(dim=2)\n",
    "\n",
    "    tria_min_x = triangles[:, :, :, 0].min(2).values\n",
    "    distances = tria_min_x - rays[:, :, 0, 0] \n",
    "\n",
    "\n",
    "    lhs_list = [-Ds, (Bs - As), (Cs - As)]\n",
    "    lhs = einops.rearrange(lhs_list, 'cols nrays ntria dim -> nrays ntria dim cols')\n",
    "    lhs = einops.repeat(lhs, 'a b c d -> 4 a b c d')\n",
    "\n",
    "    rhs = Os - As # (nrays, ntriangles, dims)\n",
    "\n",
    "    dets: Float[Tensor, \"nrays ntria\"] = t.linalg.det(lhs)\n",
    "    is_singular = dets.abs() < 1e-8\n",
    "    lhs[is_singular] = t.eye(3, 3)\n",
    "\n",
    "\n",
    "    suv = t.linalg.solve(lhs, rhs)\n",
    "    s, u, v = suv.unbind(dim=2)\n",
    "\n",
    "    intersect_on_ray = s >= 0\n",
    "    intersect_on_segment = (0 <= u) & (0 <= v) & (v + u <= 1)\n",
    "\n",
    "    intersection: Bool[Tensor, \"nrays ntria\"]= intersect_on_ray & intersect_on_segment & ~is_singular\n",
    "    \n",
    "    distances[~intersection] = float(\"inf\")\n",
    "    min_distances = distances.min(dim=1).values\n",
    "\n",
    "\n",
    "    return min_distances\n",
    "\n",
    "\n",
    "num_pixels_y = 120\n",
    "num_pixels_z = 120\n",
    "y_limit = z_limit = 1\n",
    "\n",
    "rays = make_rays_2d(num_pixels_y, num_pixels_z, y_limit, z_limit)\n",
    "rays[:, 0] = t.tensor([-2, 0.0, 0.0])\n",
    "dists = raytrace_mesh(rays, triangles)\n",
    "intersects = t.isfinite(dists).view(num_pixels_y, num_pixels_z)\n",
    "dists_square = dists.view(num_pixels_y, num_pixels_z)\n",
    "img = t.stack([intersects, dists_square], dim=0)\n",
    "\n",
    "fig = px.imshow(img, facet_col=0, origin=\"lower\", color_continuous_scale=\"magma\", width=1000)\n",
    "fig.update_layout(coloraxis_showscale=False)\n",
    "for i, text in enumerate([\"Intersects\", \"Distance\"]): \n",
    "    fig.layout.annotations[i]['text'] = text\n",
    "fig.show()"
   ]
  },
  {
   "cell_type": "code",
   "execution_count": null,
   "metadata": {},
   "outputs": [],
   "source": []
  }
 ],
 "metadata": {
  "kernelspec": {
   "display_name": "arena-env",
   "language": "python",
   "name": "python3"
  },
  "language_info": {
   "codemirror_mode": {
    "name": "ipython",
    "version": 3
   },
   "file_extension": ".py",
   "mimetype": "text/x-python",
   "name": "python",
   "nbconvert_exporter": "python",
   "pygments_lexer": "ipython3",
   "version": "3.11.9"
  }
 },
 "nbformat": 4,
 "nbformat_minor": 2
}
